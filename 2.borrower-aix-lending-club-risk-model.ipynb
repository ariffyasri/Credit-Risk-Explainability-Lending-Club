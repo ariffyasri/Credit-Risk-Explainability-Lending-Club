{
 "cells": [
  {
   "cell_type": "code",
   "execution_count": 1,
   "metadata": {},
   "outputs": [],
   "source": [
    "from ibmdbpy import IdaDataBase, IdaDataFrame\n",
    "import pyodbc\n",
    "import pandas as pd\n",
    "import numpy as np\n",
    "import matplotlib.pyplot as plt\n",
    "import re\n",
    "import seaborn as sns\n",
    "import joblib\n",
    "from sklearn.metrics import accuracy_score, precision_score, recall_score, confusion_matrix, precision_recall_curve\n"
   ]
  },
  {
   "cell_type": "code",
   "execution_count": 2,
   "metadata": {},
   "outputs": [],
   "source": [
    "credentials_1 = {\n",
    "    'username': 'username',\n",
    "    'password': \"\"\"password\"\"\",\n",
    "    'sg_service_url': 'url',\n",
    "    'database': 'BLUDB',\n",
    "    'host': 'host',\n",
    "    'port': 'port',\n",
    "    'auto_discovery': 'true',\n",
    "}\n",
    "df = IdaDataFrame(idadb_c568b279819b490d915961aba3c756c5, 'BXJ33585.LENDINGCLUB').as_dataframe()\n",
    "df.columns = df.columns.str.lower()"
   ]
  },
  {
   "cell_type": "code",
   "execution_count": 9,
   "metadata": {},
   "outputs": [
    {
     "data": {
      "text/html": [
       "<div>\n",
       "<style scoped>\n",
       "    .dataframe tbody tr th:only-of-type {\n",
       "        vertical-align: middle;\n",
       "    }\n",
       "\n",
       "    .dataframe tbody tr th {\n",
       "        vertical-align: top;\n",
       "    }\n",
       "\n",
       "    .dataframe thead th {\n",
       "        text-align: right;\n",
       "    }\n",
       "</style>\n",
       "<table border=\"1\" class=\"dataframe\">\n",
       "  <thead>\n",
       "    <tr style=\"text-align: right;\">\n",
       "      <th></th>\n",
       "      <th>id</th>\n",
       "      <th>loan_amnt</th>\n",
       "      <th>funded_amnt</th>\n",
       "      <th>funded_amnt_inv</th>\n",
       "      <th>term</th>\n",
       "      <th>int_rate</th>\n",
       "      <th>installment</th>\n",
       "      <th>grade</th>\n",
       "      <th>sub_grade</th>\n",
       "      <th>emp_length</th>\n",
       "      <th>...</th>\n",
       "      <th>pub_rec_bankruptcies</th>\n",
       "      <th>tax_liens</th>\n",
       "      <th>tot_hi_cred_lim</th>\n",
       "      <th>total_bal_ex_mort</th>\n",
       "      <th>total_bc_limit</th>\n",
       "      <th>total_il_high_credit_limit</th>\n",
       "      <th>hardship_flag</th>\n",
       "      <th>disbursement_method</th>\n",
       "      <th>debt_settlement_flag</th>\n",
       "      <th>grade_predicted</th>\n",
       "    </tr>\n",
       "  </thead>\n",
       "  <tbody>\n",
       "    <tr>\n",
       "      <th>0</th>\n",
       "      <td>68355089</td>\n",
       "      <td>24700.0</td>\n",
       "      <td>24700.0</td>\n",
       "      <td>24700.0</td>\n",
       "      <td>36 months</td>\n",
       "      <td>11.99</td>\n",
       "      <td>820.28</td>\n",
       "      <td>C</td>\n",
       "      <td>C1</td>\n",
       "      <td>10+ years</td>\n",
       "      <td>...</td>\n",
       "      <td>0.0</td>\n",
       "      <td>0.0</td>\n",
       "      <td>314017.0</td>\n",
       "      <td>39475.0</td>\n",
       "      <td>79300.0</td>\n",
       "      <td>24667.0</td>\n",
       "      <td>N</td>\n",
       "      <td>Cash</td>\n",
       "      <td>N</td>\n",
       "      <td>C</td>\n",
       "    </tr>\n",
       "    <tr>\n",
       "      <th>1</th>\n",
       "      <td>68476807</td>\n",
       "      <td>10400.0</td>\n",
       "      <td>10400.0</td>\n",
       "      <td>10400.0</td>\n",
       "      <td>60 months</td>\n",
       "      <td>22.45</td>\n",
       "      <td>289.91</td>\n",
       "      <td>F</td>\n",
       "      <td>F1</td>\n",
       "      <td>3 years</td>\n",
       "      <td>...</td>\n",
       "      <td>0.0</td>\n",
       "      <td>0.0</td>\n",
       "      <td>439570.0</td>\n",
       "      <td>95768.0</td>\n",
       "      <td>20300.0</td>\n",
       "      <td>88097.0</td>\n",
       "      <td>N</td>\n",
       "      <td>Cash</td>\n",
       "      <td>N</td>\n",
       "      <td>G</td>\n",
       "    </tr>\n",
       "    <tr>\n",
       "      <th>2</th>\n",
       "      <td>68446771</td>\n",
       "      <td>7200.0</td>\n",
       "      <td>7200.0</td>\n",
       "      <td>7200.0</td>\n",
       "      <td>36 months</td>\n",
       "      <td>15.77</td>\n",
       "      <td>252.32</td>\n",
       "      <td>D</td>\n",
       "      <td>D1</td>\n",
       "      <td>&lt; 1 year</td>\n",
       "      <td>...</td>\n",
       "      <td>0.0</td>\n",
       "      <td>1.0</td>\n",
       "      <td>255047.0</td>\n",
       "      <td>275831.0</td>\n",
       "      <td>6700.0</td>\n",
       "      <td>246447.0</td>\n",
       "      <td>N</td>\n",
       "      <td>Cash</td>\n",
       "      <td>N</td>\n",
       "      <td>B</td>\n",
       "    </tr>\n",
       "    <tr>\n",
       "      <th>3</th>\n",
       "      <td>68376217</td>\n",
       "      <td>23100.0</td>\n",
       "      <td>23100.0</td>\n",
       "      <td>23100.0</td>\n",
       "      <td>60 months</td>\n",
       "      <td>20.50</td>\n",
       "      <td>618.46</td>\n",
       "      <td>E</td>\n",
       "      <td>E4</td>\n",
       "      <td>2 years</td>\n",
       "      <td>...</td>\n",
       "      <td>0.0</td>\n",
       "      <td>0.0</td>\n",
       "      <td>102524.0</td>\n",
       "      <td>55048.0</td>\n",
       "      <td>21700.0</td>\n",
       "      <td>80824.0</td>\n",
       "      <td>N</td>\n",
       "      <td>Cash</td>\n",
       "      <td>N</td>\n",
       "      <td>G</td>\n",
       "    </tr>\n",
       "    <tr>\n",
       "      <th>4</th>\n",
       "      <td>68446746</td>\n",
       "      <td>12000.0</td>\n",
       "      <td>12000.0</td>\n",
       "      <td>12000.0</td>\n",
       "      <td>36 months</td>\n",
       "      <td>5.32</td>\n",
       "      <td>361.38</td>\n",
       "      <td>A</td>\n",
       "      <td>A1</td>\n",
       "      <td>4 years</td>\n",
       "      <td>...</td>\n",
       "      <td>0.0</td>\n",
       "      <td>0.0</td>\n",
       "      <td>183062.0</td>\n",
       "      <td>11146.0</td>\n",
       "      <td>8500.0</td>\n",
       "      <td>29053.0</td>\n",
       "      <td>N</td>\n",
       "      <td>Cash</td>\n",
       "      <td>N</td>\n",
       "      <td>A</td>\n",
       "    </tr>\n",
       "  </tbody>\n",
       "</table>\n",
       "<p>5 rows × 103 columns</p>\n",
       "</div>"
      ],
      "text/plain": [
       "         id  loan_amnt  funded_amnt  funded_amnt_inv        term  int_rate  \\\n",
       "0  68355089    24700.0      24700.0          24700.0   36 months     11.99   \n",
       "1  68476807    10400.0      10400.0          10400.0   60 months     22.45   \n",
       "2  68446771     7200.0       7200.0           7200.0   36 months     15.77   \n",
       "3  68376217    23100.0      23100.0          23100.0   60 months     20.50   \n",
       "4  68446746    12000.0      12000.0          12000.0   36 months      5.32   \n",
       "\n",
       "   installment grade sub_grade emp_length  ... pub_rec_bankruptcies  \\\n",
       "0       820.28     C        C1  10+ years  ...                  0.0   \n",
       "1       289.91     F        F1    3 years  ...                  0.0   \n",
       "2       252.32     D        D1   < 1 year  ...                  0.0   \n",
       "3       618.46     E        E4    2 years  ...                  0.0   \n",
       "4       361.38     A        A1    4 years  ...                  0.0   \n",
       "\n",
       "   tax_liens tot_hi_cred_lim total_bal_ex_mort total_bc_limit  \\\n",
       "0        0.0        314017.0           39475.0        79300.0   \n",
       "1        0.0        439570.0           95768.0        20300.0   \n",
       "2        1.0        255047.0          275831.0         6700.0   \n",
       "3        0.0        102524.0           55048.0        21700.0   \n",
       "4        0.0        183062.0           11146.0         8500.0   \n",
       "\n",
       "  total_il_high_credit_limit hardship_flag disbursement_method  \\\n",
       "0                    24667.0             N                Cash   \n",
       "1                    88097.0             N                Cash   \n",
       "2                   246447.0             N                Cash   \n",
       "3                    80824.0             N                Cash   \n",
       "4                    29053.0             N                Cash   \n",
       "\n",
       "  debt_settlement_flag  grade_predicted  \n",
       "0                    N                C  \n",
       "1                    N                G  \n",
       "2                    N                B  \n",
       "3                    N                G  \n",
       "4                    N                A  \n",
       "\n",
       "[5 rows x 103 columns]"
      ]
     },
     "execution_count": 9,
     "metadata": {},
     "output_type": "execute_result"
    }
   ],
   "source": [
    "df.head()"
   ]
  },
  {
   "cell_type": "code",
   "execution_count": 4,
   "metadata": {},
   "outputs": [],
   "source": [
    "columns = ['id','application_type','loan_amnt','purpose','annual_inc','fico_range_low','term','dti','revol_bal','revol_util',\n",
    "           'inq_last_6mths','delinq_2yrs','pub_rec','total_bal_il','total_rev_hi_lim','avg_cur_bal','tot_hi_cred_lim', \n",
    "           'grade']"
   ]
  },
  {
   "cell_type": "code",
   "execution_count": 5,
   "metadata": {},
   "outputs": [],
   "source": [
    "df2 = df[columns].copy()"
   ]
  },
  {
   "cell_type": "code",
   "execution_count": 6,
   "metadata": {},
   "outputs": [],
   "source": [
    "pd.set_option('display.max_rows', 400)"
   ]
  },
  {
   "cell_type": "markdown",
   "metadata": {},
   "source": [
    "## Resample"
   ]
  },
  {
   "cell_type": "code",
   "execution_count": 7,
   "metadata": {},
   "outputs": [],
   "source": [
    "X, y = df2.drop('grade', axis=1), df2['grade']"
   ]
  },
  {
   "cell_type": "code",
   "execution_count": 11,
   "metadata": {},
   "outputs": [],
   "source": [
    "X_resampled, y_resampled = X, y"
   ]
  },
  {
   "cell_type": "markdown",
   "metadata": {},
   "source": [
    "## Data Transformation"
   ]
  },
  {
   "cell_type": "code",
   "execution_count": 12,
   "metadata": {},
   "outputs": [],
   "source": [
    "def transform_purpose(value):\n",
    "    if value in ['debt_consolidation', 'credit_card','medical', 'house', 'car', 'small_business', 'other']:\n",
    "        return value\n",
    "    else:\n",
    "        return 'personal'\n",
    "\n",
    "def transform_application_type(value):\n",
    "    if str(value).strip() == 'individual':\n",
    "        return 1\n",
    "    else:\n",
    "        return 2\n",
    "    \n",
    "def transform_term(value):\n",
    "    value = value.split()[0]\n",
    "    return int(value)\n",
    "\n",
    "\n",
    "X_resampled['purpose'] = X_resampled['purpose'].apply(transform_purpose)"
   ]
  },
  {
   "cell_type": "code",
   "execution_count": 13,
   "metadata": {},
   "outputs": [],
   "source": [
    "def strip(value):\n",
    "    return str(value).strip()"
   ]
  },
  {
   "cell_type": "code",
   "execution_count": 14,
   "metadata": {},
   "outputs": [],
   "source": [
    "for i in X_resampled.select_dtypes('object').columns:\n",
    "    X_resampled[i] = X_resampled[i].apply(strip) "
   ]
  },
  {
   "cell_type": "markdown",
   "metadata": {},
   "source": [
    "## Split Training Testing Set"
   ]
  },
  {
   "cell_type": "code",
   "execution_count": 15,
   "metadata": {},
   "outputs": [],
   "source": [
    "from sklearn.preprocessing import LabelEncoder\n",
    "le = LabelEncoder()\n",
    "y_resampled = le.fit_transform(y_resampled)"
   ]
  },
  {
   "cell_type": "code",
   "execution_count": 16,
   "metadata": {},
   "outputs": [],
   "source": [
    "from sklearn.model_selection import train_test_split\n",
    "\n",
    "X_train, X_test, y_train, y_test = train_test_split(X_resampled, y_resampled, stratify=y_resampled, random_state=0)"
   ]
  },
  {
   "cell_type": "code",
   "execution_count": 17,
   "metadata": {},
   "outputs": [],
   "source": [
    "X_train_reindex = X_train.reset_index().drop('index', axis=1)\n",
    "X_test_reindex = X_test.reset_index().drop('index', axis=1)"
   ]
  },
  {
   "cell_type": "markdown",
   "metadata": {},
   "source": [
    "## Modeling"
   ]
  },
  {
   "cell_type": "code",
   "execution_count": 18,
   "metadata": {},
   "outputs": [],
   "source": [
    "from sklearn.preprocessing import OneHotEncoder"
   ]
  },
  {
   "cell_type": "code",
   "execution_count": 19,
   "metadata": {},
   "outputs": [],
   "source": [
    "ohePurpose = OneHotEncoder()\n",
    "X_trainOHE = ohePurpose.fit_transform(X_train[['purpose']])\n",
    "X_testOHE = ohePurpose.transform(X_test[['purpose']])\n",
    "\n",
    "X_trainOHE = pd.DataFrame(X_trainOHE.toarray(), columns=ohePurpose.categories_)\n",
    "X_testOHE = pd.DataFrame(X_testOHE.toarray(), columns=ohePurpose.categories_)"
   ]
  },
  {
   "cell_type": "code",
   "execution_count": 20,
   "metadata": {},
   "outputs": [],
   "source": [
    "X_trainOHE.columns = ['_'.join(col) for col in X_trainOHE.columns]\n",
    "X_testOHE.columns = ['_'.join(col) for col in X_testOHE.columns]"
   ]
  },
  {
   "cell_type": "code",
   "execution_count": 21,
   "metadata": {},
   "outputs": [],
   "source": [
    "X_trainFinal = pd.concat([X_train_reindex, X_trainOHE], axis=1).drop('purpose', axis=1)\n",
    "X_testFinal = pd.concat([X_test_reindex, X_testOHE], axis=1).drop('purpose', axis=1)"
   ]
  },
  {
   "cell_type": "code",
   "execution_count": 22,
   "metadata": {},
   "outputs": [],
   "source": [
    "X_trainFinal['application_type'] = X_trainFinal['application_type'].apply(transform_application_type)\n",
    "X_testFinal['application_type'] = X_testFinal['application_type'].apply(transform_application_type)\n",
    "X_trainFinal['term'] = X_trainFinal['term'].apply(transform_term)\n",
    "X_testFinal['term'] = X_testFinal['term'].apply(transform_term)"
   ]
  },
  {
   "cell_type": "markdown",
   "metadata": {},
   "source": [
    "## 1. What could be the rules that differentiate between grade A and B?"
   ]
  },
  {
   "cell_type": "code",
   "execution_count": 23,
   "metadata": {},
   "outputs": [],
   "source": [
    "from aix360.algorithms.rbm import FeatureBinarizer\n",
    "fb = FeatureBinarizer(negations=True, returnOrd=True)"
   ]
  },
  {
   "cell_type": "code",
   "execution_count": 24,
   "metadata": {},
   "outputs": [],
   "source": [
    "train = X_train.copy()\n",
    "train['grade'] = le.inverse_transform(y_train)"
   ]
  },
  {
   "cell_type": "code",
   "execution_count": 25,
   "metadata": {},
   "outputs": [],
   "source": [
    "test = X_test.copy()\n",
    "test['grade'] = le.inverse_transform(y_test)"
   ]
  },
  {
   "cell_type": "code",
   "execution_count": 26,
   "metadata": {},
   "outputs": [],
   "source": [
    "trainAB = train[train['grade'].isin(['A','B'])]\n",
    "testAB = test[test['grade'].isin(['A','B'])]"
   ]
  },
  {
   "cell_type": "code",
   "execution_count": 27,
   "metadata": {},
   "outputs": [],
   "source": [
    "tempLE = LabelEncoder()"
   ]
  },
  {
   "cell_type": "code",
   "execution_count": 28,
   "metadata": {},
   "outputs": [],
   "source": [
    "X_trainAB = trainAB.drop('grade', axis=1)\n",
    "y_trainAB = tempLE.fit_transform(trainAB['grade'])"
   ]
  },
  {
   "cell_type": "code",
   "execution_count": 29,
   "metadata": {},
   "outputs": [],
   "source": [
    "X_testAB = testAB.drop('grade', axis=1)\n",
    "y_testAB = tempLE.transform(testAB['grade'])"
   ]
  },
  {
   "cell_type": "code",
   "execution_count": 30,
   "metadata": {},
   "outputs": [],
   "source": [
    "X_trainAB_Save = X_trainAB.copy()\n",
    "X_testAB_Save = X_testAB.copy()"
   ]
  },
  {
   "cell_type": "code",
   "execution_count": 31,
   "metadata": {},
   "outputs": [],
   "source": [
    "X_trainAB, X_trainStd = fb.fit_transform(X_trainAB)\n",
    "X_testAB, X_testStd = fb.transform(X_testAB)"
   ]
  },
  {
   "cell_type": "code",
   "execution_count": 32,
   "metadata": {},
   "outputs": [],
   "source": [
    "from aix360.algorithms.rbm import BooleanRuleCG\n",
    "br = BooleanRuleCG(lambda0 = 0.001, lambda1 = 0.001, CNF=True)"
   ]
  },
  {
   "cell_type": "code",
   "execution_count": 33,
   "metadata": {},
   "outputs": [
    {
     "data": {
      "text/plain": [
       "array(['A', 'B'], dtype=object)"
      ]
     },
     "execution_count": 33,
     "metadata": {},
     "output_type": "execute_result"
    }
   ],
   "source": [
    "tempLE.classes_"
   ]
  },
  {
   "cell_type": "markdown",
   "metadata": {},
   "source": [
    "### 1.1 Using Boolean Rule Column Generation"
   ]
  },
  {
   "cell_type": "code",
   "execution_count": 34,
   "metadata": {},
   "outputs": [
    {
     "name": "stdout",
     "output_type": "stream",
     "text": [
      "Learning CNF rule with complexity parameters lambda0=0.001, lambda1=0.001\n",
      "Initial LP solved\n",
      "Iteration: 1, Objective: 0.3221\n",
      "Iteration: 2, Objective: 0.2811\n",
      "Iteration: 3, Objective: 0.2811\n",
      "Iteration: 4, Objective: 0.2811\n",
      "Iteration: 5, Objective: 0.2786\n",
      "Iteration: 6, Objective: 0.2786\n",
      "Iteration: 7, Objective: 0.2786\n",
      "Training accuracy: 0.7243675099866844\n",
      "Test accuracy: 0.7152847152847153\n",
      "Predict Y=0 [A] if ANY of the following rules are satisfied, otherwise Y=1 [B]:\n",
      "['fico_range_low > 700.00 AND term not ']\n"
     ]
    }
   ],
   "source": [
    "br.fit(X_trainAB, y_trainAB)\n",
    "\n",
    "from sklearn.metrics import accuracy_score\n",
    "print('Training accuracy:', accuracy_score(y_trainAB, br.predict(X_trainAB)))\n",
    "print('Test accuracy:', accuracy_score(y_testAB, br.predict(X_testAB)))\n",
    "print('Predict Y=0 [A] if ANY of the following rules are satisfied, otherwise Y=1 [B]:')\n",
    "print(br.explain()['rules'])"
   ]
  },
  {
   "cell_type": "markdown",
   "metadata": {},
   "source": [
    "Rules in here meaning that:\n",
    "\n",
    "```If your fico score more than 700 and Term is 36 months, then you're grade A, else B```"
   ]
  },
  {
   "cell_type": "markdown",
   "metadata": {},
   "source": [
    "### 1.2 Using Logistic Rule Regression"
   ]
  },
  {
   "cell_type": "code",
   "execution_count": 35,
   "metadata": {},
   "outputs": [
    {
     "name": "stderr",
     "output_type": "stream",
     "text": [
      "/home/jupyter-ariff/.local/lib/python3.7/site-packages/sklearn/linear_model/_sag.py:330: ConvergenceWarning: The max_iter was reached which means the coef_ did not converge\n",
      "  \"the coef_ did not converge\", ConvergenceWarning)\n",
      "/home/jupyter-ariff/.local/lib/python3.7/site-packages/sklearn/linear_model/_sag.py:330: ConvergenceWarning: The max_iter was reached which means the coef_ did not converge\n",
      "  \"the coef_ did not converge\", ConvergenceWarning)\n",
      "/home/jupyter-ariff/.local/lib/python3.7/site-packages/sklearn/linear_model/_sag.py:330: ConvergenceWarning: The max_iter was reached which means the coef_ did not converge\n",
      "  \"the coef_ did not converge\", ConvergenceWarning)\n",
      "/home/jupyter-ariff/.local/lib/python3.7/site-packages/sklearn/linear_model/_sag.py:330: ConvergenceWarning: The max_iter was reached which means the coef_ did not converge\n",
      "  \"the coef_ did not converge\", ConvergenceWarning)\n"
     ]
    },
    {
     "name": "stdout",
     "output_type": "stream",
     "text": [
      "Training accuracy: 0.747503328894807\n",
      "Test accuracy: 0.7357642357642358\n",
      "Probability of Y=1 is predicted as logistic(z) = 1 / (1 + exp(-z))\n",
      "where z is a linear combination of the following rules/numerical features:\n"
     ]
    },
    {
     "data": {
      "text/html": [
       "<div>\n",
       "<style scoped>\n",
       "    .dataframe tbody tr th:only-of-type {\n",
       "        vertical-align: middle;\n",
       "    }\n",
       "\n",
       "    .dataframe tbody tr th {\n",
       "        vertical-align: top;\n",
       "    }\n",
       "\n",
       "    .dataframe thead th {\n",
       "        text-align: right;\n",
       "    }\n",
       "</style>\n",
       "<table border=\"1\" class=\"dataframe\">\n",
       "  <thead>\n",
       "    <tr style=\"text-align: right;\">\n",
       "      <th></th>\n",
       "      <th>rule/numerical feature</th>\n",
       "      <th>coefficient</th>\n",
       "    </tr>\n",
       "  </thead>\n",
       "  <tbody>\n",
       "    <tr>\n",
       "      <th>0</th>\n",
       "      <td>(intercept)</td>\n",
       "      <td>0.467627</td>\n",
       "    </tr>\n",
       "    <tr>\n",
       "      <th>1</th>\n",
       "      <td>term</td>\n",
       "      <td>1.80864</td>\n",
       "    </tr>\n",
       "    <tr>\n",
       "      <th>2</th>\n",
       "      <td>term not</td>\n",
       "      <td>-1.41895</td>\n",
       "    </tr>\n",
       "    <tr>\n",
       "      <th>3</th>\n",
       "      <td>fico_range_low</td>\n",
       "      <td>-1.37287</td>\n",
       "    </tr>\n",
       "    <tr>\n",
       "      <th>4</th>\n",
       "      <td>application_type not  AND purpose != house AND...</td>\n",
       "      <td>-1.05526</td>\n",
       "    </tr>\n",
       "    <tr>\n",
       "      <th>5</th>\n",
       "      <td>purpose != house AND purpose != medical AND pu...</td>\n",
       "      <td>-0.809793</td>\n",
       "    </tr>\n",
       "    <tr>\n",
       "      <th>6</th>\n",
       "      <td>id &lt;= 105042485.80</td>\n",
       "      <td>-0.49988</td>\n",
       "    </tr>\n",
       "    <tr>\n",
       "      <th>7</th>\n",
       "      <td>tot_hi_cred_lim &lt;= 68908.30</td>\n",
       "      <td>0.496476</td>\n",
       "    </tr>\n",
       "    <tr>\n",
       "      <th>8</th>\n",
       "      <td>fico_range_low &lt;= 710.00</td>\n",
       "      <td>0.492631</td>\n",
       "    </tr>\n",
       "    <tr>\n",
       "      <th>9</th>\n",
       "      <td>id &lt;= 126356403.40</td>\n",
       "      <td>0.477911</td>\n",
       "    </tr>\n",
       "    <tr>\n",
       "      <th>10</th>\n",
       "      <td>purpose == credit_card</td>\n",
       "      <td>-0.473912</td>\n",
       "    </tr>\n",
       "    <tr>\n",
       "      <th>11</th>\n",
       "      <td>id &lt;= 136459060.40</td>\n",
       "      <td>0.470564</td>\n",
       "    </tr>\n",
       "    <tr>\n",
       "      <th>12</th>\n",
       "      <td>fico_range_low &lt;= 680.00</td>\n",
       "      <td>0.443648</td>\n",
       "    </tr>\n",
       "    <tr>\n",
       "      <th>13</th>\n",
       "      <td>inq_last_6mths</td>\n",
       "      <td>0.395695</td>\n",
       "    </tr>\n",
       "    <tr>\n",
       "      <th>14</th>\n",
       "      <td>total_rev_hi_lim &lt;= 31800.00</td>\n",
       "      <td>0.359621</td>\n",
       "    </tr>\n",
       "    <tr>\n",
       "      <th>15</th>\n",
       "      <td>total_rev_hi_lim &lt;= 16100.00</td>\n",
       "      <td>0.342422</td>\n",
       "    </tr>\n",
       "    <tr>\n",
       "      <th>16</th>\n",
       "      <td>purpose != house AND purpose != medical AND pu...</td>\n",
       "      <td>0.306534</td>\n",
       "    </tr>\n",
       "    <tr>\n",
       "      <th>17</th>\n",
       "      <td>revol_util</td>\n",
       "      <td>0.304982</td>\n",
       "    </tr>\n",
       "    <tr>\n",
       "      <th>18</th>\n",
       "      <td>dti &lt;= 24.35</td>\n",
       "      <td>-0.30482</td>\n",
       "    </tr>\n",
       "    <tr>\n",
       "      <th>19</th>\n",
       "      <td>dti &lt;= 11.77</td>\n",
       "      <td>-0.304498</td>\n",
       "    </tr>\n",
       "    <tr>\n",
       "      <th>20</th>\n",
       "      <td>total_rev_hi_lim &lt;= 60600.00</td>\n",
       "      <td>0.287579</td>\n",
       "    </tr>\n",
       "    <tr>\n",
       "      <th>21</th>\n",
       "      <td>fico_range_low &lt;= 670.00</td>\n",
       "      <td>0.28123</td>\n",
       "    </tr>\n",
       "    <tr>\n",
       "      <th>22</th>\n",
       "      <td>inq_last_6mths &lt;= 0.00</td>\n",
       "      <td>-0.250404</td>\n",
       "    </tr>\n",
       "    <tr>\n",
       "      <th>23</th>\n",
       "      <td>revol_util &lt;= 53.30</td>\n",
       "      <td>-0.237289</td>\n",
       "    </tr>\n",
       "    <tr>\n",
       "      <th>24</th>\n",
       "      <td>avg_cur_bal &lt;= 12472.80</td>\n",
       "      <td>0.194618</td>\n",
       "    </tr>\n",
       "    <tr>\n",
       "      <th>25</th>\n",
       "      <td>dti &lt;= 21.06</td>\n",
       "      <td>-0.180854</td>\n",
       "    </tr>\n",
       "    <tr>\n",
       "      <th>26</th>\n",
       "      <td>fico_range_low &lt;= 700.00</td>\n",
       "      <td>0.175349</td>\n",
       "    </tr>\n",
       "    <tr>\n",
       "      <th>27</th>\n",
       "      <td>total_rev_hi_lim &lt;= 20855.00</td>\n",
       "      <td>0.171171</td>\n",
       "    </tr>\n",
       "    <tr>\n",
       "      <th>28</th>\n",
       "      <td>purpose != house AND purpose != medical AND pu...</td>\n",
       "      <td>-0.158383</td>\n",
       "    </tr>\n",
       "    <tr>\n",
       "      <th>29</th>\n",
       "      <td>annual_inc &lt;= 60000.00</td>\n",
       "      <td>0.0983166</td>\n",
       "    </tr>\n",
       "    <tr>\n",
       "      <th>30</th>\n",
       "      <td>id &lt;= 129097456.00</td>\n",
       "      <td>0.0795461</td>\n",
       "    </tr>\n",
       "    <tr>\n",
       "      <th>31</th>\n",
       "      <td>dti</td>\n",
       "      <td>-0.0565311</td>\n",
       "    </tr>\n",
       "    <tr>\n",
       "      <th>32</th>\n",
       "      <td>tot_hi_cred_lim &lt;= 97678.00</td>\n",
       "      <td>-0.0316408</td>\n",
       "    </tr>\n",
       "    <tr>\n",
       "      <th>33</th>\n",
       "      <td>total_rev_hi_lim &lt;= 38900.00</td>\n",
       "      <td>0.0111804</td>\n",
       "    </tr>\n",
       "    <tr>\n",
       "      <th>34</th>\n",
       "      <td>total_rev_hi_lim</td>\n",
       "      <td>-0.00954004</td>\n",
       "    </tr>\n",
       "  </tbody>\n",
       "</table>\n",
       "</div>"
      ],
      "text/plain": [
       "                               rule/numerical feature coefficient\n",
       "0                                         (intercept)    0.467627\n",
       "1                                              term       1.80864\n",
       "2                                           term not     -1.41895\n",
       "3                                      fico_range_low    -1.37287\n",
       "4   application_type not  AND purpose != house AND...    -1.05526\n",
       "5   purpose != house AND purpose != medical AND pu...   -0.809793\n",
       "6                                  id <= 105042485.80    -0.49988\n",
       "7                         tot_hi_cred_lim <= 68908.30    0.496476\n",
       "8                            fico_range_low <= 710.00    0.492631\n",
       "9                                  id <= 126356403.40    0.477911\n",
       "10                             purpose == credit_card   -0.473912\n",
       "11                                 id <= 136459060.40    0.470564\n",
       "12                           fico_range_low <= 680.00    0.443648\n",
       "13                                     inq_last_6mths    0.395695\n",
       "14                       total_rev_hi_lim <= 31800.00    0.359621\n",
       "15                       total_rev_hi_lim <= 16100.00    0.342422\n",
       "16  purpose != house AND purpose != medical AND pu...    0.306534\n",
       "17                                         revol_util    0.304982\n",
       "18                                       dti <= 24.35    -0.30482\n",
       "19                                       dti <= 11.77   -0.304498\n",
       "20                       total_rev_hi_lim <= 60600.00    0.287579\n",
       "21                           fico_range_low <= 670.00     0.28123\n",
       "22                             inq_last_6mths <= 0.00   -0.250404\n",
       "23                                revol_util <= 53.30   -0.237289\n",
       "24                            avg_cur_bal <= 12472.80    0.194618\n",
       "25                                       dti <= 21.06   -0.180854\n",
       "26                           fico_range_low <= 700.00    0.175349\n",
       "27                       total_rev_hi_lim <= 20855.00    0.171171\n",
       "28  purpose != house AND purpose != medical AND pu...   -0.158383\n",
       "29                             annual_inc <= 60000.00   0.0983166\n",
       "30                                 id <= 129097456.00   0.0795461\n",
       "31                                                dti  -0.0565311\n",
       "32                        tot_hi_cred_lim <= 97678.00  -0.0316408\n",
       "33                       total_rev_hi_lim <= 38900.00   0.0111804\n",
       "34                                   total_rev_hi_lim -0.00954004"
      ]
     },
     "execution_count": 35,
     "metadata": {},
     "output_type": "execute_result"
    }
   ],
   "source": [
    "from aix360.algorithms.rbm import LogisticRuleRegression\n",
    "lrr = LogisticRuleRegression(lambda0=0.005, lambda1=0.001, useOrd=True)\n",
    "\n",
    "# Train, print, and evaluate model\n",
    "lrr.fit(X_trainAB, y_trainAB, X_trainStd)\n",
    "print('Training accuracy:', accuracy_score(y_trainAB, lrr.predict(X_trainAB, X_trainStd)))\n",
    "print('Test accuracy:', accuracy_score(y_testAB, lrr.predict(X_testAB, X_testStd)))\n",
    "print('Probability of Y=1 is predicted as logistic(z) = 1 / (1 + exp(-z))')\n",
    "print('where z is a linear combination of the following rules/numerical features:')\n",
    "lrr.explain()"
   ]
  },
  {
   "cell_type": "markdown",
   "metadata": {},
   "source": [
    "#### As your FICO score higher, your chances to be in grade A also increases"
   ]
  },
  {
   "cell_type": "code",
   "execution_count": 36,
   "metadata": {},
   "outputs": [
    {
     "data": {
      "image/png": "[encoded data removed]",
      "text/plain": [
       "<Figure size 432x288 with 1 Axes>"
      ]
     },
     "metadata": {
      "needs_background": "light"
     },
     "output_type": "display_data"
    }
   ],
   "source": [
    "lrr.visualize(X, fb, ['fico_range_low']);"
   ]
  },
  {
   "cell_type": "markdown",
   "metadata": {},
   "source": [
    "#### As you take long term , your chances to be in grade A also decreases"
   ]
  },
  {
   "cell_type": "code",
   "execution_count": 58,
   "metadata": {},
   "outputs": [
    {
     "data": {
      "image/png": "[encoded data removed]",
      "text/plain": [
       "<Figure size 432x288 with 1 Axes>"
      ]
     },
     "metadata": {
      "needs_background": "light"
     },
     "output_type": "display_data"
    }
   ],
   "source": [
    "lrr.visualize(X, fb, ['term']);"
   ]
  },
  {
   "cell_type": "markdown",
   "metadata": {},
   "source": [
    "#### As your revolving line utilization rate is higher, your chances to be in grade A also decreases"
   ]
  },
  {
   "cell_type": "code",
   "execution_count": 38,
   "metadata": {},
   "outputs": [
    {
     "data": {
      "image/png": "[encoded data removed]",
      "text/plain": [
       "<Figure size 432x288 with 1 Axes>"
      ]
     },
     "metadata": {
      "needs_background": "light"
     },
     "output_type": "display_data"
    }
   ],
   "source": [
    "lrr.visualize(X, fb, ['revol_util']);"
   ]
  },
  {
   "cell_type": "markdown",
   "metadata": {},
   "source": [
    "#### As your number of inquiries in past 6 months higher, your chances to be in grade A also decreases"
   ]
  },
  {
   "cell_type": "code",
   "execution_count": 39,
   "metadata": {},
   "outputs": [
    {
     "data": {
      "image/png": "[encoded data removed]",
      "text/plain": [
       "<Figure size 432x288 with 1 Axes>"
      ]
     },
     "metadata": {
      "needs_background": "light"
     },
     "output_type": "display_data"
    }
   ],
   "source": [
    "lrr.visualize(X, fb, ['inq_last_6mths']);"
   ]
  },
  {
   "cell_type": "markdown",
   "metadata": {},
   "source": [
    "# 2. What is the minimal improvement need to be done to get grade A from grade G using Constrastive Explanations"
   ]
  },
  {
   "cell_type": "code",
   "execution_count": 40,
   "metadata": {},
   "outputs": [],
   "source": [
    "leAG = LabelEncoder()"
   ]
  },
  {
   "cell_type": "code",
   "execution_count": 41,
   "metadata": {},
   "outputs": [],
   "source": [
    "X_trainFinalAG = X_trainFinal.drop('id', axis=1).copy()\n",
    "X_trainFinalAG['grade'] = le.inverse_transform(y_train)\n",
    "X_trainFinalAG = X_trainFinalAG[X_trainFinalAG['grade'].isin(['A','G'])]\n",
    "y_trainFinalAG = leAG.fit_transform(X_trainFinalAG['grade'])\n",
    "X_trainFinalAG = X_trainFinalAG.drop('grade', axis=1)"
   ]
  },
  {
   "cell_type": "code",
   "execution_count": 42,
   "metadata": {},
   "outputs": [],
   "source": [
    "X_testFinalAG = X_testFinal.drop('id', axis=1).copy()\n",
    "X_testFinalAG['grade'] = le.inverse_transform(y_test)\n",
    "X_testFinalAG = X_testFinalAG[X_testFinalAG['grade'].isin(['A','G'])]\n",
    "y_testFinalAG = leAG.fit_transform(X_testFinalAG['grade'])\n",
    "X_testFinalAG = X_testFinalAG.drop('grade', axis=1)"
   ]
  },
  {
   "cell_type": "code",
   "execution_count": 43,
   "metadata": {},
   "outputs": [],
   "source": [
    "from sklearn.preprocessing import MinMaxScaler\n",
    "\n",
    "scaler = MinMaxScaler(feature_range = (-0.5,0.5))\n",
    "X_trainFinalScaled = scaler.fit_transform(X_trainFinalAG)\n",
    "X_testFinalScaled = scaler.fit_transform(X_testFinalAG)"
   ]
  },
  {
   "cell_type": "code",
   "execution_count": 44,
   "metadata": {},
   "outputs": [
    {
     "name": "stderr",
     "output_type": "stream",
     "text": [
      "Using TensorFlow backend.\n"
     ]
    }
   ],
   "source": [
    "from aix360.algorithms.contrastive import CEMExplainer, KerasClassifier"
   ]
  },
  {
   "cell_type": "code",
   "execution_count": 45,
   "metadata": {},
   "outputs": [],
   "source": [
    "from keras.models import Sequential, Model, load_model, model_from_json\n",
    "from keras.layers import Dense\n",
    "import tensorflow as tf"
   ]
  },
  {
   "cell_type": "code",
   "execution_count": 46,
   "metadata": {},
   "outputs": [],
   "source": [
    "def nn_small(num_input):\n",
    "    model = Sequential()\n",
    "    model.add(Dense(12, input_dim=num_input, kernel_initializer='normal', activation='relu'))\n",
    "    model.add(Dense(1, kernel_initializer='normal', activation='sigmoid'))\n",
    "    return model"
   ]
  },
  {
   "cell_type": "code",
   "execution_count": 47,
   "metadata": {},
   "outputs": [
    {
     "data": {
      "text/plain": [
       "array(['A', 'G'], dtype=object)"
      ]
     },
     "execution_count": 47,
     "metadata": {},
     "output_type": "execute_result"
    }
   ],
   "source": [
    "leAG.classes_"
   ]
  },
  {
   "cell_type": "code",
   "execution_count": 48,
   "metadata": {},
   "outputs": [
    {
     "name": "stdout",
     "output_type": "stream",
     "text": [
      "WARNING:tensorflow:From /home/jupyter-ariff/.local/lib/python3.7/site-packages/tensorflow_core/python/ops/resource_variable_ops.py:1630: calling BaseResourceVariable.__init__ (from tensorflow.python.ops.resource_variable_ops) with constraint is deprecated and will be removed in a future version.\n",
      "Instructions for updating:\n",
      "If using Keras pass *_constraint arguments to layers.\n",
      "WARNING:tensorflow:From /home/jupyter-ariff/.local/lib/python3.7/site-packages/tensorflow_core/python/ops/nn_impl.py:183: where (from tensorflow.python.ops.array_ops) is deprecated and will be removed in a future version.\n",
      "Instructions for updating:\n",
      "Use tf.where in 2.0, which has the same broadcast rule as np.where\n",
      "Model: \"sequential_1\"\n",
      "_________________________________________________________________\n",
      "Layer (type)                 Output Shape              Param #   \n",
      "=================================================================\n",
      "dense_1 (Dense)              (None, 12)                288       \n",
      "_________________________________________________________________\n",
      "dense_2 (Dense)              (None, 1)                 13        \n",
      "=================================================================\n",
      "Total params: 301\n",
      "Trainable params: 301\n",
      "Non-trainable params: 0\n",
      "_________________________________________________________________\n"
     ]
    }
   ],
   "source": [
    "np.random.seed(42)\n",
    "tf.set_random_seed(42)\n",
    "\n",
    "class_names = list(leAG.classes_)\n",
    "\n",
    "nn = nn_small(X_trainFinalScaled.shape[1])\n",
    "nn.compile(loss='binary_crossentropy', optimizer='adam', metrics=['accuracy'])\n",
    "nn.summary()"
   ]
  },
  {
   "cell_type": "code",
   "execution_count": 49,
   "metadata": {
    "scrolled": true
   },
   "outputs": [
    {
     "name": "stdout",
     "output_type": "stream",
     "text": [
      "WARNING:tensorflow:From /home/jupyter-ariff/.local/lib/python3.7/site-packages/keras/backend/tensorflow_backend.py:422: The name tf.global_variables is deprecated. Please use tf.compat.v1.global_variables instead.\n",
      "\n",
      "Epoch 1/100\n",
      "6008/6008 [==============================] - 0s 32us/step - loss: 0.6833 - accuracy: 0.7117\n",
      "Epoch 2/100\n",
      "6008/6008 [==============================] - 0s 11us/step - loss: 0.6502 - accuracy: 0.7921\n",
      "Epoch 3/100\n",
      "6008/6008 [==============================] - 0s 9us/step - loss: 0.5879 - accuracy: 0.8341\n",
      "Epoch 4/100\n",
      "6008/6008 [==============================] - 0s 11us/step - loss: 0.5143 - accuracy: 0.8587\n",
      "Epoch 5/100\n",
      "6008/6008 [==============================] - 0s 9us/step - loss: 0.4445 - accuracy: 0.8790\n",
      "Epoch 6/100\n",
      "6008/6008 [==============================] - 0s 9us/step - loss: 0.3858 - accuracy: 0.8893\n",
      "Epoch 7/100\n",
      "6008/6008 [==============================] - 0s 10us/step - loss: 0.3396 - accuracy: 0.8993\n",
      "Epoch 8/100\n",
      "6008/6008 [==============================] - 0s 9us/step - loss: 0.3021 - accuracy: 0.9050\n",
      "Epoch 9/100\n",
      "6008/6008 [==============================] - 0s 9us/step - loss: 0.2738 - accuracy: 0.9083\n",
      "Epoch 10/100\n",
      "6008/6008 [==============================] - 0s 8us/step - loss: 0.2535 - accuracy: 0.9111\n",
      "Epoch 11/100\n",
      "6008/6008 [==============================] - 0s 10us/step - loss: 0.2388 - accuracy: 0.9126\n",
      "Epoch 12/100\n",
      "6008/6008 [==============================] - 0s 9us/step - loss: 0.2278 - accuracy: 0.9139\n",
      "Epoch 13/100\n",
      "6008/6008 [==============================] - 0s 9us/step - loss: 0.2193 - accuracy: 0.9158\n",
      "Epoch 14/100\n",
      "6008/6008 [==============================] - 0s 10us/step - loss: 0.2126 - accuracy: 0.9168\n",
      "Epoch 15/100\n",
      "6008/6008 [==============================] - 0s 10us/step - loss: 0.2071 - accuracy: 0.9179\n",
      "Epoch 16/100\n",
      "6008/6008 [==============================] - 0s 12us/step - loss: 0.2025 - accuracy: 0.9199\n",
      "Epoch 17/100\n",
      "6008/6008 [==============================] - 0s 10us/step - loss: 0.1986 - accuracy: 0.9214\n",
      "Epoch 18/100\n",
      "6008/6008 [==============================] - 0s 10us/step - loss: 0.1952 - accuracy: 0.9231\n",
      "Epoch 19/100\n",
      "6008/6008 [==============================] - 0s 10us/step - loss: 0.1923 - accuracy: 0.9231\n",
      "Epoch 20/100\n",
      "6008/6008 [==============================] - 0s 9us/step - loss: 0.1897 - accuracy: 0.9243\n",
      "Epoch 21/100\n",
      "6008/6008 [==============================] - 0s 10us/step - loss: 0.1874 - accuracy: 0.9248\n",
      "Epoch 22/100\n",
      "6008/6008 [==============================] - 0s 10us/step - loss: 0.1854 - accuracy: 0.9248\n",
      "Epoch 23/100\n",
      "6008/6008 [==============================] - 0s 10us/step - loss: 0.1835 - accuracy: 0.9261\n",
      "Epoch 24/100\n",
      "6008/6008 [==============================] - 0s 10us/step - loss: 0.1819 - accuracy: 0.9263\n",
      "Epoch 25/100\n",
      "6008/6008 [==============================] - 0s 10us/step - loss: 0.1804 - accuracy: 0.9263\n",
      "Epoch 26/100\n",
      "6008/6008 [==============================] - 0s 9us/step - loss: 0.1791 - accuracy: 0.9269\n",
      "Epoch 27/100\n",
      "6008/6008 [==============================] - 0s 8us/step - loss: 0.1779 - accuracy: 0.9276\n",
      "Epoch 28/100\n",
      "6008/6008 [==============================] - 0s 8us/step - loss: 0.1768 - accuracy: 0.9288\n",
      "Epoch 29/100\n",
      "6008/6008 [==============================] - 0s 8us/step - loss: 0.1758 - accuracy: 0.9288\n",
      "Epoch 30/100\n",
      "6008/6008 [==============================] - 0s 8us/step - loss: 0.1749 - accuracy: 0.9288\n",
      "Epoch 31/100\n",
      "6008/6008 [==============================] - 0s 10us/step - loss: 0.1741 - accuracy: 0.9288\n",
      "Epoch 32/100\n",
      "6008/6008 [==============================] - 0s 12us/step - loss: 0.1733 - accuracy: 0.9291\n",
      "Epoch 33/100\n",
      "6008/6008 [==============================] - 0s 11us/step - loss: 0.1726 - accuracy: 0.9293\n",
      "Epoch 34/100\n",
      "6008/6008 [==============================] - 0s 12us/step - loss: 0.1720 - accuracy: 0.9298\n",
      "Epoch 35/100\n",
      "6008/6008 [==============================] - 0s 10us/step - loss: 0.1715 - accuracy: 0.9299\n",
      "Epoch 36/100\n",
      "6008/6008 [==============================] - 0s 10us/step - loss: 0.1710 - accuracy: 0.9301\n",
      "Epoch 37/100\n",
      "6008/6008 [==============================] - 0s 8us/step - loss: 0.1705 - accuracy: 0.9306\n",
      "Epoch 38/100\n",
      "6008/6008 [==============================] - 0s 8us/step - loss: 0.1701 - accuracy: 0.9313\n",
      "Epoch 39/100\n",
      "6008/6008 [==============================] - 0s 8us/step - loss: 0.1697 - accuracy: 0.9316\n",
      "Epoch 40/100\n",
      "6008/6008 [==============================] - 0s 8us/step - loss: 0.1693 - accuracy: 0.9324\n",
      "Epoch 41/100\n",
      "6008/6008 [==============================] - 0s 11us/step - loss: 0.1690 - accuracy: 0.9319\n",
      "Epoch 42/100\n",
      "6008/6008 [==============================] - 0s 12us/step - loss: 0.1687 - accuracy: 0.9319\n",
      "Epoch 43/100\n",
      "6008/6008 [==============================] - 0s 11us/step - loss: 0.1684 - accuracy: 0.9324\n",
      "Epoch 44/100\n",
      "6008/6008 [==============================] - 0s 10us/step - loss: 0.1681 - accuracy: 0.9328\n",
      "Epoch 45/100\n",
      "6008/6008 [==============================] - 0s 8us/step - loss: 0.1679 - accuracy: 0.9333\n",
      "Epoch 46/100\n",
      "6008/6008 [==============================] - 0s 8us/step - loss: 0.1677 - accuracy: 0.9331\n",
      "Epoch 47/100\n",
      "6008/6008 [==============================] - 0s 8us/step - loss: 0.1674 - accuracy: 0.9333\n",
      "Epoch 48/100\n",
      "6008/6008 [==============================] - 0s 10us/step - loss: 0.1672 - accuracy: 0.9333\n",
      "Epoch 49/100\n",
      "6008/6008 [==============================] - 0s 11us/step - loss: 0.1670 - accuracy: 0.9336\n",
      "Epoch 50/100\n",
      "6008/6008 [==============================] - 0s 11us/step - loss: 0.1668 - accuracy: 0.9339\n",
      "Epoch 51/100\n",
      "6008/6008 [==============================] - 0s 9us/step - loss: 0.1667 - accuracy: 0.9336\n",
      "Epoch 52/100\n",
      "6008/6008 [==============================] - 0s 10us/step - loss: 0.1665 - accuracy: 0.9334\n",
      "Epoch 53/100\n",
      "6008/6008 [==============================] - 0s 8us/step - loss: 0.1663 - accuracy: 0.9334\n",
      "Epoch 54/100\n",
      "6008/6008 [==============================] - 0s 9us/step - loss: 0.1662 - accuracy: 0.9334\n",
      "Epoch 55/100\n",
      "6008/6008 [==============================] - 0s 10us/step - loss: 0.1660 - accuracy: 0.9334\n",
      "Epoch 56/100\n",
      "6008/6008 [==============================] - 0s 9us/step - loss: 0.1659 - accuracy: 0.9333\n",
      "Epoch 57/100\n",
      "6008/6008 [==============================] - 0s 10us/step - loss: 0.1657 - accuracy: 0.9331\n",
      "Epoch 58/100\n",
      "6008/6008 [==============================] - 0s 10us/step - loss: 0.1656 - accuracy: 0.9333\n",
      "Epoch 59/100\n",
      "6008/6008 [==============================] - 0s 8us/step - loss: 0.1655 - accuracy: 0.9331\n",
      "Epoch 60/100\n",
      "6008/6008 [==============================] - 0s 8us/step - loss: 0.1654 - accuracy: 0.9334\n",
      "Epoch 61/100\n",
      "6008/6008 [==============================] - 0s 8us/step - loss: 0.1652 - accuracy: 0.9333\n",
      "Epoch 62/100\n",
      "6008/6008 [==============================] - 0s 8us/step - loss: 0.1651 - accuracy: 0.9331\n",
      "Epoch 63/100\n",
      "6008/6008 [==============================] - 0s 8us/step - loss: 0.1650 - accuracy: 0.9329\n",
      "Epoch 64/100\n",
      "6008/6008 [==============================] - 0s 8us/step - loss: 0.1649 - accuracy: 0.9328\n",
      "Epoch 65/100\n",
      "6008/6008 [==============================] - 0s 8us/step - loss: 0.1648 - accuracy: 0.9329\n",
      "Epoch 66/100\n",
      "6008/6008 [==============================] - 0s 8us/step - loss: 0.1646 - accuracy: 0.9333\n",
      "Epoch 67/100\n",
      "6008/6008 [==============================] - 0s 10us/step - loss: 0.1645 - accuracy: 0.9331\n",
      "Epoch 68/100\n",
      "6008/6008 [==============================] - 0s 8us/step - loss: 0.1645 - accuracy: 0.9331\n",
      "Epoch 69/100\n",
      "6008/6008 [==============================] - 0s 8us/step - loss: 0.1644 - accuracy: 0.9328\n",
      "Epoch 70/100\n",
      "6008/6008 [==============================] - 0s 8us/step - loss: 0.1643 - accuracy: 0.9324\n",
      "Epoch 71/100\n",
      "6008/6008 [==============================] - 0s 10us/step - loss: 0.1642 - accuracy: 0.9324\n",
      "Epoch 72/100\n",
      "6008/6008 [==============================] - 0s 8us/step - loss: 0.1641 - accuracy: 0.9326\n",
      "Epoch 73/100\n",
      "6008/6008 [==============================] - 0s 8us/step - loss: 0.1640 - accuracy: 0.9326\n",
      "Epoch 74/100\n",
      "6008/6008 [==============================] - 0s 8us/step - loss: 0.1639 - accuracy: 0.9324\n",
      "Epoch 75/100\n",
      "6008/6008 [==============================] - 0s 8us/step - loss: 0.1638 - accuracy: 0.9324\n",
      "Epoch 76/100\n",
      "6008/6008 [==============================] - 0s 9us/step - loss: 0.1637 - accuracy: 0.9326\n",
      "Epoch 77/100\n",
      "6008/6008 [==============================] - 0s 8us/step - loss: 0.1636 - accuracy: 0.9323\n",
      "Epoch 78/100\n",
      "6008/6008 [==============================] - 0s 10us/step - loss: 0.1634 - accuracy: 0.9319\n",
      "Epoch 79/100\n",
      "6008/6008 [==============================] - 0s 10us/step - loss: 0.1633 - accuracy: 0.9319\n",
      "Epoch 80/100\n",
      "6008/6008 [==============================] - 0s 9us/step - loss: 0.1632 - accuracy: 0.9319\n",
      "Epoch 81/100\n",
      "6008/6008 [==============================] - 0s 9us/step - loss: 0.1631 - accuracy: 0.9323\n",
      "Epoch 82/100\n",
      "6008/6008 [==============================] - 0s 8us/step - loss: 0.1630 - accuracy: 0.9323\n",
      "Epoch 83/100\n",
      "6008/6008 [==============================] - 0s 10us/step - loss: 0.1629 - accuracy: 0.9324\n",
      "Epoch 84/100\n",
      "6008/6008 [==============================] - 0s 12us/step - loss: 0.1628 - accuracy: 0.9326\n",
      "Epoch 85/100\n",
      "6008/6008 [==============================] - 0s 14us/step - loss: 0.1628 - accuracy: 0.9324\n",
      "Epoch 86/100\n",
      "6008/6008 [==============================] - 0s 12us/step - loss: 0.1627 - accuracy: 0.9324\n",
      "Epoch 87/100\n",
      "6008/6008 [==============================] - 0s 10us/step - loss: 0.1626 - accuracy: 0.9324\n",
      "Epoch 88/100\n",
      "6008/6008 [==============================] - 0s 10us/step - loss: 0.1625 - accuracy: 0.9328\n",
      "Epoch 89/100\n",
      "6008/6008 [==============================] - 0s 10us/step - loss: 0.1624 - accuracy: 0.9328\n",
      "Epoch 90/100\n",
      "6008/6008 [==============================] - 0s 11us/step - loss: 0.1624 - accuracy: 0.9326\n",
      "Epoch 91/100\n",
      "6008/6008 [==============================] - 0s 13us/step - loss: 0.1623 - accuracy: 0.9329\n",
      "Epoch 92/100\n",
      "6008/6008 [==============================] - 0s 11us/step - loss: 0.1622 - accuracy: 0.9328\n",
      "Epoch 93/100\n",
      "6008/6008 [==============================] - 0s 10us/step - loss: 0.1621 - accuracy: 0.9329\n",
      "Epoch 94/100\n",
      "6008/6008 [==============================] - 0s 9us/step - loss: 0.1621 - accuracy: 0.9331\n",
      "Epoch 95/100\n",
      "6008/6008 [==============================] - 0s 12us/step - loss: 0.1620 - accuracy: 0.9333\n",
      "Epoch 96/100\n",
      "6008/6008 [==============================] - 0s 11us/step - loss: 0.1619 - accuracy: 0.9336\n",
      "Epoch 97/100\n",
      "6008/6008 [==============================] - 0s 10us/step - loss: 0.1619 - accuracy: 0.9336\n",
      "Epoch 98/100\n",
      "6008/6008 [==============================] - 0s 9us/step - loss: 0.1618 - accuracy: 0.9338\n",
      "Epoch 99/100\n",
      "6008/6008 [==============================] - 0s 10us/step - loss: 0.1617 - accuracy: 0.9338\n",
      "Epoch 100/100\n",
      "6008/6008 [==============================] - 0s 10us/step - loss: 0.1617 - accuracy: 0.9338\n"
     ]
    }
   ],
   "source": [
    "nn.fit(X_trainFinalScaled, y_trainFinalAG, batch_size=128, epochs=100, verbose=1, shuffle=False)\n",
    "nn.save_weights('loan_grade_weights.h5')"
   ]
  },
  {
   "cell_type": "code",
   "execution_count": 50,
   "metadata": {},
   "outputs": [
    {
     "name": "stdout",
     "output_type": "stream",
     "text": [
      "Train accuracy: 0.9342543482780457\n",
      "Test accuracy: 0.9330669045448303\n"
     ]
    }
   ],
   "source": [
    "# evaluate model accuracy        \n",
    "score = nn.evaluate(X_trainFinalScaled, y_trainFinalAG, verbose=0) #Compute training set accuracy\n",
    "#print('Train loss:', score[0])\n",
    "print('Train accuracy:', score[1])\n",
    "\n",
    "score = nn.evaluate(X_testFinalScaled, y_testFinalAG, verbose=0) #Compute test set accuracy\n",
    "#print('Test loss:', score[0])\n",
    "print('Test accuracy:', score[1])"
   ]
  },
  {
   "cell_type": "code",
   "execution_count": 51,
   "metadata": {},
   "outputs": [],
   "source": [
    "y_trainPredicted = nn.predict_classes(X_trainFinalScaled)\n",
    "\n",
    "y_testPredicted = nn.predict_classes(X_testFinalScaled)"
   ]
  },
  {
   "cell_type": "code",
   "execution_count": 52,
   "metadata": {
    "scrolled": true
   },
   "outputs": [],
   "source": [
    "dfAG = pd.DataFrame(scaler.inverse_transform(X_testFinalScaled), columns=X_testFinal.drop('id', axis=1).columns)"
   ]
  },
  {
   "cell_type": "code",
   "execution_count": 53,
   "metadata": {},
   "outputs": [
    {
     "name": "stderr",
     "output_type": "stream",
     "text": [
      "/home/jupyter-ariff/.local/lib/python3.7/site-packages/sklearn/preprocessing/_label.py:289: DataConversionWarning: A column-vector y was passed when a 1d array was expected. Please change the shape of y to (n_samples, ), for example using ravel().\n",
      "  y = column_or_1d(y, warn=True)\n"
     ]
    }
   ],
   "source": [
    "dfAG['grade'] = leAG.inverse_transform(y_testFinalAG)\n",
    "dfAG['predicted_grade'] = leAG.inverse_transform(y_testPredicted)"
   ]
  },
  {
   "cell_type": "code",
   "execution_count": 54,
   "metadata": {},
   "outputs": [],
   "source": [
    "X_testFinalSave = X_testFinal.loc[X_testFinalAG.index, :].copy()"
   ]
  },
  {
   "cell_type": "markdown",
   "metadata": {},
   "source": [
    "### 2.1 Get one customer predicted as Grade G to check what he/she need to do to get to grade A"
   ]
  },
  {
   "cell_type": "code",
   "execution_count": 55,
   "metadata": {},
   "outputs": [],
   "source": [
    "clientG = dfAG[dfAG['predicted_grade'] == 'G']"
   ]
  },
  {
   "cell_type": "code",
   "execution_count": 56,
   "metadata": {},
   "outputs": [
    {
     "data": {
      "text/html": [
       "<div>\n",
       "<style scoped>\n",
       "    .dataframe tbody tr th:only-of-type {\n",
       "        vertical-align: middle;\n",
       "    }\n",
       "\n",
       "    .dataframe tbody tr th {\n",
       "        vertical-align: top;\n",
       "    }\n",
       "\n",
       "    .dataframe thead th {\n",
       "        text-align: right;\n",
       "    }\n",
       "</style>\n",
       "<table border=\"1\" class=\"dataframe\">\n",
       "  <thead>\n",
       "    <tr style=\"text-align: right;\">\n",
       "      <th></th>\n",
       "      <th>application_type</th>\n",
       "      <th>loan_amnt</th>\n",
       "      <th>annual_inc</th>\n",
       "      <th>fico_range_low</th>\n",
       "      <th>term</th>\n",
       "      <th>dti</th>\n",
       "      <th>revol_bal</th>\n",
       "      <th>revol_util</th>\n",
       "      <th>inq_last_6mths</th>\n",
       "      <th>delinq_2yrs</th>\n",
       "      <th>...</th>\n",
       "      <th>car</th>\n",
       "      <th>credit_card</th>\n",
       "      <th>debt_consolidation</th>\n",
       "      <th>house</th>\n",
       "      <th>medical</th>\n",
       "      <th>other</th>\n",
       "      <th>personal</th>\n",
       "      <th>small_business</th>\n",
       "      <th>grade</th>\n",
       "      <th>predicted_grade</th>\n",
       "    </tr>\n",
       "  </thead>\n",
       "  <tbody>\n",
       "    <tr>\n",
       "      <th>0</th>\n",
       "      <td>2.0</td>\n",
       "      <td>20400.0</td>\n",
       "      <td>58000.0</td>\n",
       "      <td>695.0</td>\n",
       "      <td>60.0</td>\n",
       "      <td>19.02</td>\n",
       "      <td>2263.0</td>\n",
       "      <td>83.8</td>\n",
       "      <td>0.0</td>\n",
       "      <td>0.0</td>\n",
       "      <td>...</td>\n",
       "      <td>0.0</td>\n",
       "      <td>0.0</td>\n",
       "      <td>0.0</td>\n",
       "      <td>0.0</td>\n",
       "      <td>0.0</td>\n",
       "      <td>1.0</td>\n",
       "      <td>0.0</td>\n",
       "      <td>0.0</td>\n",
       "      <td>G</td>\n",
       "      <td>G</td>\n",
       "    </tr>\n",
       "    <tr>\n",
       "      <th>2</th>\n",
       "      <td>2.0</td>\n",
       "      <td>10000.0</td>\n",
       "      <td>84000.0</td>\n",
       "      <td>670.0</td>\n",
       "      <td>60.0</td>\n",
       "      <td>32.19</td>\n",
       "      <td>10703.0</td>\n",
       "      <td>56.6</td>\n",
       "      <td>1.0</td>\n",
       "      <td>0.0</td>\n",
       "      <td>...</td>\n",
       "      <td>0.0</td>\n",
       "      <td>0.0</td>\n",
       "      <td>1.0</td>\n",
       "      <td>0.0</td>\n",
       "      <td>0.0</td>\n",
       "      <td>0.0</td>\n",
       "      <td>0.0</td>\n",
       "      <td>0.0</td>\n",
       "      <td>G</td>\n",
       "      <td>G</td>\n",
       "    </tr>\n",
       "    <tr>\n",
       "      <th>6</th>\n",
       "      <td>2.0</td>\n",
       "      <td>17250.0</td>\n",
       "      <td>52000.0</td>\n",
       "      <td>705.0</td>\n",
       "      <td>60.0</td>\n",
       "      <td>27.03</td>\n",
       "      <td>17003.0</td>\n",
       "      <td>65.0</td>\n",
       "      <td>2.0</td>\n",
       "      <td>0.0</td>\n",
       "      <td>...</td>\n",
       "      <td>0.0</td>\n",
       "      <td>0.0</td>\n",
       "      <td>1.0</td>\n",
       "      <td>0.0</td>\n",
       "      <td>0.0</td>\n",
       "      <td>0.0</td>\n",
       "      <td>0.0</td>\n",
       "      <td>0.0</td>\n",
       "      <td>G</td>\n",
       "      <td>G</td>\n",
       "    </tr>\n",
       "    <tr>\n",
       "      <th>7</th>\n",
       "      <td>2.0</td>\n",
       "      <td>35000.0</td>\n",
       "      <td>80000.0</td>\n",
       "      <td>745.0</td>\n",
       "      <td>60.0</td>\n",
       "      <td>10.37</td>\n",
       "      <td>6204.0</td>\n",
       "      <td>19.4</td>\n",
       "      <td>1.0</td>\n",
       "      <td>0.0</td>\n",
       "      <td>...</td>\n",
       "      <td>0.0</td>\n",
       "      <td>0.0</td>\n",
       "      <td>0.0</td>\n",
       "      <td>0.0</td>\n",
       "      <td>0.0</td>\n",
       "      <td>1.0</td>\n",
       "      <td>0.0</td>\n",
       "      <td>0.0</td>\n",
       "      <td>G</td>\n",
       "      <td>G</td>\n",
       "    </tr>\n",
       "    <tr>\n",
       "      <th>8</th>\n",
       "      <td>2.0</td>\n",
       "      <td>15725.0</td>\n",
       "      <td>52460.0</td>\n",
       "      <td>665.0</td>\n",
       "      <td>36.0</td>\n",
       "      <td>15.10</td>\n",
       "      <td>6739.0</td>\n",
       "      <td>57.1</td>\n",
       "      <td>0.0</td>\n",
       "      <td>0.0</td>\n",
       "      <td>...</td>\n",
       "      <td>0.0</td>\n",
       "      <td>0.0</td>\n",
       "      <td>1.0</td>\n",
       "      <td>0.0</td>\n",
       "      <td>0.0</td>\n",
       "      <td>0.0</td>\n",
       "      <td>0.0</td>\n",
       "      <td>0.0</td>\n",
       "      <td>G</td>\n",
       "      <td>G</td>\n",
       "    </tr>\n",
       "  </tbody>\n",
       "</table>\n",
       "<p>5 rows × 25 columns</p>\n",
       "</div>"
      ],
      "text/plain": [
       "   application_type  loan_amnt  annual_inc  fico_range_low  term    dti  \\\n",
       "0               2.0    20400.0     58000.0           695.0  60.0  19.02   \n",
       "2               2.0    10000.0     84000.0           670.0  60.0  32.19   \n",
       "6               2.0    17250.0     52000.0           705.0  60.0  27.03   \n",
       "7               2.0    35000.0     80000.0           745.0  60.0  10.37   \n",
       "8               2.0    15725.0     52460.0           665.0  36.0  15.10   \n",
       "\n",
       "   revol_bal  revol_util  inq_last_6mths  delinq_2yrs  ...  car  credit_card  \\\n",
       "0     2263.0        83.8             0.0          0.0  ...  0.0          0.0   \n",
       "2    10703.0        56.6             1.0          0.0  ...  0.0          0.0   \n",
       "6    17003.0        65.0             2.0          0.0  ...  0.0          0.0   \n",
       "7     6204.0        19.4             1.0          0.0  ...  0.0          0.0   \n",
       "8     6739.0        57.1             0.0          0.0  ...  0.0          0.0   \n",
       "\n",
       "   debt_consolidation  house  medical  other  personal  small_business  grade  \\\n",
       "0                 0.0    0.0      0.0    1.0       0.0             0.0      G   \n",
       "2                 1.0    0.0      0.0    0.0       0.0             0.0      G   \n",
       "6                 1.0    0.0      0.0    0.0       0.0             0.0      G   \n",
       "7                 0.0    0.0      0.0    1.0       0.0             0.0      G   \n",
       "8                 1.0    0.0      0.0    0.0       0.0             0.0      G   \n",
       "\n",
       "   predicted_grade  \n",
       "0                G  \n",
       "2                G  \n",
       "6                G  \n",
       "7                G  \n",
       "8                G  \n",
       "\n",
       "[5 rows x 25 columns]"
      ]
     },
     "execution_count": 56,
     "metadata": {},
     "output_type": "execute_result"
    }
   ],
   "source": [
    "clientG.head()"
   ]
  },
  {
   "cell_type": "code",
   "execution_count": 64,
   "metadata": {},
   "outputs": [],
   "source": [
    "idx = 0"
   ]
  },
  {
   "cell_type": "code",
   "execution_count": 65,
   "metadata": {},
   "outputs": [],
   "source": [
    "clientG0 = X_testFinalScaled[idx,:].reshape((1,) + X_testFinalScaled[idx,:].shape)"
   ]
  },
  {
   "cell_type": "code",
   "execution_count": 66,
   "metadata": {},
   "outputs": [
    {
     "data": {
      "text/plain": [
       "array([[-0.5       , -0.0025641 , -0.45444338, -0.31081081,  0.5       ,\n",
       "        -0.46424812, -0.49360666,  0.23187773, -0.5       , -0.5       ,\n",
       "        -0.5       , -0.4809264 , -0.49388846, -0.48697366, -0.48866067,\n",
       "        -0.5       , -0.5       , -0.5       , -0.5       , -0.5       ,\n",
       "         0.5       , -0.5       , -0.5       ]])"
      ]
     },
     "execution_count": 66,
     "metadata": {},
     "output_type": "execute_result"
    }
   ],
   "source": [
    "clientG0"
   ]
  },
  {
   "cell_type": "code",
   "execution_count": 67,
   "metadata": {
    "scrolled": true
   },
   "outputs": [
    {
     "name": "stdout",
     "output_type": "stream",
     "text": [
      "WARNING:tensorflow:From /home/jupyter-ariff/.local/lib/python3.7/site-packages/aix360/algorithms/contrastive/CEM_aen.py:54: The name tf.placeholder is deprecated. Please use tf.compat.v1.placeholder instead.\n",
      "\n",
      "WARNING:tensorflow:From /home/jupyter-ariff/.local/lib/python3.7/site-packages/aix360/algorithms/contrastive/CEM_aen.py:86: The name tf.assign is deprecated. Please use tf.compat.v1.assign instead.\n",
      "\n",
      "WARNING:tensorflow:From /home/jupyter-ariff/.local/lib/python3.7/site-packages/aix360/algorithms/contrastive/CEM_aen.py:150: The name tf.train.polynomial_decay is deprecated. Please use tf.compat.v1.train.polynomial_decay instead.\n",
      "\n",
      "WARNING:tensorflow:From /home/jupyter-ariff/.local/lib/python3.7/site-packages/aix360/algorithms/contrastive/CEM_aen.py:153: The name tf.train.GradientDescentOptimizer is deprecated. Please use tf.compat.v1.train.GradientDescentOptimizer instead.\n",
      "\n",
      "WARNING:tensorflow:From /home/jupyter-ariff/.local/lib/python3.7/site-packages/aix360/algorithms/contrastive/CEM_aen.py:167: The name tf.variables_initializer is deprecated. Please use tf.compat.v1.variables_initializer instead.\n",
      "\n",
      "iter:0 const:[100.]\n",
      "Loss_Overall:1000101.8750, Loss_Attack:1000101.8750\n",
      "Loss_L2Dist:0.0000, Loss_L1Dist:0.0000, AE_loss:0.0\n",
      "target_lab_score:0.9988, max_nontarget_lab_score:-10000.0000\n",
      "\n",
      "iter:250 const:[100.]\n",
      "Loss_Overall:1000101.8750, Loss_Attack:1000101.8750\n",
      "Loss_L2Dist:0.0000, Loss_L1Dist:0.0000, AE_loss:0.0\n",
      "target_lab_score:0.9988, max_nontarget_lab_score:-10000.0000\n",
      "\n",
      "iter:0 const:[1000.]\n",
      "Loss_Overall:10001014.0000, Loss_Attack:10001014.0000\n",
      "Loss_L2Dist:0.0119, Loss_L1Dist:0.1581, AE_loss:0.0\n",
      "target_lab_score:0.9942, max_nontarget_lab_score:-10000.0000\n",
      "\n",
      "iter:250 const:[1000.]\n",
      "Loss_Overall:10000023.0000, Loss_Attack:10000022.0000\n",
      "Loss_L2Dist:1.1084, Loss_L1Dist:1.4824, AE_loss:0.0\n",
      "target_lab_score:0.0026, max_nontarget_lab_score:-10000.0000\n",
      "\n",
      "iter:0 const:[10000.]\n",
      "Loss_Overall:100000208.0000, Loss_Attack:100000208.0000\n",
      "Loss_L2Dist:1.3870, Loss_L1Dist:2.4384, AE_loss:0.0\n",
      "target_lab_score:0.0011, max_nontarget_lab_score:-10000.0000\n",
      "\n",
      "iter:250 const:[10000.]\n",
      "Loss_Overall:100000192.0000, Loss_Attack:100000192.0000\n",
      "Loss_L2Dist:2.2622, Loss_L1Dist:2.6898, AE_loss:0.0\n",
      "target_lab_score:0.0004, max_nontarget_lab_score:-10000.0000\n",
      "\n",
      "iter:0 const:[100000.]\n",
      "Loss_Overall:1000001984.0000, Loss_Attack:1000001984.0000\n",
      "Loss_L2Dist:5.6407, Loss_L1Dist:6.3546, AE_loss:0.0\n",
      "target_lab_score:0.0001, max_nontarget_lab_score:-10000.0000\n",
      "\n",
      "iter:250 const:[100000.]\n",
      "Loss_Overall:1000001984.0000, Loss_Attack:1000001984.0000\n",
      "Loss_L2Dist:3.7532, Loss_L1Dist:4.1547, AE_loss:0.0\n",
      "target_lab_score:0.0001, max_nontarget_lab_score:-10000.0000\n",
      "\n",
      "iter:0 const:[1000000.]\n",
      "Loss_Overall:10000019456.0000, Loss_Attack:10000019456.0000\n",
      "Loss_L2Dist:8.2953, Loss_L1Dist:8.6229, AE_loss:0.0\n",
      "target_lab_score:0.0002, max_nontarget_lab_score:-10000.0000\n",
      "\n",
      "iter:250 const:[1000000.]\n",
      "Loss_Overall:10000019456.0000, Loss_Attack:10000019456.0000\n",
      "Loss_L2Dist:4.5968, Loss_L1Dist:4.7803, AE_loss:0.0\n",
      "target_lab_score:0.0001, max_nontarget_lab_score:-10000.0000\n",
      "\n",
      "iter:0 const:[10000000.]\n",
      "Loss_Overall:100000194560.0000, Loss_Attack:100000194560.0000\n",
      "Loss_L2Dist:8.4950, Loss_L1Dist:8.7284, AE_loss:0.0\n",
      "target_lab_score:0.0002, max_nontarget_lab_score:-10000.0000\n",
      "\n",
      "iter:250 const:[10000000.]\n",
      "Loss_Overall:100000194560.0000, Loss_Attack:100000194560.0000\n",
      "Loss_L2Dist:4.7039, Loss_L1Dist:5.1076, AE_loss:0.0\n",
      "target_lab_score:0.0001, max_nontarget_lab_score:-10000.0000\n",
      "\n",
      "iter:0 const:[1.e+08]\n",
      "Loss_Overall:1000001961984.0000, Loss_Attack:1000001961984.0000\n",
      "Loss_L2Dist:8.4950, Loss_L1Dist:8.7284, AE_loss:0.0\n",
      "target_lab_score:0.0002, max_nontarget_lab_score:-10000.0000\n",
      "\n",
      "iter:250 const:[1.e+08]\n",
      "Loss_Overall:1000001961984.0000, Loss_Attack:1000001961984.0000\n",
      "Loss_L2Dist:5.5968, Loss_L1Dist:5.7803, AE_loss:0.0\n",
      "target_lab_score:0.0001, max_nontarget_lab_score:-10000.0000\n",
      "\n",
      "iter:0 const:[1.e+09]\n",
      "Loss_Overall:10000019750912.0000, Loss_Attack:10000019750912.0000\n",
      "Loss_L2Dist:8.4950, Loss_L1Dist:8.7284, AE_loss:0.0\n",
      "target_lab_score:0.0002, max_nontarget_lab_score:-10000.0000\n",
      "\n",
      "iter:250 const:[1.e+09]\n",
      "Loss_Overall:10000019750912.0000, Loss_Attack:10000019750912.0000\n",
      "Loss_L2Dist:5.5968, Loss_L1Dist:5.7803, AE_loss:0.0\n",
      "target_lab_score:0.0001, max_nontarget_lab_score:-10000.0000\n",
      "\n",
      "iter:0 const:[1.e+10]\n",
      "Loss_Overall:100000193314816.0000, Loss_Attack:100000193314816.0000\n",
      "Loss_L2Dist:8.4950, Loss_L1Dist:8.7284, AE_loss:0.0\n",
      "target_lab_score:0.0002, max_nontarget_lab_score:-10000.0000\n",
      "\n",
      "iter:250 const:[1.e+10]\n",
      "Loss_Overall:100000193314816.0000, Loss_Attack:100000193314816.0000\n",
      "Loss_L2Dist:5.5968, Loss_L1Dist:5.7803, AE_loss:0.0\n",
      "target_lab_score:0.0001, max_nontarget_lab_score:-10000.0000\n",
      "\n"
     ]
    }
   ],
   "source": [
    "mymodel = KerasClassifier(nn)\n",
    "explainer = CEMExplainer(mymodel)\n",
    "\n",
    "arg_mode = 'PN' # Find pertinent negatives\n",
    "arg_max_iter = 500 # Maximum number of iterations to search for the optimal PN for given parameter settings\n",
    "arg_init_const = 100 # Initial coefficient value for main loss term that encourages class change\n",
    "arg_b = 9 # No. of updates to the coefficient of the main loss term\n",
    "arg_kappa = 0.02 # Minimum confidence gap between the PNs (changed) class probability and original class' probability\n",
    "arg_beta = 0.03 # Controls sparsity of the solution (L1 loss)\n",
    "arg_gamma = 1 # Controls how much to adhere to a (optionally trained) auto-encoder\n",
    "my_AE_model = None # Pointer to an auto-encoder\n",
    "\n",
    "# Find PN for applicant 1272\n",
    "(adv_pn, delta_pn, info_pn) = explainer.explain_instance(clientG0, arg_mode, my_AE_model, arg_kappa, arg_b,\n",
    "                                                         arg_max_iter, arg_init_const, arg_beta, arg_gamma)"
   ]
  },
  {
   "cell_type": "code",
   "execution_count": 68,
   "metadata": {
    "scrolled": true
   },
   "outputs": [
    {
     "data": {
      "text/plain": [
       "array(['A'], dtype=object)"
      ]
     },
     "execution_count": 68,
     "metadata": {},
     "output_type": "execute_result"
    }
   ],
   "source": [
    "leAG.inverse_transform(nn.predict_classes(adv_pn))"
   ]
  },
  {
   "cell_type": "code",
   "execution_count": 69,
   "metadata": {},
   "outputs": [],
   "source": [
    "dfclientA = pd.DataFrame(scaler.inverse_transform(adv_pn), columns=X_testFinalAG.columns).T\n",
    "dfclientA.rename(columns={0:'A'},inplace=True)"
   ]
  },
  {
   "cell_type": "code",
   "execution_count": 70,
   "metadata": {},
   "outputs": [],
   "source": [
    "dfclientSelected = pd.DataFrame(scaler.inverse_transform(clientG0), columns=X_testFinalAG.columns).T\n",
    "dfclientSelected.rename(columns={0:'G'},inplace=True)"
   ]
  },
  {
   "cell_type": "code",
   "execution_count": 71,
   "metadata": {},
   "outputs": [],
   "source": [
    "diffASelected = dfclientA['A'] - dfclientSelected['G']"
   ]
  },
  {
   "cell_type": "code",
   "execution_count": 72,
   "metadata": {},
   "outputs": [],
   "source": [
    "diffASelected = pd.DataFrame(diffASelected, columns=['Different'])"
   ]
  },
  {
   "cell_type": "code",
   "execution_count": 73,
   "metadata": {},
   "outputs": [
    {
     "data": {
      "text/html": [
       "<div>\n",
       "<style scoped>\n",
       "    .dataframe tbody tr th:only-of-type {\n",
       "        vertical-align: middle;\n",
       "    }\n",
       "\n",
       "    .dataframe tbody tr th {\n",
       "        vertical-align: top;\n",
       "    }\n",
       "\n",
       "    .dataframe thead th {\n",
       "        text-align: right;\n",
       "    }\n",
       "</style>\n",
       "<table border=\"1\" class=\"dataframe\">\n",
       "  <thead>\n",
       "    <tr style=\"text-align: right;\">\n",
       "      <th></th>\n",
       "      <th>G</th>\n",
       "      <th>A</th>\n",
       "      <th>Different</th>\n",
       "    </tr>\n",
       "  </thead>\n",
       "  <tbody>\n",
       "    <tr>\n",
       "      <th>application_type</th>\n",
       "      <td>2.00</td>\n",
       "      <td>2.50</td>\n",
       "      <td>0.50</td>\n",
       "    </tr>\n",
       "    <tr>\n",
       "      <th>loan_amnt</th>\n",
       "      <td>20400.00</td>\n",
       "      <td>20500.00</td>\n",
       "      <td>100.00</td>\n",
       "    </tr>\n",
       "    <tr>\n",
       "      <th>annual_inc</th>\n",
       "      <td>58000.00</td>\n",
       "      <td>624600.00</td>\n",
       "      <td>566600.00</td>\n",
       "    </tr>\n",
       "    <tr>\n",
       "      <th>fico_range_low</th>\n",
       "      <td>695.00</td>\n",
       "      <td>752.50</td>\n",
       "      <td>57.50</td>\n",
       "    </tr>\n",
       "    <tr>\n",
       "      <th>term</th>\n",
       "      <td>60.00</td>\n",
       "      <td>48.00</td>\n",
       "      <td>-12.00</td>\n",
       "    </tr>\n",
       "    <tr>\n",
       "      <th>dti</th>\n",
       "      <td>19.02</td>\n",
       "      <td>266.00</td>\n",
       "      <td>246.98</td>\n",
       "    </tr>\n",
       "    <tr>\n",
       "      <th>revol_bal</th>\n",
       "      <td>2263.00</td>\n",
       "      <td>176981.00</td>\n",
       "      <td>174718.00</td>\n",
       "    </tr>\n",
       "    <tr>\n",
       "      <th>revol_util</th>\n",
       "      <td>83.80</td>\n",
       "      <td>57.25</td>\n",
       "      <td>-26.55</td>\n",
       "    </tr>\n",
       "    <tr>\n",
       "      <th>inq_last_6mths</th>\n",
       "      <td>0.00</td>\n",
       "      <td>2.50</td>\n",
       "      <td>2.50</td>\n",
       "    </tr>\n",
       "    <tr>\n",
       "      <th>delinq_2yrs</th>\n",
       "      <td>0.00</td>\n",
       "      <td>6.00</td>\n",
       "      <td>6.00</td>\n",
       "    </tr>\n",
       "    <tr>\n",
       "      <th>pub_rec</th>\n",
       "      <td>0.00</td>\n",
       "      <td>3.00</td>\n",
       "      <td>3.00</td>\n",
       "    </tr>\n",
       "    <tr>\n",
       "      <th>total_bal_il</th>\n",
       "      <td>11440.00</td>\n",
       "      <td>299891.00</td>\n",
       "      <td>288451.00</td>\n",
       "    </tr>\n",
       "    <tr>\n",
       "      <th>total_rev_hi_lim</th>\n",
       "      <td>2700.00</td>\n",
       "      <td>196650.00</td>\n",
       "      <td>193950.00</td>\n",
       "    </tr>\n",
       "    <tr>\n",
       "      <th>avg_cur_bal</th>\n",
       "      <td>2284.00</td>\n",
       "      <td>87668.50</td>\n",
       "      <td>85384.50</td>\n",
       "    </tr>\n",
       "    <tr>\n",
       "      <th>tot_hi_cred_lim</th>\n",
       "      <td>26112.00</td>\n",
       "      <td>996251.50</td>\n",
       "      <td>970139.50</td>\n",
       "    </tr>\n",
       "    <tr>\n",
       "      <th>car</th>\n",
       "      <td>0.00</td>\n",
       "      <td>0.50</td>\n",
       "      <td>0.50</td>\n",
       "    </tr>\n",
       "    <tr>\n",
       "      <th>credit_card</th>\n",
       "      <td>0.00</td>\n",
       "      <td>0.50</td>\n",
       "      <td>0.50</td>\n",
       "    </tr>\n",
       "    <tr>\n",
       "      <th>debt_consolidation</th>\n",
       "      <td>0.00</td>\n",
       "      <td>0.50</td>\n",
       "      <td>0.50</td>\n",
       "    </tr>\n",
       "    <tr>\n",
       "      <th>house</th>\n",
       "      <td>0.00</td>\n",
       "      <td>0.50</td>\n",
       "      <td>0.50</td>\n",
       "    </tr>\n",
       "    <tr>\n",
       "      <th>medical</th>\n",
       "      <td>0.00</td>\n",
       "      <td>0.50</td>\n",
       "      <td>0.50</td>\n",
       "    </tr>\n",
       "    <tr>\n",
       "      <th>other</th>\n",
       "      <td>1.00</td>\n",
       "      <td>0.50</td>\n",
       "      <td>-0.50</td>\n",
       "    </tr>\n",
       "    <tr>\n",
       "      <th>personal</th>\n",
       "      <td>0.00</td>\n",
       "      <td>0.50</td>\n",
       "      <td>0.50</td>\n",
       "    </tr>\n",
       "    <tr>\n",
       "      <th>small_business</th>\n",
       "      <td>0.00</td>\n",
       "      <td>0.50</td>\n",
       "      <td>0.50</td>\n",
       "    </tr>\n",
       "  </tbody>\n",
       "</table>\n",
       "</div>"
      ],
      "text/plain": [
       "                           G          A  Different\n",
       "application_type        2.00       2.50       0.50\n",
       "loan_amnt           20400.00   20500.00     100.00\n",
       "annual_inc          58000.00  624600.00  566600.00\n",
       "fico_range_low        695.00     752.50      57.50\n",
       "term                   60.00      48.00     -12.00\n",
       "dti                    19.02     266.00     246.98\n",
       "revol_bal            2263.00  176981.00  174718.00\n",
       "revol_util             83.80      57.25     -26.55\n",
       "inq_last_6mths          0.00       2.50       2.50\n",
       "delinq_2yrs             0.00       6.00       6.00\n",
       "pub_rec                 0.00       3.00       3.00\n",
       "total_bal_il        11440.00  299891.00  288451.00\n",
       "total_rev_hi_lim     2700.00  196650.00  193950.00\n",
       "avg_cur_bal          2284.00   87668.50   85384.50\n",
       "tot_hi_cred_lim     26112.00  996251.50  970139.50\n",
       "car                     0.00       0.50       0.50\n",
       "credit_card             0.00       0.50       0.50\n",
       "debt_consolidation      0.00       0.50       0.50\n",
       "house                   0.00       0.50       0.50\n",
       "medical                 0.00       0.50       0.50\n",
       "other                   1.00       0.50      -0.50\n",
       "personal                0.00       0.50       0.50\n",
       "small_business          0.00       0.50       0.50"
      ]
     },
     "execution_count": 73,
     "metadata": {},
     "output_type": "execute_result"
    }
   ],
   "source": [
    "pd.concat([dfclientSelected, dfclientA, diffASelected], axis=1)"
   ]
  },
  {
   "cell_type": "markdown",
   "metadata": {},
   "source": [
    "The improvement needed are to be in grade G from A:\n",
    "\n",
    "- less the loan term, at max 48 months\n",
    "- lower you revolving utilization rate\n",
    "- increase your annual income"
   ]
  },
  {
   "cell_type": "markdown",
   "metadata": {},
   "source": [
    "### 2.2 Get one customer predicted as Grade C to check what he/she need to do to get to grade B"
   ]
  },
  {
   "cell_type": "code",
   "execution_count": 74,
   "metadata": {},
   "outputs": [],
   "source": [
    "leBC = LabelEncoder()"
   ]
  },
  {
   "cell_type": "code",
   "execution_count": 75,
   "metadata": {},
   "outputs": [],
   "source": [
    "X_trainFinalBC = X_trainFinal.copy()\n",
    "X_trainFinalBC['grade'] = le.inverse_transform(y_train)\n",
    "X_trainFinalBC = X_trainFinalBC[X_trainFinalBC['grade'].isin(['B','C'])]\n",
    "y_trainFinalBC = leBC.fit_transform(X_trainFinalBC['grade'])\n",
    "X_trainFinalBC = X_trainFinalBC.drop('grade', axis=1)"
   ]
  },
  {
   "cell_type": "code",
   "execution_count": 76,
   "metadata": {},
   "outputs": [],
   "source": [
    "X_testFinalBC = X_testFinal.copy()\n",
    "X_testFinalBC['grade'] = le.inverse_transform(y_test)\n",
    "X_testFinalBC = X_testFinalBC[X_testFinalBC['grade'].isin(['B','C'])]\n",
    "y_testFinalBC = leBC.fit_transform(X_testFinalBC['grade'])\n",
    "X_testFinalBC = X_testFinalBC.drop('grade', axis=1)"
   ]
  },
  {
   "cell_type": "code",
   "execution_count": 77,
   "metadata": {},
   "outputs": [],
   "source": [
    "from sklearn.preprocessing import MinMaxScaler\n",
    "\n",
    "scaler = MinMaxScaler(feature_range = (-0.5,0.5))\n",
    "X_trainFinalScaled = scaler.fit_transform(X_trainFinalBC)\n",
    "X_testFinalScaled = scaler.fit_transform(X_testFinalBC)"
   ]
  },
  {
   "cell_type": "code",
   "execution_count": 78,
   "metadata": {},
   "outputs": [],
   "source": [
    "from aix360.algorithms.contrastive import CEMExplainer, KerasClassifier"
   ]
  },
  {
   "cell_type": "code",
   "execution_count": 79,
   "metadata": {},
   "outputs": [],
   "source": [
    "from keras.models import Sequential, Model, load_model, model_from_json\n",
    "from keras.layers import Dense\n",
    "import tensorflow as tf"
   ]
  },
  {
   "cell_type": "code",
   "execution_count": 80,
   "metadata": {},
   "outputs": [],
   "source": [
    "def nn_small(num_input):\n",
    "    model = Sequential()\n",
    "    model.add(Dense(12, input_dim=num_input, kernel_initializer='normal', activation='relu'))\n",
    "    model.add(Dense(1, kernel_initializer='normal', activation='sigmoid'))\n",
    "    return model"
   ]
  },
  {
   "cell_type": "code",
   "execution_count": 81,
   "metadata": {},
   "outputs": [
    {
     "data": {
      "text/plain": [
       "array(['B', 'C'], dtype=object)"
      ]
     },
     "execution_count": 81,
     "metadata": {},
     "output_type": "execute_result"
    }
   ],
   "source": [
    "leBC.classes_"
   ]
  },
  {
   "cell_type": "code",
   "execution_count": 82,
   "metadata": {},
   "outputs": [
    {
     "name": "stdout",
     "output_type": "stream",
     "text": [
      "Model: \"sequential_2\"\n",
      "_________________________________________________________________\n",
      "Layer (type)                 Output Shape              Param #   \n",
      "=================================================================\n",
      "dense_3 (Dense)              (None, 12)                300       \n",
      "_________________________________________________________________\n",
      "dense_4 (Dense)              (None, 1)                 13        \n",
      "=================================================================\n",
      "Total params: 313\n",
      "Trainable params: 313\n",
      "Non-trainable params: 0\n",
      "_________________________________________________________________\n"
     ]
    }
   ],
   "source": [
    "np.random.seed(42)\n",
    "tf.set_random_seed(42)\n",
    "\n",
    "class_names = list(leBC.classes_)\n",
    "\n",
    "nn = nn_small(X_trainFinalScaled.shape[1])\n",
    "nn.compile(loss='binary_crossentropy', optimizer='adam', metrics=['accuracy'])\n",
    "nn.summary()"
   ]
  },
  {
   "cell_type": "code",
   "execution_count": 83,
   "metadata": {
    "scrolled": true
   },
   "outputs": [
    {
     "name": "stdout",
     "output_type": "stream",
     "text": [
      "WARNING:tensorflow:From /home/jupyter-ariff/.local/lib/python3.7/site-packages/keras/backend/tensorflow_backend.py:431: The name tf.is_variable_initialized is deprecated. Please use tf.compat.v1.is_variable_initialized instead.\n",
      "\n",
      "Epoch 1/100\n",
      "6008/6008 [==============================] - 0s 30us/step - loss: 0.6921 - accuracy: 0.5183\n",
      "Epoch 2/100\n",
      "6008/6008 [==============================] - 0s 8us/step - loss: 0.6887 - accuracy: 0.5652\n",
      "Epoch 3/100\n",
      "6008/6008 [==============================] - 0s 8us/step - loss: 0.6836 - accuracy: 0.5774\n",
      "Epoch 4/100\n",
      "6008/6008 [==============================] - 0s 8us/step - loss: 0.6772 - accuracy: 0.5904\n",
      "Epoch 5/100\n",
      "6008/6008 [==============================] - 0s 10us/step - loss: 0.6709 - accuracy: 0.5942\n",
      "Epoch 6/100\n",
      "6008/6008 [==============================] - 0s 9us/step - loss: 0.6654 - accuracy: 0.5982\n",
      "Epoch 7/100\n",
      "6008/6008 [==============================] - 0s 10us/step - loss: 0.6607 - accuracy: 0.6034\n",
      "Epoch 8/100\n",
      "6008/6008 [==============================] - 0s 8us/step - loss: 0.6567 - accuracy: 0.6092\n",
      "Epoch 9/100\n",
      "6008/6008 [==============================] - 0s 10us/step - loss: 0.6534 - accuracy: 0.6128\n",
      "Epoch 10/100\n",
      "6008/6008 [==============================] - 0s 8us/step - loss: 0.6506 - accuracy: 0.6167\n",
      "Epoch 11/100\n",
      "6008/6008 [==============================] - 0s 8us/step - loss: 0.6483 - accuracy: 0.6185\n",
      "Epoch 12/100\n",
      "6008/6008 [==============================] - 0s 8us/step - loss: 0.6464 - accuracy: 0.6195\n",
      "Epoch 13/100\n",
      "6008/6008 [==============================] - 0s 8us/step - loss: 0.6447 - accuracy: 0.6200\n",
      "Epoch 14/100\n",
      "6008/6008 [==============================] - 0s 8us/step - loss: 0.6434 - accuracy: 0.6215\n",
      "Epoch 15/100\n",
      "6008/6008 [==============================] - 0s 9us/step - loss: 0.6422 - accuracy: 0.6223\n",
      "Epoch 16/100\n",
      "6008/6008 [==============================] - 0s 8us/step - loss: 0.6412 - accuracy: 0.6245\n",
      "Epoch 17/100\n",
      "6008/6008 [==============================] - 0s 8us/step - loss: 0.6404 - accuracy: 0.6258\n",
      "Epoch 18/100\n",
      "6008/6008 [==============================] - 0s 8us/step - loss: 0.6397 - accuracy: 0.6258\n",
      "Epoch 19/100\n",
      "6008/6008 [==============================] - 0s 8us/step - loss: 0.6390 - accuracy: 0.6277\n",
      "Epoch 20/100\n",
      "6008/6008 [==============================] - 0s 8us/step - loss: 0.6384 - accuracy: 0.6295\n",
      "Epoch 21/100\n",
      "6008/6008 [==============================] - 0s 8us/step - loss: 0.6379 - accuracy: 0.6312\n",
      "Epoch 22/100\n",
      "6008/6008 [==============================] - 0s 8us/step - loss: 0.6374 - accuracy: 0.6318\n",
      "Epoch 23/100\n",
      "6008/6008 [==============================] - 0s 9us/step - loss: 0.6370 - accuracy: 0.6315\n",
      "Epoch 24/100\n",
      "6008/6008 [==============================] - 0s 8us/step - loss: 0.6365 - accuracy: 0.6347\n",
      "Epoch 25/100\n",
      "6008/6008 [==============================] - 0s 8us/step - loss: 0.6361 - accuracy: 0.6347\n",
      "Epoch 26/100\n",
      "6008/6008 [==============================] - 0s 9us/step - loss: 0.6357 - accuracy: 0.6352\n",
      "Epoch 27/100\n",
      "6008/6008 [==============================] - 0s 10us/step - loss: 0.6354 - accuracy: 0.6352\n",
      "Epoch 28/100\n",
      "6008/6008 [==============================] - 0s 8us/step - loss: 0.6350 - accuracy: 0.6368\n",
      "Epoch 29/100\n",
      "6008/6008 [==============================] - 0s 8us/step - loss: 0.6347 - accuracy: 0.6368\n",
      "Epoch 30/100\n",
      "6008/6008 [==============================] - 0s 10us/step - loss: 0.6344 - accuracy: 0.6376\n",
      "Epoch 31/100\n",
      "6008/6008 [==============================] - 0s 10us/step - loss: 0.6341 - accuracy: 0.6386\n",
      "Epoch 32/100\n",
      "6008/6008 [==============================] - 0s 11us/step - loss: 0.6339 - accuracy: 0.6390\n",
      "Epoch 33/100\n",
      "6008/6008 [==============================] - 0s 10us/step - loss: 0.6336 - accuracy: 0.6396\n",
      "Epoch 34/100\n",
      "6008/6008 [==============================] - 0s 10us/step - loss: 0.6334 - accuracy: 0.6398\n",
      "Epoch 35/100\n",
      "6008/6008 [==============================] - 0s 9us/step - loss: 0.6331 - accuracy: 0.6405\n",
      "Epoch 36/100\n",
      "6008/6008 [==============================] - 0s 8us/step - loss: 0.6329 - accuracy: 0.6401\n",
      "Epoch 37/100\n",
      "6008/6008 [==============================] - 0s 8us/step - loss: 0.6326 - accuracy: 0.6401\n",
      "Epoch 38/100\n",
      "6008/6008 [==============================] - 0s 8us/step - loss: 0.6323 - accuracy: 0.6403\n",
      "Epoch 39/100\n",
      "6008/6008 [==============================] - 0s 8us/step - loss: 0.6321 - accuracy: 0.6395\n",
      "Epoch 40/100\n",
      "6008/6008 [==============================] - 0s 8us/step - loss: 0.6318 - accuracy: 0.6383\n",
      "Epoch 41/100\n",
      "6008/6008 [==============================] - 0s 8us/step - loss: 0.6316 - accuracy: 0.6390\n",
      "Epoch 42/100\n",
      "6008/6008 [==============================] - 0s 8us/step - loss: 0.6313 - accuracy: 0.6391\n",
      "Epoch 43/100\n",
      "6008/6008 [==============================] - 0s 8us/step - loss: 0.6311 - accuracy: 0.6398\n",
      "Epoch 44/100\n",
      "6008/6008 [==============================] - 0s 9us/step - loss: 0.6309 - accuracy: 0.6406\n",
      "Epoch 45/100\n",
      "6008/6008 [==============================] - 0s 8us/step - loss: 0.6306 - accuracy: 0.6398\n",
      "Epoch 46/100\n",
      "6008/6008 [==============================] - 0s 8us/step - loss: 0.6304 - accuracy: 0.6405\n",
      "Epoch 47/100\n",
      "6008/6008 [==============================] - 0s 8us/step - loss: 0.6301 - accuracy: 0.6405\n",
      "Epoch 48/100\n",
      "6008/6008 [==============================] - 0s 8us/step - loss: 0.6298 - accuracy: 0.6391\n",
      "Epoch 49/100\n",
      "6008/6008 [==============================] - 0s 8us/step - loss: 0.6295 - accuracy: 0.6406\n",
      "Epoch 50/100\n",
      "6008/6008 [==============================] - 0s 10us/step - loss: 0.6292 - accuracy: 0.6406\n",
      "Epoch 51/100\n",
      "6008/6008 [==============================] - 0s 10us/step - loss: 0.6290 - accuracy: 0.6413\n",
      "Epoch 52/100\n",
      "6008/6008 [==============================] - 0s 10us/step - loss: 0.6288 - accuracy: 0.6410\n",
      "Epoch 53/100\n",
      "6008/6008 [==============================] - 0s 10us/step - loss: 0.6286 - accuracy: 0.6401\n",
      "Epoch 54/100\n",
      "6008/6008 [==============================] - 0s 11us/step - loss: 0.6284 - accuracy: 0.6408\n",
      "Epoch 55/100\n",
      "6008/6008 [==============================] - 0s 10us/step - loss: 0.6282 - accuracy: 0.6406\n",
      "Epoch 56/100\n",
      "6008/6008 [==============================] - ETA: 0s - loss: 0.6305 - accuracy: 0.63 - 0s 11us/step - loss: 0.6281 - accuracy: 0.6406\n",
      "Epoch 57/100\n",
      "6008/6008 [==============================] - 0s 10us/step - loss: 0.6279 - accuracy: 0.6413\n",
      "Epoch 58/100\n",
      "6008/6008 [==============================] - 0s 10us/step - loss: 0.6277 - accuracy: 0.6418\n",
      "Epoch 59/100\n",
      "6008/6008 [==============================] - 0s 11us/step - loss: 0.6276 - accuracy: 0.6410\n",
      "Epoch 60/100\n",
      "6008/6008 [==============================] - 0s 10us/step - loss: 0.6274 - accuracy: 0.6416\n",
      "Epoch 61/100\n",
      "6008/6008 [==============================] - ETA: 0s - loss: 0.6283 - accuracy: 0.63 - 0s 11us/step - loss: 0.6273 - accuracy: 0.6413\n",
      "Epoch 62/100\n",
      "6008/6008 [==============================] - 0s 11us/step - loss: 0.6271 - accuracy: 0.6408\n",
      "Epoch 63/100\n",
      "6008/6008 [==============================] - 0s 9us/step - loss: 0.6270 - accuracy: 0.6406\n",
      "Epoch 64/100\n",
      "6008/6008 [==============================] - 0s 8us/step - loss: 0.6269 - accuracy: 0.6408\n",
      "Epoch 65/100\n",
      "6008/6008 [==============================] - 0s 10us/step - loss: 0.6268 - accuracy: 0.6408\n",
      "Epoch 66/100\n",
      "6008/6008 [==============================] - 0s 10us/step - loss: 0.6266 - accuracy: 0.6406\n",
      "Epoch 67/100\n",
      "6008/6008 [==============================] - 0s 10us/step - loss: 0.6265 - accuracy: 0.6406\n",
      "Epoch 68/100\n",
      "6008/6008 [==============================] - 0s 10us/step - loss: 0.6264 - accuracy: 0.6410\n",
      "Epoch 69/100\n",
      "6008/6008 [==============================] - 0s 10us/step - loss: 0.6263 - accuracy: 0.6405\n",
      "Epoch 70/100\n",
      "6008/6008 [==============================] - 0s 8us/step - loss: 0.6261 - accuracy: 0.6400\n",
      "Epoch 71/100\n",
      "6008/6008 [==============================] - 0s 10us/step - loss: 0.6260 - accuracy: 0.6396\n",
      "Epoch 72/100\n",
      "6008/6008 [==============================] - 0s 10us/step - loss: 0.6259 - accuracy: 0.6401\n",
      "Epoch 73/100\n",
      "6008/6008 [==============================] - 0s 9us/step - loss: 0.6258 - accuracy: 0.6408\n",
      "Epoch 74/100\n",
      "6008/6008 [==============================] - 0s 8us/step - loss: 0.6257 - accuracy: 0.6411\n",
      "Epoch 75/100\n",
      "6008/6008 [==============================] - 0s 8us/step - loss: 0.6256 - accuracy: 0.6415\n",
      "Epoch 76/100\n",
      "6008/6008 [==============================] - 0s 8us/step - loss: 0.6255 - accuracy: 0.6418\n",
      "Epoch 77/100\n",
      "6008/6008 [==============================] - 0s 8us/step - loss: 0.6254 - accuracy: 0.6415\n",
      "Epoch 78/100\n",
      "6008/6008 [==============================] - 0s 8us/step - loss: 0.6253 - accuracy: 0.6418\n",
      "Epoch 79/100\n",
      "6008/6008 [==============================] - 0s 10us/step - loss: 0.6252 - accuracy: 0.6423\n",
      "Epoch 80/100\n",
      "6008/6008 [==============================] - 0s 9us/step - loss: 0.6251 - accuracy: 0.6423\n",
      "Epoch 81/100\n",
      "6008/6008 [==============================] - 0s 10us/step - loss: 0.6250 - accuracy: 0.6425\n",
      "Epoch 82/100\n",
      "6008/6008 [==============================] - 0s 9us/step - loss: 0.6249 - accuracy: 0.6435\n",
      "Epoch 83/100\n",
      "6008/6008 [==============================] - 0s 9us/step - loss: 0.6248 - accuracy: 0.6436\n",
      "Epoch 84/100\n",
      "6008/6008 [==============================] - 0s 10us/step - loss: 0.6248 - accuracy: 0.6440\n",
      "Epoch 85/100\n",
      "6008/6008 [==============================] - 0s 12us/step - loss: 0.6247 - accuracy: 0.6435\n",
      "Epoch 86/100\n",
      "6008/6008 [==============================] - 0s 10us/step - loss: 0.6246 - accuracy: 0.6433\n",
      "Epoch 87/100\n",
      "6008/6008 [==============================] - 0s 8us/step - loss: 0.6245 - accuracy: 0.6436\n",
      "Epoch 88/100\n",
      "6008/6008 [==============================] - 0s 8us/step - loss: 0.6245 - accuracy: 0.6441\n",
      "Epoch 89/100\n",
      "6008/6008 [==============================] - 0s 10us/step - loss: 0.6244 - accuracy: 0.6438\n",
      "Epoch 90/100\n",
      "6008/6008 [==============================] - 0s 8us/step - loss: 0.6243 - accuracy: 0.6440\n",
      "Epoch 91/100\n",
      "6008/6008 [==============================] - 0s 8us/step - loss: 0.6243 - accuracy: 0.6440\n",
      "Epoch 92/100\n",
      "6008/6008 [==============================] - 0s 8us/step - loss: 0.6242 - accuracy: 0.6441\n",
      "Epoch 93/100\n",
      "6008/6008 [==============================] - 0s 8us/step - loss: 0.6241 - accuracy: 0.6438\n",
      "Epoch 94/100\n",
      "6008/6008 [==============================] - 0s 8us/step - loss: 0.6240 - accuracy: 0.6438\n",
      "Epoch 95/100\n",
      "6008/6008 [==============================] - 0s 8us/step - loss: 0.6240 - accuracy: 0.6433\n",
      "Epoch 96/100\n",
      "6008/6008 [==============================] - 0s 8us/step - loss: 0.6239 - accuracy: 0.6431\n",
      "Epoch 97/100\n",
      "6008/6008 [==============================] - 0s 10us/step - loss: 0.6239 - accuracy: 0.6438\n",
      "Epoch 98/100\n",
      "6008/6008 [==============================] - 0s 8us/step - loss: 0.6238 - accuracy: 0.6438\n",
      "Epoch 99/100\n",
      "6008/6008 [==============================] - 0s 9us/step - loss: 0.6237 - accuracy: 0.6436\n",
      "Epoch 100/100\n",
      "6008/6008 [==============================] - 0s 8us/step - loss: 0.6237 - accuracy: 0.6445\n"
     ]
    }
   ],
   "source": [
    "nn.fit(X_trainFinalScaled, y_trainFinalBC, batch_size=128, epochs=100, verbose=1, shuffle=False)\n",
    "nn.save_weights('loan_grade_weights.h5')"
   ]
  },
  {
   "cell_type": "code",
   "execution_count": 84,
   "metadata": {},
   "outputs": [
    {
     "name": "stdout",
     "output_type": "stream",
     "text": [
      "Train accuracy: 0.6446405053138733\n",
      "Test accuracy: 0.6258741021156311\n"
     ]
    }
   ],
   "source": [
    "# evaluate model accuracy        \n",
    "score = nn.evaluate(X_trainFinalScaled, y_trainFinalBC, verbose=0) #Compute training set accuracy\n",
    "#print('Train loss:', score[0])\n",
    "print('Train accuracy:', score[1])\n",
    "\n",
    "score = nn.evaluate(X_testFinalScaled, y_testFinalBC, verbose=0) #Compute test set accuracy\n",
    "#print('Test loss:', score[0])\n",
    "print('Test accuracy:', score[1])"
   ]
  },
  {
   "cell_type": "code",
   "execution_count": 85,
   "metadata": {},
   "outputs": [],
   "source": [
    "y_trainPredicted = nn.predict_classes(X_trainFinalScaled)\n",
    "\n",
    "y_testPredicted = nn.predict_classes(X_testFinalScaled)"
   ]
  },
  {
   "cell_type": "code",
   "execution_count": 86,
   "metadata": {
    "scrolled": true
   },
   "outputs": [],
   "source": [
    "dfBC = pd.DataFrame(scaler.inverse_transform(X_testFinalScaled), columns=X_testFinal.columns)"
   ]
  },
  {
   "cell_type": "code",
   "execution_count": 87,
   "metadata": {},
   "outputs": [
    {
     "name": "stderr",
     "output_type": "stream",
     "text": [
      "/home/jupyter-ariff/.local/lib/python3.7/site-packages/sklearn/preprocessing/_label.py:289: DataConversionWarning: A column-vector y was passed when a 1d array was expected. Please change the shape of y to (n_samples, ), for example using ravel().\n",
      "  y = column_or_1d(y, warn=True)\n"
     ]
    }
   ],
   "source": [
    "dfBC['grade'] = leBC.inverse_transform(y_testFinalBC)\n",
    "dfBC['predicted_grade'] = leBC.inverse_transform(y_testPredicted)"
   ]
  },
  {
   "cell_type": "code",
   "execution_count": 89,
   "metadata": {},
   "outputs": [],
   "source": [
    "clientC = dfBC[dfBC['predicted_grade'] == 'C']"
   ]
  },
  {
   "cell_type": "code",
   "execution_count": 90,
   "metadata": {},
   "outputs": [
    {
     "data": {
      "text/html": [
       "<div>\n",
       "<style scoped>\n",
       "    .dataframe tbody tr th:only-of-type {\n",
       "        vertical-align: middle;\n",
       "    }\n",
       "\n",
       "    .dataframe tbody tr th {\n",
       "        vertical-align: top;\n",
       "    }\n",
       "\n",
       "    .dataframe thead th {\n",
       "        text-align: right;\n",
       "    }\n",
       "</style>\n",
       "<table border=\"1\" class=\"dataframe\">\n",
       "  <thead>\n",
       "    <tr style=\"text-align: right;\">\n",
       "      <th></th>\n",
       "      <th>id</th>\n",
       "      <th>application_type</th>\n",
       "      <th>loan_amnt</th>\n",
       "      <th>annual_inc</th>\n",
       "      <th>fico_range_low</th>\n",
       "      <th>term</th>\n",
       "      <th>dti</th>\n",
       "      <th>revol_bal</th>\n",
       "      <th>revol_util</th>\n",
       "      <th>inq_last_6mths</th>\n",
       "      <th>...</th>\n",
       "      <th>car</th>\n",
       "      <th>credit_card</th>\n",
       "      <th>debt_consolidation</th>\n",
       "      <th>house</th>\n",
       "      <th>medical</th>\n",
       "      <th>other</th>\n",
       "      <th>personal</th>\n",
       "      <th>small_business</th>\n",
       "      <th>grade</th>\n",
       "      <th>predicted_grade</th>\n",
       "    </tr>\n",
       "  </thead>\n",
       "  <tbody>\n",
       "    <tr>\n",
       "      <th>3</th>\n",
       "      <td>108106895.0</td>\n",
       "      <td>2.0</td>\n",
       "      <td>14000.0</td>\n",
       "      <td>152000.0</td>\n",
       "      <td>695.0</td>\n",
       "      <td>60.0</td>\n",
       "      <td>16.30</td>\n",
       "      <td>23069.0</td>\n",
       "      <td>52.8</td>\n",
       "      <td>0.0</td>\n",
       "      <td>...</td>\n",
       "      <td>0.0</td>\n",
       "      <td>0.0</td>\n",
       "      <td>1.0</td>\n",
       "      <td>0.0</td>\n",
       "      <td>0.0</td>\n",
       "      <td>0.0</td>\n",
       "      <td>0.0</td>\n",
       "      <td>0.0</td>\n",
       "      <td>C</td>\n",
       "      <td>C</td>\n",
       "    </tr>\n",
       "    <tr>\n",
       "      <th>4</th>\n",
       "      <td>139156966.0</td>\n",
       "      <td>2.0</td>\n",
       "      <td>10000.0</td>\n",
       "      <td>45000.0</td>\n",
       "      <td>705.0</td>\n",
       "      <td>60.0</td>\n",
       "      <td>26.45</td>\n",
       "      <td>7202.0</td>\n",
       "      <td>43.4</td>\n",
       "      <td>0.0</td>\n",
       "      <td>...</td>\n",
       "      <td>0.0</td>\n",
       "      <td>0.0</td>\n",
       "      <td>1.0</td>\n",
       "      <td>0.0</td>\n",
       "      <td>0.0</td>\n",
       "      <td>0.0</td>\n",
       "      <td>0.0</td>\n",
       "      <td>0.0</td>\n",
       "      <td>B</td>\n",
       "      <td>C</td>\n",
       "    </tr>\n",
       "    <tr>\n",
       "      <th>5</th>\n",
       "      <td>75230741.0</td>\n",
       "      <td>2.0</td>\n",
       "      <td>12000.0</td>\n",
       "      <td>45000.0</td>\n",
       "      <td>660.0</td>\n",
       "      <td>36.0</td>\n",
       "      <td>10.58</td>\n",
       "      <td>5772.0</td>\n",
       "      <td>25.9</td>\n",
       "      <td>4.0</td>\n",
       "      <td>...</td>\n",
       "      <td>0.0</td>\n",
       "      <td>0.0</td>\n",
       "      <td>1.0</td>\n",
       "      <td>0.0</td>\n",
       "      <td>0.0</td>\n",
       "      <td>0.0</td>\n",
       "      <td>0.0</td>\n",
       "      <td>0.0</td>\n",
       "      <td>C</td>\n",
       "      <td>C</td>\n",
       "    </tr>\n",
       "    <tr>\n",
       "      <th>7</th>\n",
       "      <td>126788231.0</td>\n",
       "      <td>2.0</td>\n",
       "      <td>15000.0</td>\n",
       "      <td>97000.0</td>\n",
       "      <td>670.0</td>\n",
       "      <td>60.0</td>\n",
       "      <td>6.00</td>\n",
       "      <td>5643.0</td>\n",
       "      <td>20.4</td>\n",
       "      <td>0.0</td>\n",
       "      <td>...</td>\n",
       "      <td>0.0</td>\n",
       "      <td>0.0</td>\n",
       "      <td>1.0</td>\n",
       "      <td>0.0</td>\n",
       "      <td>0.0</td>\n",
       "      <td>0.0</td>\n",
       "      <td>0.0</td>\n",
       "      <td>0.0</td>\n",
       "      <td>C</td>\n",
       "      <td>C</td>\n",
       "    </tr>\n",
       "    <tr>\n",
       "      <th>8</th>\n",
       "      <td>130806291.0</td>\n",
       "      <td>2.0</td>\n",
       "      <td>40000.0</td>\n",
       "      <td>20455.0</td>\n",
       "      <td>705.0</td>\n",
       "      <td>60.0</td>\n",
       "      <td>112.50</td>\n",
       "      <td>31769.0</td>\n",
       "      <td>74.8</td>\n",
       "      <td>0.0</td>\n",
       "      <td>...</td>\n",
       "      <td>0.0</td>\n",
       "      <td>0.0</td>\n",
       "      <td>1.0</td>\n",
       "      <td>0.0</td>\n",
       "      <td>0.0</td>\n",
       "      <td>0.0</td>\n",
       "      <td>0.0</td>\n",
       "      <td>0.0</td>\n",
       "      <td>B</td>\n",
       "      <td>C</td>\n",
       "    </tr>\n",
       "  </tbody>\n",
       "</table>\n",
       "<p>5 rows × 26 columns</p>\n",
       "</div>"
      ],
      "text/plain": [
       "            id  application_type  loan_amnt  annual_inc  fico_range_low  term  \\\n",
       "3  108106895.0               2.0    14000.0    152000.0           695.0  60.0   \n",
       "4  139156966.0               2.0    10000.0     45000.0           705.0  60.0   \n",
       "5   75230741.0               2.0    12000.0     45000.0           660.0  36.0   \n",
       "7  126788231.0               2.0    15000.0     97000.0           670.0  60.0   \n",
       "8  130806291.0               2.0    40000.0     20455.0           705.0  60.0   \n",
       "\n",
       "      dti  revol_bal  revol_util  inq_last_6mths  ...  car  credit_card  \\\n",
       "3   16.30    23069.0        52.8             0.0  ...  0.0          0.0   \n",
       "4   26.45     7202.0        43.4             0.0  ...  0.0          0.0   \n",
       "5   10.58     5772.0        25.9             4.0  ...  0.0          0.0   \n",
       "7    6.00     5643.0        20.4             0.0  ...  0.0          0.0   \n",
       "8  112.50    31769.0        74.8             0.0  ...  0.0          0.0   \n",
       "\n",
       "   debt_consolidation  house  medical  other  personal  small_business  grade  \\\n",
       "3                 1.0    0.0      0.0    0.0       0.0             0.0      C   \n",
       "4                 1.0    0.0      0.0    0.0       0.0             0.0      B   \n",
       "5                 1.0    0.0      0.0    0.0       0.0             0.0      C   \n",
       "7                 1.0    0.0      0.0    0.0       0.0             0.0      C   \n",
       "8                 1.0    0.0      0.0    0.0       0.0             0.0      B   \n",
       "\n",
       "   predicted_grade  \n",
       "3                C  \n",
       "4                C  \n",
       "5                C  \n",
       "7                C  \n",
       "8                C  \n",
       "\n",
       "[5 rows x 26 columns]"
      ]
     },
     "execution_count": 90,
     "metadata": {},
     "output_type": "execute_result"
    }
   ],
   "source": [
    "clientC.head()"
   ]
  },
  {
   "cell_type": "code",
   "execution_count": 91,
   "metadata": {},
   "outputs": [],
   "source": [
    "idx = 9"
   ]
  },
  {
   "cell_type": "code",
   "execution_count": 92,
   "metadata": {},
   "outputs": [
    {
     "data": {
      "text/plain": [
       "id                    1.3749e+08\n",
       "application_type               2\n",
       "loan_amnt                  20000\n",
       "annual_inc                 54000\n",
       "fico_range_low               665\n",
       "term                          36\n",
       "dti                         7.62\n",
       "revol_bal                   8579\n",
       "revol_util                  11.3\n",
       "inq_last_6mths                 3\n",
       "delinq_2yrs                    0\n",
       "pub_rec                        1\n",
       "total_bal_il                2687\n",
       "total_rev_hi_lim           76200\n",
       "avg_cur_bal                  433\n",
       "tot_hi_cred_lim            82054\n",
       "car                            0\n",
       "credit_card                    0\n",
       "debt_consolidation             1\n",
       "house                          0\n",
       "medical                        0\n",
       "other                          0\n",
       "personal                       0\n",
       "small_business                 0\n",
       "grade                          B\n",
       "predicted_grade                C\n",
       "Name: 18, dtype: object"
      ]
     },
     "execution_count": 92,
     "metadata": {},
     "output_type": "execute_result"
    }
   ],
   "source": [
    "clientC.iloc[idx,:]"
   ]
  },
  {
   "cell_type": "code",
   "execution_count": 93,
   "metadata": {},
   "outputs": [],
   "source": [
    "clientC0 = X_testFinalScaled[idx,:].reshape((1,) + X_testFinalScaled[idx,:].shape)"
   ]
  },
  {
   "cell_type": "code",
   "execution_count": 94,
   "metadata": {
    "scrolled": true
   },
   "outputs": [
    {
     "name": "stdout",
     "output_type": "stream",
     "text": [
      "iter:0 const:[1.]\n",
      "Loss_Overall:10000.8799, Loss_Attack:10000.8799\n",
      "Loss_L2Dist:0.0000, Loss_L1Dist:0.0000, AE_loss:0.0\n",
      "target_lab_score:0.8608, max_nontarget_lab_score:-10000.0000\n",
      "\n",
      "iter:250 const:[1.]\n",
      "Loss_Overall:10000.8799, Loss_Attack:10000.8799\n",
      "Loss_L2Dist:0.0000, Loss_L1Dist:0.0000, AE_loss:0.0\n",
      "target_lab_score:0.8608, max_nontarget_lab_score:-10000.0000\n",
      "\n",
      "iter:0 const:[10.]\n",
      "Loss_Overall:100008.6797, Loss_Attack:100008.6797\n",
      "Loss_L2Dist:0.0005, Loss_L1Dist:0.0228, AE_loss:0.0\n",
      "target_lab_score:0.8483, max_nontarget_lab_score:-10000.0000\n",
      "\n",
      "iter:250 const:[10.]\n",
      "Loss_Overall:100003.6250, Loss_Attack:100003.1875\n",
      "Loss_L2Dist:0.4232, Loss_L1Dist:0.6505, AE_loss:0.0\n",
      "target_lab_score:0.2989, max_nontarget_lab_score:-10000.0000\n",
      "\n",
      "iter:0 const:[100.]\n",
      "Loss_Overall:1000025.1250, Loss_Attack:1000024.6875\n",
      "Loss_L2Dist:0.3615, Loss_L1Dist:1.2148, AE_loss:0.0\n",
      "target_lab_score:0.2278, max_nontarget_lab_score:-10000.0000\n",
      "\n",
      "iter:250 const:[100.]\n",
      "Loss_Overall:1000011.1250, Loss_Attack:1000009.5625\n",
      "Loss_L2Dist:1.4744, Loss_L1Dist:2.2625, AE_loss:0.0\n",
      "target_lab_score:0.0764, max_nontarget_lab_score:-10000.0000\n",
      "\n",
      "iter:0 const:[1000.]\n",
      "Loss_Overall:10000049.0000, Loss_Attack:10000044.0000\n",
      "Loss_L2Dist:5.3296, Loss_L1Dist:6.9141, AE_loss:0.0\n",
      "target_lab_score:0.0248, max_nontarget_lab_score:-10000.0000\n",
      "\n",
      "iter:250 const:[1000.]\n",
      "Loss_Overall:10000054.0000, Loss_Attack:10000050.0000\n",
      "Loss_L2Dist:3.7016, Loss_L1Dist:3.8461, AE_loss:0.0\n",
      "target_lab_score:0.0303, max_nontarget_lab_score:-10000.0000\n",
      "\n",
      "iter:0 const:[10000.]\n",
      "Loss_Overall:100000464.0000, Loss_Attack:100000456.0000\n",
      "Loss_L2Dist:9.6138, Loss_L1Dist:9.9842, AE_loss:0.0\n",
      "target_lab_score:0.0267, max_nontarget_lab_score:-10000.0000\n",
      "\n",
      "iter:250 const:[10000.]\n",
      "Loss_Overall:100000344.0000, Loss_Attack:100000336.0000\n",
      "Loss_L2Dist:11.3476, Loss_L1Dist:11.6607, AE_loss:0.0\n",
      "target_lab_score:0.0137, max_nontarget_lab_score:-10000.0000\n",
      "\n",
      "iter:0 const:[100000.]\n",
      "Loss_Overall:1000004672.0000, Loss_Attack:1000004672.0000\n",
      "Loss_L2Dist:10.5722, Loss_L1Dist:10.7801, AE_loss:0.0\n",
      "target_lab_score:0.0277, max_nontarget_lab_score:-10000.0000\n",
      "\n",
      "iter:250 const:[100000.]\n",
      "Loss_Overall:1000003328.0000, Loss_Attack:1000003328.0000\n",
      "Loss_L2Dist:11.3772, Loss_L1Dist:11.8329, AE_loss:0.0\n",
      "target_lab_score:0.0136, max_nontarget_lab_score:-10000.0000\n",
      "\n",
      "iter:0 const:[1000000.]\n",
      "Loss_Overall:10000047104.0000, Loss_Attack:10000047104.0000\n",
      "Loss_L2Dist:10.5722, Loss_L1Dist:10.7801, AE_loss:0.0\n",
      "target_lab_score:0.0277, max_nontarget_lab_score:-10000.0000\n",
      "\n",
      "iter:250 const:[1000000.]\n",
      "Loss_Overall:10000032768.0000, Loss_Attack:10000032768.0000\n",
      "Loss_L2Dist:12.3476, Loss_L1Dist:12.6607, AE_loss:0.0\n",
      "target_lab_score:0.0134, max_nontarget_lab_score:-10000.0000\n",
      "\n",
      "iter:0 const:[10000000.]\n",
      "Loss_Overall:100000464896.0000, Loss_Attack:100000464896.0000\n",
      "Loss_L2Dist:10.5722, Loss_L1Dist:10.7801, AE_loss:0.0\n",
      "target_lab_score:0.0277, max_nontarget_lab_score:-10000.0000\n",
      "\n",
      "iter:250 const:[10000000.]\n",
      "Loss_Overall:100000333824.0000, Loss_Attack:100000333824.0000\n",
      "Loss_L2Dist:12.3476, Loss_L1Dist:12.6607, AE_loss:0.0\n",
      "target_lab_score:0.0134, max_nontarget_lab_score:-10000.0000\n",
      "\n",
      "iter:0 const:[1.e+08]\n",
      "Loss_Overall:1000004714496.0000, Loss_Attack:1000004714496.0000\n",
      "Loss_L2Dist:10.5722, Loss_L1Dist:10.7801, AE_loss:0.0\n",
      "target_lab_score:0.0277, max_nontarget_lab_score:-10000.0000\n",
      "\n",
      "iter:250 const:[1.e+08]\n",
      "Loss_Overall:1000003338240.0000, Loss_Attack:1000003338240.0000\n",
      "Loss_L2Dist:12.3476, Loss_L1Dist:12.6607, AE_loss:0.0\n",
      "target_lab_score:0.0134, max_nontarget_lab_score:-10000.0000\n",
      "\n"
     ]
    }
   ],
   "source": [
    "mymodel = KerasClassifier(nn)\n",
    "explainer = CEMExplainer(mymodel)\n",
    "\n",
    "arg_mode = 'PN' # Find pertinent negatives\n",
    "arg_max_iter = 500 # Maximum number of iterations to search for the optimal PN for given parameter settings\n",
    "arg_init_const = 1 # Initial coefficient value for main loss term that encourages class change\n",
    "arg_b = 9 # No. of updates to the coefficient of the main loss term\n",
    "arg_kappa = 0.02 # Minimum confidence gap between the PNs (changed) class probability and original class' probability\n",
    "arg_beta = 0.03 # Controls sparsity of the solution (L1 loss)\n",
    "arg_gamma = 1 # Controls how much to adhere to a (optionally trained) auto-encoder\n",
    "my_BE_model = None # Pointer to an auto-encoder\n",
    "\n",
    "# Find PN for applicant 1272\n",
    "(adv_pn, delta_pn, info_pn) = explainer.explain_instance(clientC0, arg_mode, my_BE_model, arg_kappa, arg_b,\n",
    "                                                         arg_max_iter, arg_init_const, arg_beta, arg_gamma)"
   ]
  },
  {
   "cell_type": "code",
   "execution_count": 95,
   "metadata": {},
   "outputs": [
    {
     "data": {
      "text/plain": [
       "array(['B'], dtype=object)"
      ]
     },
     "execution_count": 95,
     "metadata": {},
     "output_type": "execute_result"
    }
   ],
   "source": [
    "leBC.inverse_transform(nn.predict_classes(adv_pn))"
   ]
  },
  {
   "cell_type": "code",
   "execution_count": 96,
   "metadata": {},
   "outputs": [],
   "source": [
    "dfclientB = pd.DataFrame(scaler.inverse_transform(adv_pn), columns=X_testFinal.columns).T\n",
    "dfclientB.rename(columns={0:'B'},inplace=True)"
   ]
  },
  {
   "cell_type": "code",
   "execution_count": 97,
   "metadata": {},
   "outputs": [],
   "source": [
    "dfclientC0 = pd.DataFrame(scaler.inverse_transform(clientC0), columns=X_testFinal.columns).T\n",
    "dfclientC0.rename(columns={0:'C'},inplace=True)"
   ]
  },
  {
   "cell_type": "code",
   "execution_count": 98,
   "metadata": {},
   "outputs": [],
   "source": [
    "diffCB = dfclientB['B'] - dfclientC0['C']"
   ]
  },
  {
   "cell_type": "code",
   "execution_count": 99,
   "metadata": {},
   "outputs": [],
   "source": [
    "diffCB = pd.DataFrame(diffCB, columns=['Improvement Needed'])"
   ]
  },
  {
   "cell_type": "markdown",
   "metadata": {},
   "source": [
    "The improvement needed are to be in grade B from C:\n",
    "\n",
    "- less the loan term, at max 48 months\n",
    "- lower you revolving utilization rate\n",
    "- increase your annual income"
   ]
  },
  {
   "cell_type": "code",
   "execution_count": 100,
   "metadata": {},
   "outputs": [
    {
     "data": {
      "text/html": [
       "<div>\n",
       "<style scoped>\n",
       "    .dataframe tbody tr th:only-of-type {\n",
       "        vertical-align: middle;\n",
       "    }\n",
       "\n",
       "    .dataframe tbody tr th {\n",
       "        vertical-align: top;\n",
       "    }\n",
       "\n",
       "    .dataframe thead th {\n",
       "        text-align: right;\n",
       "    }\n",
       "</style>\n",
       "<table border=\"1\" class=\"dataframe\">\n",
       "  <thead>\n",
       "    <tr style=\"text-align: right;\">\n",
       "      <th></th>\n",
       "      <th>C</th>\n",
       "      <th>B</th>\n",
       "      <th>Improvement Needed</th>\n",
       "    </tr>\n",
       "  </thead>\n",
       "  <tbody>\n",
       "    <tr>\n",
       "      <th>id</th>\n",
       "      <td>75061241.00</td>\n",
       "      <td>1.035910e+08</td>\n",
       "      <td>2.852976e+07</td>\n",
       "    </tr>\n",
       "    <tr>\n",
       "      <th>application_type</th>\n",
       "      <td>2.00</td>\n",
       "      <td>2.500000e+00</td>\n",
       "      <td>5.000000e-01</td>\n",
       "    </tr>\n",
       "    <tr>\n",
       "      <th>loan_amnt</th>\n",
       "      <td>1000.00</td>\n",
       "      <td>2.050000e+04</td>\n",
       "      <td>1.950000e+04</td>\n",
       "    </tr>\n",
       "    <tr>\n",
       "      <th>annual_inc</th>\n",
       "      <td>75000.00</td>\n",
       "      <td>7.510000e+05</td>\n",
       "      <td>6.760000e+05</td>\n",
       "    </tr>\n",
       "    <tr>\n",
       "      <th>fico_range_low</th>\n",
       "      <td>675.00</td>\n",
       "      <td>7.450000e+02</td>\n",
       "      <td>7.000000e+01</td>\n",
       "    </tr>\n",
       "    <tr>\n",
       "      <th>term</th>\n",
       "      <td>36.00</td>\n",
       "      <td>4.800000e+01</td>\n",
       "      <td>1.200000e+01</td>\n",
       "    </tr>\n",
       "    <tr>\n",
       "      <th>dti</th>\n",
       "      <td>8.91</td>\n",
       "      <td>3.491150e+02</td>\n",
       "      <td>3.402050e+02</td>\n",
       "    </tr>\n",
       "    <tr>\n",
       "      <th>revol_bal</th>\n",
       "      <td>10765.00</td>\n",
       "      <td>3.108715e+05</td>\n",
       "      <td>3.001065e+05</td>\n",
       "    </tr>\n",
       "    <tr>\n",
       "      <th>revol_util</th>\n",
       "      <td>94.00</td>\n",
       "      <td>5.200000e+01</td>\n",
       "      <td>-4.200000e+01</td>\n",
       "    </tr>\n",
       "    <tr>\n",
       "      <th>inq_last_6mths</th>\n",
       "      <td>4.00</td>\n",
       "      <td>2.500000e+00</td>\n",
       "      <td>-1.500000e+00</td>\n",
       "    </tr>\n",
       "    <tr>\n",
       "      <th>delinq_2yrs</th>\n",
       "      <td>0.00</td>\n",
       "      <td>7.500000e+00</td>\n",
       "      <td>7.500000e+00</td>\n",
       "    </tr>\n",
       "    <tr>\n",
       "      <th>pub_rec</th>\n",
       "      <td>0.00</td>\n",
       "      <td>2.500000e+00</td>\n",
       "      <td>2.500000e+00</td>\n",
       "    </tr>\n",
       "    <tr>\n",
       "      <th>total_bal_il</th>\n",
       "      <td>15491.00</td>\n",
       "      <td>2.403165e+05</td>\n",
       "      <td>2.248255e+05</td>\n",
       "    </tr>\n",
       "    <tr>\n",
       "      <th>total_rev_hi_lim</th>\n",
       "      <td>11500.00</td>\n",
       "      <td>3.627500e+05</td>\n",
       "      <td>3.512500e+05</td>\n",
       "    </tr>\n",
       "    <tr>\n",
       "      <th>avg_cur_bal</th>\n",
       "      <td>3750.00</td>\n",
       "      <td>6.679250e+04</td>\n",
       "      <td>6.304250e+04</td>\n",
       "    </tr>\n",
       "    <tr>\n",
       "      <th>tot_hi_cred_lim</th>\n",
       "      <td>36593.00</td>\n",
       "      <td>8.146035e+05</td>\n",
       "      <td>7.780105e+05</td>\n",
       "    </tr>\n",
       "    <tr>\n",
       "      <th>car</th>\n",
       "      <td>0.00</td>\n",
       "      <td>5.000000e-01</td>\n",
       "      <td>5.000000e-01</td>\n",
       "    </tr>\n",
       "    <tr>\n",
       "      <th>credit_card</th>\n",
       "      <td>0.00</td>\n",
       "      <td>5.000000e-01</td>\n",
       "      <td>5.000000e-01</td>\n",
       "    </tr>\n",
       "    <tr>\n",
       "      <th>debt_consolidation</th>\n",
       "      <td>0.00</td>\n",
       "      <td>5.000000e-01</td>\n",
       "      <td>5.000000e-01</td>\n",
       "    </tr>\n",
       "    <tr>\n",
       "      <th>house</th>\n",
       "      <td>0.00</td>\n",
       "      <td>5.000000e-01</td>\n",
       "      <td>5.000000e-01</td>\n",
       "    </tr>\n",
       "    <tr>\n",
       "      <th>medical</th>\n",
       "      <td>0.00</td>\n",
       "      <td>5.000000e-01</td>\n",
       "      <td>5.000000e-01</td>\n",
       "    </tr>\n",
       "    <tr>\n",
       "      <th>other</th>\n",
       "      <td>1.00</td>\n",
       "      <td>5.000000e-01</td>\n",
       "      <td>-5.000000e-01</td>\n",
       "    </tr>\n",
       "    <tr>\n",
       "      <th>personal</th>\n",
       "      <td>0.00</td>\n",
       "      <td>5.000000e-01</td>\n",
       "      <td>5.000000e-01</td>\n",
       "    </tr>\n",
       "    <tr>\n",
       "      <th>small_business</th>\n",
       "      <td>0.00</td>\n",
       "      <td>5.000000e-01</td>\n",
       "      <td>5.000000e-01</td>\n",
       "    </tr>\n",
       "  </tbody>\n",
       "</table>\n",
       "</div>"
      ],
      "text/plain": [
       "                              C             B  Improvement Needed\n",
       "id                  75061241.00  1.035910e+08        2.852976e+07\n",
       "application_type           2.00  2.500000e+00        5.000000e-01\n",
       "loan_amnt               1000.00  2.050000e+04        1.950000e+04\n",
       "annual_inc             75000.00  7.510000e+05        6.760000e+05\n",
       "fico_range_low           675.00  7.450000e+02        7.000000e+01\n",
       "term                      36.00  4.800000e+01        1.200000e+01\n",
       "dti                        8.91  3.491150e+02        3.402050e+02\n",
       "revol_bal              10765.00  3.108715e+05        3.001065e+05\n",
       "revol_util                94.00  5.200000e+01       -4.200000e+01\n",
       "inq_last_6mths             4.00  2.500000e+00       -1.500000e+00\n",
       "delinq_2yrs                0.00  7.500000e+00        7.500000e+00\n",
       "pub_rec                    0.00  2.500000e+00        2.500000e+00\n",
       "total_bal_il           15491.00  2.403165e+05        2.248255e+05\n",
       "total_rev_hi_lim       11500.00  3.627500e+05        3.512500e+05\n",
       "avg_cur_bal             3750.00  6.679250e+04        6.304250e+04\n",
       "tot_hi_cred_lim        36593.00  8.146035e+05        7.780105e+05\n",
       "car                        0.00  5.000000e-01        5.000000e-01\n",
       "credit_card                0.00  5.000000e-01        5.000000e-01\n",
       "debt_consolidation         0.00  5.000000e-01        5.000000e-01\n",
       "house                      0.00  5.000000e-01        5.000000e-01\n",
       "medical                    0.00  5.000000e-01        5.000000e-01\n",
       "other                      1.00  5.000000e-01       -5.000000e-01\n",
       "personal                   0.00  5.000000e-01        5.000000e-01\n",
       "small_business             0.00  5.000000e-01        5.000000e-01"
      ]
     },
     "execution_count": 100,
     "metadata": {},
     "output_type": "execute_result"
    }
   ],
   "source": [
    "pd.concat([dfclientC0, dfclientB, diffCB], axis=1)"
   ]
  },
  {
   "cell_type": "markdown",
   "metadata": {},
   "source": [
    "## Conclusion"
   ]
  },
  {
   "cell_type": "markdown",
   "metadata": {},
   "source": [
    "With Boolean Rule and Logistic Rule Regression models, we able to grasp general knowledge on how we can distinguish between good grade and bad grade creditors. And then we proceed with identifying the improvement needed for future creditor to have higher chances of getting their loan approved by giving them general information such as Income, Term of the loan and their utilization of credit card."
   ]
  }
 ],
 "metadata": {
  "kernelspec": {
   "display_name": "Python 3",
   "language": "python",
   "name": "python3"
  },
  "language_info": {
   "codemirror_mode": {
    "name": "ipython",
    "version": 3
   },
   "file_extension": ".py",
   "mimetype": "text/x-python",
   "name": "python",
   "nbconvert_exporter": "python",
   "pygments_lexer": "ipython3",
   "version": "3.7.3"
  }
 },
 "nbformat": 4,
 "nbformat_minor": 4
}

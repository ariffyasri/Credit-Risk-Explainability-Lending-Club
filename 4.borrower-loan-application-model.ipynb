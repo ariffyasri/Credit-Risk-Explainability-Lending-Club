{
 "cells": [
  {
   "cell_type": "code",
   "execution_count": 2,
   "metadata": {},
   "outputs": [],
   "source": [
    "import pandas as pd\n",
    "import numpy\n",
    "import matplotlib.pyplot as plt\n",
    "\n",
    "%matplotlib inline"
   ]
  },
  {
   "cell_type": "code",
   "execution_count": 23,
   "metadata": {},
   "outputs": [],
   "source": [
    "# data is big so not upload to db2\n",
    "df_rejected = pd.read_csv('../datasets/lending-club-loan-v2/rejected_2018.csv', parse_dates=['issue_d'], infer_datetime_format=True, low_memory=False)\n",
    "df_approved = pd.read_csv('../datasets/lending-club-loan-v2/approved_2018.csv', parse_dates=['issue_d'], infer_datetime_format=True, low_memory=False)"
   ]
  },
  {
   "cell_type": "code",
   "execution_count": 24,
   "metadata": {},
   "outputs": [],
   "source": [
    "df_rejected = df_rejected[df_rejected.issue_d >= '2016-01-01 00:00:00']\n",
    "df_approved = df_approved[df_approved.issue_d >= '2018-01-01 00:00:00']"
   ]
  },
  {
   "cell_type": "markdown",
   "metadata": {},
   "source": [
    "## 1. Preprocessing"
   ]
  },
  {
   "cell_type": "code",
   "execution_count": 26,
   "metadata": {},
   "outputs": [],
   "source": [
    "from datetime import datetime\n",
    "\n",
    "def transform_issue_d(value):\n",
    "    return datetime.strptime('01-'+str(value), '%d-%b-%y')\n",
    "\n",
    "df_approved['issue_d'] = df_approved['issue_d'].apply(transform_issue_d)"
   ]
  },
  {
   "cell_type": "code",
   "execution_count": 27,
   "metadata": {},
   "outputs": [],
   "source": [
    "df_rejected['issue_d'] = pd.to_datetime(df_rejected['issue_d']).dt.strftime('%d-%b-%y')\n",
    "df_approved['issue_d'] = pd.to_datetime(df_approved['issue_d']).dt.strftime('%d-%b-%y')"
   ]
  },
  {
   "cell_type": "code",
   "execution_count": 28,
   "metadata": {},
   "outputs": [],
   "source": [
    "df_rejected['application_label'] = 'rejected'\n",
    "df_approved['application_label'] = 'approved'"
   ]
  },
  {
   "cell_type": "code",
   "execution_count": 29,
   "metadata": {},
   "outputs": [],
   "source": [
    "df_backup = df_approved.copy()"
   ]
  },
  {
   "cell_type": "code",
   "execution_count": 30,
   "metadata": {},
   "outputs": [
    {
     "data": {
      "text/html": [
       "<div>\n",
       "<style scoped>\n",
       "    .dataframe tbody tr th:only-of-type {\n",
       "        vertical-align: middle;\n",
       "    }\n",
       "\n",
       "    .dataframe tbody tr th {\n",
       "        vertical-align: top;\n",
       "    }\n",
       "\n",
       "    .dataframe thead th {\n",
       "        text-align: right;\n",
       "    }\n",
       "</style>\n",
       "<table border=\"1\" class=\"dataframe\">\n",
       "  <thead>\n",
       "    <tr style=\"text-align: right;\">\n",
       "      <th></th>\n",
       "      <th>id</th>\n",
       "      <th>loan_amnt</th>\n",
       "      <th>funded_amnt</th>\n",
       "      <th>funded_amnt_inv</th>\n",
       "      <th>term</th>\n",
       "      <th>int_rate</th>\n",
       "      <th>installment</th>\n",
       "      <th>grade</th>\n",
       "      <th>sub_grade</th>\n",
       "      <th>emp_length</th>\n",
       "      <th>...</th>\n",
       "      <th>pub_rec_bankruptcies</th>\n",
       "      <th>tax_liens</th>\n",
       "      <th>tot_hi_cred_lim</th>\n",
       "      <th>total_bal_ex_mort</th>\n",
       "      <th>total_bc_limit</th>\n",
       "      <th>total_il_high_credit_limit</th>\n",
       "      <th>hardship_flag</th>\n",
       "      <th>disbursement_method</th>\n",
       "      <th>debt_settlement_flag</th>\n",
       "      <th>application_label</th>\n",
       "    </tr>\n",
       "  </thead>\n",
       "  <tbody>\n",
       "    <tr>\n",
       "      <th>0</th>\n",
       "      <td>68407277</td>\n",
       "      <td>3600.0</td>\n",
       "      <td>3600.0</td>\n",
       "      <td>3600.0</td>\n",
       "      <td>36 months</td>\n",
       "      <td>13.99</td>\n",
       "      <td>123.03</td>\n",
       "      <td>C</td>\n",
       "      <td>C4</td>\n",
       "      <td>10+ years</td>\n",
       "      <td>...</td>\n",
       "      <td>0.0</td>\n",
       "      <td>0.0</td>\n",
       "      <td>178050.0</td>\n",
       "      <td>7746.0</td>\n",
       "      <td>2400.0</td>\n",
       "      <td>13734.0</td>\n",
       "      <td>N</td>\n",
       "      <td>Cash</td>\n",
       "      <td>N</td>\n",
       "      <td>approved</td>\n",
       "    </tr>\n",
       "    <tr>\n",
       "      <th>1</th>\n",
       "      <td>68355089</td>\n",
       "      <td>24700.0</td>\n",
       "      <td>24700.0</td>\n",
       "      <td>24700.0</td>\n",
       "      <td>36 months</td>\n",
       "      <td>11.99</td>\n",
       "      <td>820.28</td>\n",
       "      <td>C</td>\n",
       "      <td>C1</td>\n",
       "      <td>10+ years</td>\n",
       "      <td>...</td>\n",
       "      <td>0.0</td>\n",
       "      <td>0.0</td>\n",
       "      <td>314017.0</td>\n",
       "      <td>39475.0</td>\n",
       "      <td>79300.0</td>\n",
       "      <td>24667.0</td>\n",
       "      <td>N</td>\n",
       "      <td>Cash</td>\n",
       "      <td>N</td>\n",
       "      <td>approved</td>\n",
       "    </tr>\n",
       "    <tr>\n",
       "      <th>2</th>\n",
       "      <td>68341763</td>\n",
       "      <td>20000.0</td>\n",
       "      <td>20000.0</td>\n",
       "      <td>20000.0</td>\n",
       "      <td>60 months</td>\n",
       "      <td>10.78</td>\n",
       "      <td>432.66</td>\n",
       "      <td>B</td>\n",
       "      <td>B4</td>\n",
       "      <td>10+ years</td>\n",
       "      <td>...</td>\n",
       "      <td>0.0</td>\n",
       "      <td>0.0</td>\n",
       "      <td>218418.0</td>\n",
       "      <td>18696.0</td>\n",
       "      <td>6200.0</td>\n",
       "      <td>14877.0</td>\n",
       "      <td>N</td>\n",
       "      <td>Cash</td>\n",
       "      <td>N</td>\n",
       "      <td>approved</td>\n",
       "    </tr>\n",
       "    <tr>\n",
       "      <th>3</th>\n",
       "      <td>66310712</td>\n",
       "      <td>35000.0</td>\n",
       "      <td>35000.0</td>\n",
       "      <td>35000.0</td>\n",
       "      <td>60 months</td>\n",
       "      <td>14.85</td>\n",
       "      <td>829.90</td>\n",
       "      <td>C</td>\n",
       "      <td>C5</td>\n",
       "      <td>10+ years</td>\n",
       "      <td>...</td>\n",
       "      <td>0.0</td>\n",
       "      <td>0.0</td>\n",
       "      <td>381215.0</td>\n",
       "      <td>52226.0</td>\n",
       "      <td>62500.0</td>\n",
       "      <td>18000.0</td>\n",
       "      <td>N</td>\n",
       "      <td>Cash</td>\n",
       "      <td>N</td>\n",
       "      <td>approved</td>\n",
       "    </tr>\n",
       "    <tr>\n",
       "      <th>4</th>\n",
       "      <td>68476807</td>\n",
       "      <td>10400.0</td>\n",
       "      <td>10400.0</td>\n",
       "      <td>10400.0</td>\n",
       "      <td>60 months</td>\n",
       "      <td>22.45</td>\n",
       "      <td>289.91</td>\n",
       "      <td>F</td>\n",
       "      <td>F1</td>\n",
       "      <td>3 years</td>\n",
       "      <td>...</td>\n",
       "      <td>0.0</td>\n",
       "      <td>0.0</td>\n",
       "      <td>439570.0</td>\n",
       "      <td>95768.0</td>\n",
       "      <td>20300.0</td>\n",
       "      <td>88097.0</td>\n",
       "      <td>N</td>\n",
       "      <td>Cash</td>\n",
       "      <td>N</td>\n",
       "      <td>approved</td>\n",
       "    </tr>\n",
       "  </tbody>\n",
       "</table>\n",
       "<p>5 rows × 103 columns</p>\n",
       "</div>"
      ],
      "text/plain": [
       "         id  loan_amnt  funded_amnt  funded_amnt_inv        term  int_rate  \\\n",
       "0  68407277     3600.0       3600.0           3600.0   36 months     13.99   \n",
       "1  68355089    24700.0      24700.0          24700.0   36 months     11.99   \n",
       "2  68341763    20000.0      20000.0          20000.0   60 months     10.78   \n",
       "3  66310712    35000.0      35000.0          35000.0   60 months     14.85   \n",
       "4  68476807    10400.0      10400.0          10400.0   60 months     22.45   \n",
       "\n",
       "   installment grade sub_grade emp_length  ... pub_rec_bankruptcies  \\\n",
       "0       123.03     C        C4  10+ years  ...                  0.0   \n",
       "1       820.28     C        C1  10+ years  ...                  0.0   \n",
       "2       432.66     B        B4  10+ years  ...                  0.0   \n",
       "3       829.90     C        C5  10+ years  ...                  0.0   \n",
       "4       289.91     F        F1    3 years  ...                  0.0   \n",
       "\n",
       "   tax_liens tot_hi_cred_lim total_bal_ex_mort total_bc_limit  \\\n",
       "0        0.0        178050.0            7746.0         2400.0   \n",
       "1        0.0        314017.0           39475.0        79300.0   \n",
       "2        0.0        218418.0           18696.0         6200.0   \n",
       "3        0.0        381215.0           52226.0        62500.0   \n",
       "4        0.0        439570.0           95768.0        20300.0   \n",
       "\n",
       "  total_il_high_credit_limit hardship_flag disbursement_method  \\\n",
       "0                    13734.0             N                Cash   \n",
       "1                    24667.0             N                Cash   \n",
       "2                    14877.0             N                Cash   \n",
       "3                    18000.0             N                Cash   \n",
       "4                    88097.0             N                Cash   \n",
       "\n",
       "  debt_settlement_flag  application_label  \n",
       "0                    N           approved  \n",
       "1                    N           approved  \n",
       "2                    N           approved  \n",
       "3                    N           approved  \n",
       "4                    N           approved  \n",
       "\n",
       "[5 rows x 103 columns]"
      ]
     },
     "execution_count": 30,
     "metadata": {},
     "output_type": "execute_result"
    }
   ],
   "source": [
    "df_backup.head()"
   ]
  },
  {
   "cell_type": "code",
   "execution_count": 31,
   "metadata": {},
   "outputs": [],
   "source": [
    "df_approved = df_approved[['id'] + list(df_rejected.columns)]"
   ]
  },
  {
   "cell_type": "code",
   "execution_count": 32,
   "metadata": {},
   "outputs": [],
   "source": [
    "df_rejected['id'] = [i for i in range(len(df_rejected))]"
   ]
  },
  {
   "cell_type": "code",
   "execution_count": 33,
   "metadata": {},
   "outputs": [],
   "source": [
    "df_rejected = df_rejected[df_approved.columns]"
   ]
  },
  {
   "cell_type": "code",
   "execution_count": 34,
   "metadata": {},
   "outputs": [],
   "source": [
    "df_combined = df_rejected.append(df_approved)"
   ]
  },
  {
   "cell_type": "code",
   "execution_count": 35,
   "metadata": {},
   "outputs": [],
   "source": [
    "def transform_emp_length(value):\n",
    "    try:\n",
    "        if '10+' in value:\n",
    "            return 10\n",
    "        elif '< 1' in value:\n",
    "            return 0.5\n",
    "        else:\n",
    "            return int(value[0])\n",
    "    except:\n",
    "        return 0\n",
    "df_combined['emp_length'] = df_combined['emp_length'].apply(transform_emp_length)"
   ]
  },
  {
   "cell_type": "code",
   "execution_count": 36,
   "metadata": {},
   "outputs": [],
   "source": [
    "def transform_dti(value):\n",
    "    value = str(value)\n",
    "    value = value.replace('%','')\n",
    "    try:\n",
    "        value = float(value)\n",
    "    except:\n",
    "        value = 0\n",
    "    return value\n",
    "\n",
    "\n",
    "df_combined['dti'] = df_combined['dti'].apply(transform_dti)"
   ]
  },
  {
   "cell_type": "code",
   "execution_count": 37,
   "metadata": {},
   "outputs": [],
   "source": [
    "df_combined['fico_range_low'] = df_combined['fico_range_low'].fillna(0)"
   ]
  },
  {
   "cell_type": "code",
   "execution_count": 38,
   "metadata": {},
   "outputs": [],
   "source": [
    "def transform_purpose(value):\n",
    "    if value in ['debt_consolidation', 'credit_card','medical', 'house', 'car', 'small_business', 'other']:\n",
    "        return value\n",
    "    else:\n",
    "        return 'personal'\n",
    "\n",
    "df_combined['purpose'] = df_combined['purpose'].apply(transform_purpose)"
   ]
  },
  {
   "cell_type": "code",
   "execution_count": 39,
   "metadata": {},
   "outputs": [],
   "source": [
    "df_combined.to_csv('../datasets/lending-club-loan-v2/application-approved-rejected.csv', index=False)"
   ]
  },
  {
   "cell_type": "markdown",
   "metadata": {},
   "source": [
    "## Import dataset"
   ]
  },
  {
   "cell_type": "code",
   "execution_count": 3,
   "metadata": {},
   "outputs": [],
   "source": [
    "df_combined = pd.read_csv('../datasets/lending-club-loan-v2/application-approved-rejected.csv')"
   ]
  },
  {
   "cell_type": "code",
   "execution_count": 4,
   "metadata": {},
   "outputs": [
    {
     "data": {
      "text/html": [
       "<div>\n",
       "<style scoped>\n",
       "    .dataframe tbody tr th:only-of-type {\n",
       "        vertical-align: middle;\n",
       "    }\n",
       "\n",
       "    .dataframe tbody tr th {\n",
       "        vertical-align: top;\n",
       "    }\n",
       "\n",
       "    .dataframe thead th {\n",
       "        text-align: right;\n",
       "    }\n",
       "</style>\n",
       "<table border=\"1\" class=\"dataframe\">\n",
       "  <thead>\n",
       "    <tr style=\"text-align: right;\">\n",
       "      <th></th>\n",
       "      <th>id</th>\n",
       "      <th>loan_amnt</th>\n",
       "      <th>issue_d</th>\n",
       "      <th>purpose</th>\n",
       "      <th>fico_range_low</th>\n",
       "      <th>dti</th>\n",
       "      <th>zip_code</th>\n",
       "      <th>addr_state</th>\n",
       "      <th>emp_length</th>\n",
       "      <th>policy_code</th>\n",
       "      <th>application_label</th>\n",
       "    </tr>\n",
       "  </thead>\n",
       "  <tbody>\n",
       "    <tr>\n",
       "      <th>0</th>\n",
       "      <td>0</td>\n",
       "      <td>1000.0</td>\n",
       "      <td>01-Apr-16</td>\n",
       "      <td>other</td>\n",
       "      <td>0.0</td>\n",
       "      <td>2.69</td>\n",
       "      <td>331xx</td>\n",
       "      <td>FL</td>\n",
       "      <td>0.5</td>\n",
       "      <td>0.0</td>\n",
       "      <td>rejected</td>\n",
       "    </tr>\n",
       "    <tr>\n",
       "      <th>1</th>\n",
       "      <td>1</td>\n",
       "      <td>4000.0</td>\n",
       "      <td>01-Apr-16</td>\n",
       "      <td>debt_consolidation</td>\n",
       "      <td>0.0</td>\n",
       "      <td>28.26</td>\n",
       "      <td>834xx</td>\n",
       "      <td>ID</td>\n",
       "      <td>0.5</td>\n",
       "      <td>0.0</td>\n",
       "      <td>rejected</td>\n",
       "    </tr>\n",
       "    <tr>\n",
       "      <th>2</th>\n",
       "      <td>2</td>\n",
       "      <td>5000.0</td>\n",
       "      <td>01-Apr-16</td>\n",
       "      <td>personal</td>\n",
       "      <td>0.0</td>\n",
       "      <td>-1.00</td>\n",
       "      <td>648xx</td>\n",
       "      <td>MO</td>\n",
       "      <td>0.0</td>\n",
       "      <td>0.0</td>\n",
       "      <td>rejected</td>\n",
       "    </tr>\n",
       "    <tr>\n",
       "      <th>3</th>\n",
       "      <td>3</td>\n",
       "      <td>1000.0</td>\n",
       "      <td>01-Apr-16</td>\n",
       "      <td>personal</td>\n",
       "      <td>628.0</td>\n",
       "      <td>21.43</td>\n",
       "      <td>380xx</td>\n",
       "      <td>TN</td>\n",
       "      <td>0.5</td>\n",
       "      <td>0.0</td>\n",
       "      <td>rejected</td>\n",
       "    </tr>\n",
       "    <tr>\n",
       "      <th>4</th>\n",
       "      <td>4</td>\n",
       "      <td>3000.0</td>\n",
       "      <td>01-Apr-16</td>\n",
       "      <td>personal</td>\n",
       "      <td>0.0</td>\n",
       "      <td>8.49</td>\n",
       "      <td>895xx</td>\n",
       "      <td>NV</td>\n",
       "      <td>2.0</td>\n",
       "      <td>2.0</td>\n",
       "      <td>rejected</td>\n",
       "    </tr>\n",
       "    <tr>\n",
       "      <th>...</th>\n",
       "      <td>...</td>\n",
       "      <td>...</td>\n",
       "      <td>...</td>\n",
       "      <td>...</td>\n",
       "      <td>...</td>\n",
       "      <td>...</td>\n",
       "      <td>...</td>\n",
       "      <td>...</td>\n",
       "      <td>...</td>\n",
       "      <td>...</td>\n",
       "      <td>...</td>\n",
       "    </tr>\n",
       "    <tr>\n",
       "      <th>1341642</th>\n",
       "      <td>72663394</td>\n",
       "      <td>14400.0</td>\n",
       "      <td>01-Feb-16</td>\n",
       "      <td>credit_card</td>\n",
       "      <td>675.0</td>\n",
       "      <td>33.76</td>\n",
       "      <td>168xx</td>\n",
       "      <td>PA</td>\n",
       "      <td>10.0</td>\n",
       "      <td>1.0</td>\n",
       "      <td>approved</td>\n",
       "    </tr>\n",
       "    <tr>\n",
       "      <th>1341643</th>\n",
       "      <td>72673678</td>\n",
       "      <td>10000.0</td>\n",
       "      <td>01-Feb-16</td>\n",
       "      <td>debt_consolidation</td>\n",
       "      <td>665.0</td>\n",
       "      <td>26.41</td>\n",
       "      <td>985xx</td>\n",
       "      <td>WA</td>\n",
       "      <td>10.0</td>\n",
       "      <td>1.0</td>\n",
       "      <td>approved</td>\n",
       "    </tr>\n",
       "    <tr>\n",
       "      <th>1341644</th>\n",
       "      <td>72663353</td>\n",
       "      <td>16000.0</td>\n",
       "      <td>01-Feb-16</td>\n",
       "      <td>debt_consolidation</td>\n",
       "      <td>710.0</td>\n",
       "      <td>21.67</td>\n",
       "      <td>284xx</td>\n",
       "      <td>NC</td>\n",
       "      <td>0.5</td>\n",
       "      <td>1.0</td>\n",
       "      <td>approved</td>\n",
       "    </tr>\n",
       "    <tr>\n",
       "      <th>1341645</th>\n",
       "      <td>72785737</td>\n",
       "      <td>6000.0</td>\n",
       "      <td>01-Feb-16</td>\n",
       "      <td>debt_consolidation</td>\n",
       "      <td>715.0</td>\n",
       "      <td>25.98</td>\n",
       "      <td>394xx</td>\n",
       "      <td>MS</td>\n",
       "      <td>6.0</td>\n",
       "      <td>1.0</td>\n",
       "      <td>approved</td>\n",
       "    </tr>\n",
       "    <tr>\n",
       "      <th>1341646</th>\n",
       "      <td>72573375</td>\n",
       "      <td>1000.0</td>\n",
       "      <td>01-Feb-16</td>\n",
       "      <td>personal</td>\n",
       "      <td>755.0</td>\n",
       "      <td>8.33</td>\n",
       "      <td>147xx</td>\n",
       "      <td>NY</td>\n",
       "      <td>10.0</td>\n",
       "      <td>1.0</td>\n",
       "      <td>approved</td>\n",
       "    </tr>\n",
       "  </tbody>\n",
       "</table>\n",
       "<p>1341647 rows × 11 columns</p>\n",
       "</div>"
      ],
      "text/plain": [
       "               id  loan_amnt    issue_d             purpose  fico_range_low  \\\n",
       "0               0     1000.0  01-Apr-16               other             0.0   \n",
       "1               1     4000.0  01-Apr-16  debt_consolidation             0.0   \n",
       "2               2     5000.0  01-Apr-16            personal             0.0   \n",
       "3               3     1000.0  01-Apr-16            personal           628.0   \n",
       "4               4     3000.0  01-Apr-16            personal             0.0   \n",
       "...           ...        ...        ...                 ...             ...   \n",
       "1341642  72663394    14400.0  01-Feb-16         credit_card           675.0   \n",
       "1341643  72673678    10000.0  01-Feb-16  debt_consolidation           665.0   \n",
       "1341644  72663353    16000.0  01-Feb-16  debt_consolidation           710.0   \n",
       "1341645  72785737     6000.0  01-Feb-16  debt_consolidation           715.0   \n",
       "1341646  72573375     1000.0  01-Feb-16            personal           755.0   \n",
       "\n",
       "           dti zip_code addr_state  emp_length  policy_code application_label  \n",
       "0         2.69    331xx         FL         0.5          0.0          rejected  \n",
       "1        28.26    834xx         ID         0.5          0.0          rejected  \n",
       "2        -1.00    648xx         MO         0.0          0.0          rejected  \n",
       "3        21.43    380xx         TN         0.5          0.0          rejected  \n",
       "4         8.49    895xx         NV         2.0          2.0          rejected  \n",
       "...        ...      ...        ...         ...          ...               ...  \n",
       "1341642  33.76    168xx         PA        10.0          1.0          approved  \n",
       "1341643  26.41    985xx         WA        10.0          1.0          approved  \n",
       "1341644  21.67    284xx         NC         0.5          1.0          approved  \n",
       "1341645  25.98    394xx         MS         6.0          1.0          approved  \n",
       "1341646   8.33    147xx         NY        10.0          1.0          approved  \n",
       "\n",
       "[1341647 rows x 11 columns]"
      ]
     },
     "execution_count": 4,
     "metadata": {},
     "output_type": "execute_result"
    }
   ],
   "source": [
    "df_combined"
   ]
  },
  {
   "cell_type": "code",
   "execution_count": 5,
   "metadata": {},
   "outputs": [],
   "source": [
    "df_combined.drop(['id', 'issue_d', 'addr_state', 'zip_code', 'policy_code'], axis=1, inplace=True)"
   ]
  },
  {
   "cell_type": "markdown",
   "metadata": {},
   "source": [
    "## 2. Split training test"
   ]
  },
  {
   "cell_type": "code",
   "execution_count": 6,
   "metadata": {},
   "outputs": [],
   "source": [
    "from sklearn.model_selection import train_test_split\n",
    "from sklearn.preprocessing import LabelEncoder"
   ]
  },
  {
   "cell_type": "code",
   "execution_count": 7,
   "metadata": {},
   "outputs": [],
   "source": [
    "le = LabelEncoder()"
   ]
  },
  {
   "cell_type": "code",
   "execution_count": 39,
   "metadata": {},
   "outputs": [],
   "source": [
    "X = df_combined.drop('application_label', axis=1)\n",
    "y = le.fit_transform(df_combined['application_label'])\n",
    "X.fillna(0, inplace=True)\n",
    "X_train, X_test, y_train, y_test = train_test_split(X, y, stratify=y, random_state=42)"
   ]
  },
  {
   "cell_type": "markdown",
   "metadata": {},
   "source": [
    "## 3.1. Run Boolean Rule Column Generation (BRCG)"
   ]
  },
  {
   "cell_type": "markdown",
   "metadata": {},
   "source": [
    "To get a better understanding on how the Lending Club approve/reject the application, we use Boolean Rule Column Generation to create rules for that. This might help us identify which features that are significant in distinguishing rejected and approved loan application."
   ]
  },
  {
   "cell_type": "code",
   "execution_count": 9,
   "metadata": {},
   "outputs": [],
   "source": [
    "from aix360.algorithms.rbm import FeatureBinarizer\n",
    "fb = FeatureBinarizer(negations=True, returnOrd=True)"
   ]
  },
  {
   "cell_type": "code",
   "execution_count": 10,
   "metadata": {},
   "outputs": [
    {
     "name": "stderr",
     "output_type": "stream",
     "text": [
      "/home/jupyter-ariff/.local/lib/python3.7/site-packages/aix360/algorithms/rbm/features.py:154: RuntimeWarning: invalid value encountered in less_equal\n",
      "  Anew = (data[c].values[:, np.newaxis] <= thresh[c]).astype(int)\n",
      "/home/jupyter-ariff/.local/lib/python3.7/site-packages/aix360/algorithms/rbm/features.py:154: RuntimeWarning: invalid value encountered in less_equal\n",
      "  Anew = (data[c].values[:, np.newaxis] <= thresh[c]).astype(int)\n"
     ]
    }
   ],
   "source": [
    "X_train, X_trainStd = fb.fit_transform(X_train)\n",
    "X_test, X_testStd = fb.transform(X_test)"
   ]
  },
  {
   "cell_type": "code",
   "execution_count": 11,
   "metadata": {},
   "outputs": [],
   "source": [
    "from aix360.algorithms.rbm import BooleanRuleCG\n",
    "br = BooleanRuleCG(lambda0 = 0.001, lambda1 = 0.001, CNF=True)"
   ]
  },
  {
   "cell_type": "code",
   "execution_count": 12,
   "metadata": {},
   "outputs": [
    {
     "data": {
      "text/plain": [
       "array(['approved', 'rejected'], dtype=object)"
      ]
     },
     "execution_count": 12,
     "metadata": {},
     "output_type": "execute_result"
    }
   ],
   "source": [
    "le.classes_"
   ]
  },
  {
   "cell_type": "code",
   "execution_count": 13,
   "metadata": {},
   "outputs": [
    {
     "name": "stdout",
     "output_type": "stream",
     "text": [
      "Learning CNF rule with complexity parameters lambda0=0.001, lambda1=0.001\n",
      "Initial LP solved\n",
      "Iteration: 1, Objective: 0.0204\n",
      "Iteration: 2, Objective: 0.0204\n",
      "Iteration: 3, Objective: 0.0204\n",
      "Iteration: 4, Objective: 0.0204\n",
      "Training accuracy: 0.9815520231357486\n",
      "Test accuracy: 0.9814705496523678\n",
      "Predict Y=0 [Approved] if ANY of the following rules are satisfied, otherwise Y=1 [Rejected]:\n",
      "['fico_range_low > 645.00']\n"
     ]
    }
   ],
   "source": [
    "br.fit(X_train, y_train)\n",
    "\n",
    "from sklearn.metrics import accuracy_score\n",
    "print('Training accuracy:', accuracy_score(y_train, br.predict(X_train)))\n",
    "print('Test accuracy:', accuracy_score(y_test, br.predict(X_test)))\n",
    "print('Predict Y=0 [Approved] if ANY of the following rules are satisfied, otherwise Y=1 [Rejected]:')\n",
    "print(br.explain()['rules'])"
   ]
  },
  {
   "cell_type": "code",
   "execution_count": 26,
   "metadata": {},
   "outputs": [
    {
     "data": {
      "text/plain": [
       "['boolean-rule-model.pkl']"
      ]
     },
     "execution_count": 26,
     "metadata": {},
     "output_type": "execute_result"
    }
   ],
   "source": [
    "import joblib\n",
    "\n",
    "joblib.dump(value=br, filename='boolean-rule-model.pkl')"
   ]
  },
  {
   "cell_type": "markdown",
   "metadata": {},
   "source": [
    "## 3.2. Run Logistic Rule Regression (LogRR)"
   ]
  },
  {
   "cell_type": "markdown",
   "metadata": {},
   "source": [
    "LogRR fits a logistic regression model using rule-based features, where column generation is again used to generate promising candidates from the space of all possible rules. Here we are also including unbinarized ordinal features (useOrd=True) in addition to rules."
   ]
  },
  {
   "cell_type": "code",
   "execution_count": 14,
   "metadata": {},
   "outputs": [
    {
     "name": "stderr",
     "output_type": "stream",
     "text": [
      "/home/jupyter-ariff/.local/lib/python3.7/site-packages/sklearn/linear_model/_sag.py:330: ConvergenceWarning: The max_iter was reached which means the coef_ did not converge\n",
      "  \"the coef_ did not converge\", ConvergenceWarning)\n"
     ]
    },
    {
     "name": "stdout",
     "output_type": "stream",
     "text": [
      "Training accuracy: 0.9820688010256053\n",
      "Test accuracy: 0.9817627276304962\n",
      "Probability of Y=1 is predicted as logistic(z) = 1 / (1 + exp(-z))\n",
      "where z is a linear combination of the following rules/numerical features:\n"
     ]
    },
    {
     "data": {
      "text/html": [
       "<div>\n",
       "<style scoped>\n",
       "    .dataframe tbody tr th:only-of-type {\n",
       "        vertical-align: middle;\n",
       "    }\n",
       "\n",
       "    .dataframe tbody tr th {\n",
       "        vertical-align: top;\n",
       "    }\n",
       "\n",
       "    .dataframe thead th {\n",
       "        text-align: right;\n",
       "    }\n",
       "</style>\n",
       "<table border=\"1\" class=\"dataframe\">\n",
       "  <thead>\n",
       "    <tr style=\"text-align: right;\">\n",
       "      <th></th>\n",
       "      <th>rule/numerical feature</th>\n",
       "      <th>coefficient</th>\n",
       "    </tr>\n",
       "  </thead>\n",
       "  <tbody>\n",
       "    <tr>\n",
       "      <th>0</th>\n",
       "      <td>(intercept)</td>\n",
       "      <td>2.37508</td>\n",
       "    </tr>\n",
       "    <tr>\n",
       "      <th>1</th>\n",
       "      <td>fico_range_low &lt;= 645.00</td>\n",
       "      <td>13.0954</td>\n",
       "    </tr>\n",
       "    <tr>\n",
       "      <th>2</th>\n",
       "      <td>fico_range_low</td>\n",
       "      <td>-6.36125</td>\n",
       "    </tr>\n",
       "    <tr>\n",
       "      <th>3</th>\n",
       "      <td>fico_range_low &gt; 645.00 AND emp_length &gt; 0.50</td>\n",
       "      <td>-4.5325</td>\n",
       "    </tr>\n",
       "    <tr>\n",
       "      <th>4</th>\n",
       "      <td>fico_range_low &gt; 645.00 AND dti &lt;= 34.37</td>\n",
       "      <td>-2.82816</td>\n",
       "    </tr>\n",
       "    <tr>\n",
       "      <th>5</th>\n",
       "      <td>purpose != personal AND fico_range_low &gt; 645.00</td>\n",
       "      <td>-2.10275</td>\n",
       "    </tr>\n",
       "    <tr>\n",
       "      <th>6</th>\n",
       "      <td>loan_amnt &lt;= 19950.00 AND fico_range_low &gt; 645.00</td>\n",
       "      <td>-1.27639</td>\n",
       "    </tr>\n",
       "    <tr>\n",
       "      <th>7</th>\n",
       "      <td>fico_range_low &lt;= 665.00</td>\n",
       "      <td>0.80415</td>\n",
       "    </tr>\n",
       "  </tbody>\n",
       "</table>\n",
       "</div>"
      ],
      "text/plain": [
       "                              rule/numerical feature coefficient\n",
       "0                                        (intercept)     2.37508\n",
       "1                           fico_range_low <= 645.00     13.0954\n",
       "2                                     fico_range_low    -6.36125\n",
       "3      fico_range_low > 645.00 AND emp_length > 0.50     -4.5325\n",
       "4           fico_range_low > 645.00 AND dti <= 34.37    -2.82816\n",
       "5    purpose != personal AND fico_range_low > 645.00    -2.10275\n",
       "6  loan_amnt <= 19950.00 AND fico_range_low > 645.00    -1.27639\n",
       "7                           fico_range_low <= 665.00     0.80415"
      ]
     },
     "execution_count": 14,
     "metadata": {},
     "output_type": "execute_result"
    }
   ],
   "source": [
    "# Instantiate LRR with good complexity penalties and numerical features\n",
    "from aix360.algorithms.rbm import LogisticRuleRegression\n",
    "lrr = LogisticRuleRegression(lambda0=0.005, lambda1=0.001, useOrd=True)\n",
    "\n",
    "# Train, print, and evaluate model\n",
    "lrr.fit(X_train, y_train, X_trainStd)\n",
    "print('Training accuracy:', accuracy_score(y_train, lrr.predict(X_train, X_trainStd)))\n",
    "print('Test accuracy:', accuracy_score(y_test, lrr.predict(X_test, X_testStd)))\n",
    "print('Probability of Y=1 is predicted as logistic(z) = 1 / (1 + exp(-z))')\n",
    "print('where z is a linear combination of the following rules/numerical features:')\n",
    "lrr.explain()"
   ]
  },
  {
   "cell_type": "code",
   "execution_count": 27,
   "metadata": {},
   "outputs": [
    {
     "data": {
      "text/plain": [
       "['logistic-rule-model.pkl']"
      ]
     },
     "execution_count": 27,
     "metadata": {},
     "output_type": "execute_result"
    }
   ],
   "source": [
    "joblib.dump(value=lrr, filename='logistic-rule-model.pkl')"
   ]
  },
  {
   "cell_type": "markdown",
   "metadata": {},
   "source": [
    "### Fico Score"
   ]
  },
  {
   "cell_type": "markdown",
   "metadata": {},
   "source": [
    "As highlighted from the rules created by BRCG, FICO Score is an important feature identifying whether the loan is going to be rejected or not."
   ]
  },
  {
   "cell_type": "code",
   "execution_count": 15,
   "metadata": {},
   "outputs": [
    {
     "data": {
      "image/png": "[encoded data removed]",
      "text/plain": [
       "<Figure size 432x288 with 1 Axes>"
      ]
     },
     "metadata": {
      "needs_background": "light"
     },
     "output_type": "display_data"
    }
   ],
   "source": [
    "lrr.visualize(df_combined, fb, ['fico_range_low']);"
   ]
  },
  {
   "cell_type": "markdown",
   "metadata": {},
   "source": [
    "After getting the information on what features are significant in deciding the loan application, we may need to know on what aspects that the borrower who are rejected need to know to improve their chances on getting the loan."
   ]
  }
 ],
 "metadata": {
  "kernelspec": {
   "display_name": "Python 3",
   "language": "python",
   "name": "python3"
  },
  "language_info": {
   "codemirror_mode": {
    "name": "ipython",
    "version": 3
   },
   "file_extension": ".py",
   "mimetype": "text/x-python",
   "name": "python",
   "nbconvert_exporter": "python",
   "pygments_lexer": "ipython3",
   "version": "3.7.3"
  }
 },
 "nbformat": 4,
 "nbformat_minor": 4
}

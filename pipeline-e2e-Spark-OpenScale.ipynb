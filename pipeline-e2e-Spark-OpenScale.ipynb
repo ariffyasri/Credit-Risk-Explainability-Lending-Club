{
 "cells": [
  {
   "cell_type": "code",
   "execution_count": null,
   "metadata": {},
   "outputs": [],
   "source": [
    "!pip install watson-machine-learning-client==1.0.376\n",
    "\n",
    "!pip install --upgrade ibm-ai-openscale\n",
    "\n",
    "!pip install pyspark==2.3.0"
   ]
  },
  {
   "cell_type": "code",
   "execution_count": null,
   "metadata": {},
   "outputs": [],
   "source": [
    "from pyspark.sql.functions import col, trim, lower\n",
    "from pyspark.sql.functions import lit\n",
    "from pyspark.sql.types import StringType\n",
    "from pyspark.sql.functions import udf\n",
    "from pyspark.sql import SparkSession\n",
    "import pandas as pd\n",
    "import json\n",
    "\n",
    "spark = SparkSession.builder.getOrCreate()"
   ]
  },
  {
   "cell_type": "code",
   "execution_count": null,
   "metadata": {
    "scrolled": true
   },
   "outputs": [],
   "source": [
    "import ibmos2spark\n",
    "# @hidden_cell\n",
    "credentials = {\n",
    "    'endpoint': 'endpoint',\n",
    "    'service_id': 'service_id',\n",
    "    'iam_service_endpoint': 'endpoint',\n",
    "    'api_key': 'api_key'\n",
    "}\n",
    "\n",
    "configuration_name = 'configname'\n",
    "cos = ibmos2spark.CloudObjectStorage(sc, credentials, configuration_name, 'bluemix_cos')\n",
    "\n",
    "from pyspark.sql import SparkSession\n",
    "spark = SparkSession.builder.getOrCreate()\n",
    "df_data = spark.read\\\n",
    "  .format('org.apache.spark.sql.execution.datasources.csv.CSVFileFormat')\\\n",
    "  .option('header', 'true')\\\n",
    "  .load(cos.url('dataset.csv', 'lendingclub-donotdelete-pr-102f9pbcpkkuj9'), header=True, inferSchema=True)\n",
    "df_data.take(5)\n"
   ]
  },
  {
   "cell_type": "code",
   "execution_count": null,
   "metadata": {},
   "outputs": [],
   "source": [
    "\n",
    "import types\n",
    "import pandas as pd\n",
    "from botocore.client import Config\n",
    "import ibm_boto3\n",
    "\n",
    "def __iter__(self): return 0\n",
    "\n",
    "# @hidden_cell\n",
    "# The following code accesses a file in your IBM Cloud Object Storage. It includes your credentials.\n",
    "# You might want to remove those credentials before you share the notebook.\n",
    "client_30d96c6e27154b7d92410a8469740ae4 = ibm_boto3.client(service_name='s3',\n",
    "    ibm_api_key_id='api',\n",
    "    ibm_auth_endpoint=\"endpoint\",\n",
    "    config=Config(signature_version='oauth'),\n",
    "    endpoint_url='https://s3-api.us-geo.objectstorage.service.networklayer.com')\n",
    "\n",
    "body = client_30d96c6e27154b7d92410a8469740ae4.get_object(Bucket='lendingclub-donotdelete-pr-102f9pbckkuj9',Key='dataset.csv')['Body']\n",
    "# add missing __iter__ method, so pandas accepts body as file-like object\n",
    "if not hasattr(body, \"__iter__\"): body.__iter__ = types.MethodType( __iter__, body )\n",
    "\n",
    "pd_data = pd.read_csv(body)\n",
    "pd_data.head()\n"
   ]
  },
  {
   "cell_type": "code",
   "execution_count": null,
   "metadata": {
    "scrolled": true
   },
   "outputs": [],
   "source": [
    "df_data.printSchema()"
   ]
  },
  {
   "cell_type": "code",
   "execution_count": null,
   "metadata": {
    "scrolled": true
   },
   "outputs": [],
   "source": [
    "from pyspark.ml.feature import OneHotEncoder, StringIndexer, IndexToString, VectorAssembler\n",
    "from pyspark.ml.evaluation import MulticlassClassificationEvaluator\n",
    "from pyspark.ml import Pipeline, Model"
   ]
  },
  {
   "cell_type": "code",
   "execution_count": null,
   "metadata": {},
   "outputs": [],
   "source": [
    "selected_columns = ['application_type','loan_amnt','purpose','annual_inc','fico_range_low','term','dti','revol_bal','revol_util',\n",
    "           'inq_last_6mths','delinq_2yrs','pub_rec','total_bal_il','total_rev_hi_lim','avg_cur_bal','tot_hi_cred_lim']"
   ]
  },
  {
   "cell_type": "code",
   "execution_count": null,
   "metadata": {},
   "outputs": [],
   "source": [
    "label = ['grade']"
   ]
  },
  {
   "cell_type": "code",
   "execution_count": null,
   "metadata": {},
   "outputs": [],
   "source": [
    "pd_data = pd_data[selected_columns+label]\n",
    "spark_df = df_data.select(*selected_columns+label)"
   ]
  },
  {
   "cell_type": "code",
   "execution_count": null,
   "metadata": {},
   "outputs": [],
   "source": [
    "def transform_purpose(self, value):\n",
    "    if value in ['debt_consolidation', 'credit_card','medical', 'house', 'car', 'small_business', 'other']:\n",
    "        return value\n",
    "    else:\n",
    "        return 'personal'\n",
    "\n",
    "# pd_data['purpose'] = pd_data['purpose'].apply(transform_purpose)\n",
    "\n",
    "udf_func = udf(transform_purpose, StringType())\n",
    "spark_df = spark_df.withColumn('purpose', udf_func(col('purpose'), 'purpose'))"
   ]
  },
  {
   "cell_type": "code",
   "execution_count": null,
   "metadata": {},
   "outputs": [],
   "source": [
    "(train_data, test_data) = spark_df.randomSplit([0.8, 0.2], 24)\n",
    "\n",
    "spark_df.printSchema()"
   ]
  },
  {
   "cell_type": "code",
   "execution_count": null,
   "metadata": {},
   "outputs": [],
   "source": [
    "cat_cols = list(pd_data.drop('grade', axis=1).select_dtypes('object').columns)\n",
    "num_cols = list(pd_data.drop('grade', axis=1).select_dtypes('number').columns)"
   ]
  },
  {
   "cell_type": "code",
   "execution_count": null,
   "metadata": {},
   "outputs": [],
   "source": [
    "cat_cols"
   ]
  },
  {
   "cell_type": "code",
   "execution_count": null,
   "metadata": {},
   "outputs": [],
   "source": [
    "num_cols"
   ]
  },
  {
   "cell_type": "code",
   "execution_count": null,
   "metadata": {},
   "outputs": [],
   "source": [
    "dict_cat_SI = {}\n",
    "cat_cols_IX = []\n",
    "for col in cat_cols:\n",
    "    dict_cat_SI[col] = StringIndexer(inputCol = col, outputCol = col+'_IX')\n",
    "    cat_cols_IX.append(col+'_IX')"
   ]
  },
  {
   "cell_type": "code",
   "execution_count": null,
   "metadata": {},
   "outputs": [],
   "source": [
    "label_SI = StringIndexer(inputCol=\"grade\", outputCol=\"label\").fit(spark_df)\n",
    "# if got error Pyspark error - Unsupported class file major version 55\n",
    "# use this solution https://stackoverflow.com/a/58741543/5932828"
   ]
  },
  {
   "cell_type": "code",
   "execution_count": null,
   "metadata": {},
   "outputs": [],
   "source": [
    "label_converter = IndexToString(inputCol=\"prediction\", outputCol=\"predictedLabel\", labels=label_SI.labels)"
   ]
  },
  {
   "cell_type": "code",
   "execution_count": null,
   "metadata": {},
   "outputs": [],
   "source": [
    "features_VA = VectorAssembler(inputCols=cat_cols_IX + num_cols, outputCol=\"features\")"
   ]
  },
  {
   "cell_type": "code",
   "execution_count": null,
   "metadata": {},
   "outputs": [],
   "source": [
    "from pyspark.ml.classification import RandomForestClassifier\n",
    "clf = RandomForestClassifier(featuresCol=\"features\")"
   ]
  },
  {
   "cell_type": "code",
   "execution_count": null,
   "metadata": {},
   "outputs": [],
   "source": [
    "list(dict_cat_SI.values())"
   ]
  },
  {
   "cell_type": "code",
   "execution_count": null,
   "metadata": {},
   "outputs": [],
   "source": [
    "pipeline = Pipeline(stages=list(dict_cat_SI.values()) + [label_SI, features_VA, clf, label_converter])"
   ]
  },
  {
   "cell_type": "code",
   "execution_count": null,
   "metadata": {},
   "outputs": [],
   "source": [
    "model = pipeline.fit(train_data)"
   ]
  },
  {
   "cell_type": "code",
   "execution_count": null,
   "metadata": {},
   "outputs": [],
   "source": [
    "predictions = model.transform(test_data)\n",
    "evaluator = MulticlassClassificationEvaluator(predictionCol=\"prediction\", metricName=\"accuracy\")\n"
   ]
  },
  {
   "cell_type": "code",
   "execution_count": null,
   "metadata": {},
   "outputs": [],
   "source": [
    "accuracy_model = evaluator.evaluate(predictions)"
   ]
  },
  {
   "cell_type": "code",
   "execution_count": null,
   "metadata": {},
   "outputs": [],
   "source": [
    "accuracy_model"
   ]
  },
  {
   "cell_type": "code",
   "execution_count": null,
   "metadata": {},
   "outputs": [],
   "source": [
    "# ! pip install --user --upgrade ibm-ai-openscale\n",
    "\n",
    "# !pip install --user watson_machine_learning_client\n"
   ]
  },
  {
   "cell_type": "code",
   "execution_count": null,
   "metadata": {},
   "outputs": [],
   "source": [
    "from watson_machine_learning_client import WatsonMachineLearningAPIClient\n",
    "from ibm_ai_openscale import APIClient\n",
    "from ibm_ai_openscale.engines import *\n",
    "from ibm_ai_openscale.utils import *\n",
    "from ibm_ai_openscale.supporting_classes import PayloadRecord, Feature\n",
    "from ibm_ai_openscale.supporting_classes.enums import *\n",
    "from ibm_ai_openscale.utils import get_instance_guid\n",
    "from ibm_ai_openscale.supporting_classes import *\n",
    "from datetime import datetime"
   ]
  },
  {
   "cell_type": "code",
   "execution_count": null,
   "metadata": {},
   "outputs": [],
   "source": [
    "CLOUD_API_KEY = \"cloud_api_key\"\n",
    "WML_CREDENTIALS = {\n",
    "  \"apikey\": \"apikey\",\n",
    "  \"iam_apikey_description\": \"description\",\n",
    "  \"iam_apikey_name\": \"LendingClubCred\",\n",
    "  \"iam_role_crn\": \"crn:v1:bluemix:public:iam::::serviceRole:Writer\",\n",
    "  \"iam_serviceid_crn\": \"serviceid\",\n",
    "  \"instance_id\": \"instanceid\",\n",
    "  \"url\": \"https://us-south.ml.cloud.ibm.com\"\n",
    "}\n",
    "DB_CREDENTIALS = None\n",
    "KEEP_MY_INTERNAL_POSTGRES = True\n",
    "MODEL_NAME = \"LendingClub Model - v0.1\"\n",
    "DEPLOYMENT_NAME = \"LendingClub Model Deployment - v0.1\"\n"
   ]
  },
  {
   "cell_type": "code",
   "execution_count": null,
   "metadata": {},
   "outputs": [],
   "source": [
    "training_data_reference = {\n",
    "        \"connection\": {\n",
    "          \"db\": \"BLUDB\", \n",
    "          \"host\": \"host\", \n",
    "          \"password\": \"password\", \n",
    "          \"username\": \"username\"\n",
    "        }, \n",
    "        \"name\": \"LendingClub Credit Grade Training Data\", \n",
    "        \"source\": {\n",
    "          \"tablename\": \"BXJ33585.LENDINGCLUB\", \n",
    "          \"type\": \"db2\"\n",
    "        }\n",
    "      }\n"
   ]
  },
  {
   "cell_type": "code",
   "execution_count": null,
   "metadata": {},
   "outputs": [],
   "source": [
    "wml_client = WatsonMachineLearningAPIClient(WML_CREDENTIALS)\n",
    "model_deployment_ids = wml_client.deployments.get_uids()\n",
    "for deployment_id in model_deployment_ids:\n",
    "    deployment = wml_client.deployments.get_details(deployment_id)\n",
    "    model_id = deployment['entity']['deployable_asset']['guid']\n",
    "    if deployment['entity']['name'] == DEPLOYMENT_NAME:\n",
    "        print('Deleting deployment id', deployment_id)\n",
    "        wml_client.deployments.delete(deployment_id)\n",
    "        print('Deleting model id', model_id)\n",
    "        wml_client.repository.delete(model_id)\n",
    "wml_client.repository.list_models()"
   ]
  },
  {
   "cell_type": "code",
   "execution_count": null,
   "metadata": {},
   "outputs": [],
   "source": [
    "model_props = {\n",
    "    wml_client.repository.ModelMetaNames.NAME: \"{}\".format(MODEL_NAME),\n",
    "    wml_client.repository.ModelMetaNames.EVALUATION_METHOD: \"multiclass\",\n",
    "    wml_client.repository.ModelMetaNames.TRAINING_DATA_REFERENCE: training_data_reference,\n",
    "    wml_client.repository.ModelMetaNames.EVALUATION_METRICS: [\n",
    "        {\n",
    "           \"name\": \"accuracy\",\n",
    "           \"value\": accuracy_model,\n",
    "           \"threshold\": 0.8\n",
    "        }\n",
    "    ]\n",
    "}"
   ]
  },
  {
   "cell_type": "code",
   "execution_count": null,
   "metadata": {},
   "outputs": [],
   "source": [
    "## DEPLOYMENT START HERE\n",
    "# import required lib, train data, pipeline (e2e) and model binary/json here\n",
    "\n",
    "wml_models = wml_client.repository.get_details()\n",
    "model_uid = None\n",
    "for model_in in wml_models['models']['resources']:\n",
    "    if MODEL_NAME == model_in['entity']['name']:\n",
    "        model_uid = model_in['metadata']['guid']\n",
    "        break\n",
    "\n",
    "if model_uid is None:\n",
    "    print(\"Storing model ...\")\n",
    "\n",
    "    published_model_details = wml_client.repository.store_model(model=model, meta_props=model_props, training_data=train_data, pipeline=pipeline)\n",
    "    model_uid = wml_client.repository.get_model_uid(published_model_details)\n",
    "    print(\"Done\")\n",
    "print(model_uid)"
   ]
  },
  {
   "cell_type": "code",
   "execution_count": null,
   "metadata": {},
   "outputs": [],
   "source": [
    "wml_deployments = wml_client.deployments.get_details()\n",
    "deployment_uid = None\n",
    "for deployment in wml_deployments['resources']:\n",
    "    if DEPLOYMENT_NAME == deployment['entity']['name']:\n",
    "        deployment_uid = deployment['metadata']['guid']\n",
    "        break\n",
    "\n",
    "if deployment_uid is None:\n",
    "    print(\"Deploying model...\")\n",
    "\n",
    "    deployment = wml_client.deployments.create(artifact_uid=model_uid, name=DEPLOYMENT_NAME, asynchronous=False)\n",
    "    deployment_uid = wml_client.deployments.get_uid(deployment)\n",
    "    \n",
    "print(\"Model id: {}\".format(model_uid))\n",
    "print(\"Deployment id: {}\".format(deployment_uid))"
   ]
  },
  {
   "cell_type": "markdown",
   "metadata": {},
   "source": [
    "### OPENSCALE MONITORING"
   ]
  },
  {
   "cell_type": "code",
   "execution_count": null,
   "metadata": {},
   "outputs": [],
   "source": [
    "WOS_GUID = get_instance_guid(api_key=CLOUD_API_KEY)\n",
    "WOS_CREDENTIALS = {\n",
    "    \"instance_guid\": WOS_GUID,\n",
    "    \"apikey\": CLOUD_API_KEY,\n",
    "    \"url\": \"https://api.aiopenscale.cloud.ibm.com\"\n",
    "}\n",
    "# need one instance created fist\n",
    "if WOS_GUID is None:\n",
    "    print('Watson OpenScale GUID NOT FOUND')\n",
    "else:\n",
    "    print(WOS_GUID)"
   ]
  },
  {
   "cell_type": "code",
   "execution_count": null,
   "metadata": {},
   "outputs": [],
   "source": [
    "ai_client = APIClient(aios_credentials=WOS_CREDENTIALS)\n",
    "ai_client.version"
   ]
  },
  {
   "cell_type": "code",
   "execution_count": null,
   "metadata": {},
   "outputs": [],
   "source": [
    "try:\n",
    "    data_mart_details = ai_client.data_mart.get_details()\n",
    "    if 'internal_database' in data_mart_details and data_mart_details['internal_database']:\n",
    "        if KEEP_MY_INTERNAL_POSTGRES:\n",
    "            print('Using existing internal datamart.')\n",
    "        else:\n",
    "            if DB_CREDENTIALS is None:\n",
    "                print('No postgres credentials supplied. Using existing internal datamart')\n",
    "            else:\n",
    "                print('Switching to external datamart')\n",
    "                ai_client.data_mart.delete(force=True)\n",
    "                ai_client.data_mart.setup(db_credentials=DB_CREDENTIALS)\n",
    "    else:\n",
    "        print('Using existing external datamart')\n",
    "except:\n",
    "    if DB_CREDENTIALS is None:\n",
    "        print('Setting up internal datamart')\n",
    "        ai_client.data_mart.setup(internal_db=True)\n",
    "    else:\n",
    "        print('Setting up external datamart')\n",
    "        try:\n",
    "            ai_client.data_mart.setup(db_credentials=DB_CREDENTIALS)\n",
    "        except:\n",
    "            print('Setup failed, trying Db2 setup')\n",
    "            ai_client.data_mart.setup(db_credentials=DB_CREDENTIALS, schema=DB_CREDENTIALS['username'])\n",
    "    \n",
    "data_mart_details = ai_client.data_mart.get_details()"
   ]
  },
  {
   "cell_type": "code",
   "execution_count": null,
   "metadata": {},
   "outputs": [],
   "source": [
    "ai_client.data_mart.bindings.list()"
   ]
  },
  {
   "cell_type": "code",
   "execution_count": null,
   "metadata": {},
   "outputs": [],
   "source": [
    "BINDING_NAME = 'LendingClub Model Monitoring'\n",
    "binding_uid = ai_client.data_mart.bindings.add(BINDING_NAME, WatsonMachineLearningInstance(WML_CREDENTIALS))\n",
    "bindings_details = ai_client.data_mart.bindings.get_details()\n",
    "\n",
    "if binding_uid is None:\n",
    "    binding_uid = [binding['metadata']['guid'] for binding in bindings_details['service_bindings'] if binding['entity']['name']==BINDING_NAME][0]\n",
    "\n",
    "ai_client.data_mart.bindings.list()\n",
    "\n",
    "print(binding_uid)"
   ]
  },
  {
   "cell_type": "code",
   "execution_count": null,
   "metadata": {},
   "outputs": [],
   "source": [
    "ai_client.data_mart.bindings.list_assets(binding_uid=binding_uid)"
   ]
  },
  {
   "cell_type": "code",
   "execution_count": null,
   "metadata": {},
   "outputs": [],
   "source": [
    "## START SUBSCRIBE TO BINDED & DEPLOYED MODEL TO OPENSCALE\n",
    "# define label_column, prediction_column, probability_column, transaction_id_column, feature_columns, categorical_columns\n",
    "\n",
    "subscriptions_uids = ai_client.data_mart.subscriptions.get_uids()\n",
    "for subscription in subscriptions_uids:\n",
    "    sub_name = ai_client.data_mart.subscriptions.get_details(subscription)['entity']['asset']['name']\n",
    "    if sub_name == MODEL_NAME:\n",
    "        ai_client.data_mart.subscriptions.delete(subscription)\n",
    "        print('Deleted existing subscription for', MODEL_NAME)\n",
    "\n",
    "subscription = ai_client.data_mart.subscriptions.add(WatsonMachineLearningAsset(\n",
    "    model_uid,\n",
    "    problem_type=ProblemType.MULTICLASS_CLASSIFICATION,\n",
    "    input_data_type=InputDataType.STRUCTURED,\n",
    "    label_column = \"grade\",\n",
    "    prediction_column=\"predictedLabel\",\n",
    "    feature_columns = cat_cols + num_cols,\n",
    "    categorical_columns = cat_cols\n",
    "))\n",
    "\n",
    "if subscription is None:\n",
    "    print('Subscription already exists; get the existing one')\n",
    "    subscriptions_uids = ai_client.data_mart.subscriptions.get_uids()\n",
    "    for sub in subscriptions_uids:\n",
    "        if ai_client.data_mart.subscriptions.get_details(sub)['entity']['asset']['name'] == MODEL_NAME:\n",
    "            subscription = ai_client.data_mart.subscriptions.get(sub)\n",
    "\n",
    "subscriptions_uids = ai_client.data_mart.subscriptions.get_uids()\n",
    "ai_client.data_mart.subscriptions.list()"
   ]
  },
  {
   "cell_type": "code",
   "execution_count": null,
   "metadata": {},
   "outputs": [],
   "source": [
    "subscription_details = subscription.get_details()\n",
    "print(subscription.uid)\n",
    "## SUBSCRIPTION END HERE"
   ]
  },
  {
   "cell_type": "markdown",
   "metadata": {},
   "source": [
    "### SIMULATE PAYLOAD"
   ]
  },
  {
   "cell_type": "code",
   "execution_count": null,
   "metadata": {},
   "outputs": [],
   "source": [
    "pd_data.values[0]"
   ]
  },
  {
   "cell_type": "code",
   "execution_count": null,
   "metadata": {},
   "outputs": [],
   "source": [
    "train_data.head()"
   ]
  },
  {
   "cell_type": "code",
   "execution_count": null,
   "metadata": {},
   "outputs": [],
   "source": [
    "# SIMULATE LOAN APPLICATION CASES TO OUTPUT PAYLOAD IN OPENSCALE\n",
    "\n",
    "credit_risk_scoring_endpoint = None\n",
    "print(deployment_uid)\n",
    "\n",
    "for deployment in wml_client.deployments.get_details()['resources']:\n",
    "    if deployment_uid in deployment['metadata']['guid']:\n",
    "        credit_risk_scoring_endpoint = deployment['entity']['scoring_url']\n",
    "        \n",
    "print(credit_risk_scoring_endpoint)\n",
    "\n",
    "# Enter cases here\n",
    "values = [\n",
    "  ['Individual', 24700.0, 'debt_consolidation', 65000.0, 715.0,\n",
    "       ' 36 months', 16.06, 21470.0, 19.2, 4.0, 1.0, 0.0, 18005.0,\n",
    "       111800.0, 9733.0, 314017.0]\n",
    "]\n",
    "payload_scoring = {\"fields\": ['application_type', 'loan_amnt', 'purpose', 'annual_inc',\n",
    "       'fico_range_low', 'term', 'dti', 'revol_bal', 'revol_util',\n",
    "       'inq_last_6mths', 'delinq_2yrs', 'pub_rec', 'total_bal_il',\n",
    "       'total_rev_hi_lim', 'avg_cur_bal', 'tot_hi_cred_lim'],\"values\": values}\n",
    "scoring_response = wml_client.deployments.score(credit_risk_scoring_endpoint, payload_scoring)\n",
    "\n",
    "print('Single record scoring result:', '\\n fields:', scoring_response['fields'], '\\n values: ', scoring_response['values'][0])\n",
    "time.sleep(10)\n",
    "subscription.payload_logging.get_records_count() #should be the same as the number of cases you passed in\n",
    "\n",
    "## END SIMULATION"
   ]
  },
  {
   "cell_type": "markdown",
   "metadata": {},
   "source": [
    "<pre>\n",
    "Single record scoring result: \n",
    " fields: ['application_type', 'loan_amnt', 'purpose', 'annual_inc', 'fico_range_low', 'term', 'dti', 'revol_bal', 'revol_util', 'inq_last_6mths', 'delinq_2yrs', 'pub_rec', 'total_bal_il', 'total_rev_hi_lim', 'avg_cur_bal', 'tot_hi_cred_lim', 'application_type_IX', 'purpose_IX', 'term_IX', 'label', 'features', 'rawPrediction', 'probability', 'prediction', 'predictedLabel'] \n",
    " values:  ['Individual', 24700.0, 'debt_consolidation', 65000.0, 715.0, ' 36 months', 16.06, 21470.0, 19.2, 4.0, 1.0, 0.0, 18005.0, 111800.0, 9733.0, 314017.0, 0.0, 0.0, 0.0, 0.0, [0.0, 0.0, 0.0, 24700.0, 65000.0, 715.0, 16.06, 21470.0, 19.2, 4.0, 1.0, 0.0, 18005.0, 111800.0, 9733.0, 314017.0], [1.4521063011926765, 0.9556260012305275, 8.635843133604034, 0.9927574942062987, 3.6378887322850395, 2.293064657733285, 2.0327136797481384], [0.07260531505963383, 0.04778130006152638, 0.4317921566802017, 0.04963787471031493, 0.18189443661425198, 0.11465323288666425, 0.10163568398740692], 2.0, 'A']\n",
    "\n",
    "1\n",
    "</pre>"
   ]
  },
  {
   "cell_type": "markdown",
   "metadata": {},
   "source": [
    "### QUALITY MONITORING"
   ]
  },
  {
   "cell_type": "code",
   "execution_count": null,
   "metadata": {},
   "outputs": [],
   "source": [
    "run_details = subscription.quality_monitoring.run(background_mode=False)\n",
    "time.sleep(10)\n",
    "subscription.quality_monitoring.show_table()\n",
    "\n",
    "quality_pd = subscription.quality_monitoring.get_table_content(format='pandas')\n",
    "quality_pd.plot.barh(x='id', y='value');"
   ]
  },
  {
   "cell_type": "markdown",
   "metadata": {},
   "source": [
    "### DRIFT AND FAIRNESS MONITORING"
   ]
  },
  {
   "cell_type": "code",
   "execution_count": null,
   "metadata": {
    "scrolled": true
   },
   "outputs": [],
   "source": [
    "subscription.update(categorical_columns=[])"
   ]
  },
  {
   "cell_type": "code",
   "execution_count": 55,
   "metadata": {},
   "outputs": [
    {
     "data": {
      "text/html": [
       "<div>\n",
       "<style scoped>\n",
       "    .dataframe tbody tr th:only-of-type {\n",
       "        vertical-align: middle;\n",
       "    }\n",
       "\n",
       "    .dataframe tbody tr th {\n",
       "        vertical-align: top;\n",
       "    }\n",
       "\n",
       "    .dataframe thead th {\n",
       "        text-align: right;\n",
       "    }\n",
       "</style>\n",
       "<table border=\"1\" class=\"dataframe\">\n",
       "  <thead>\n",
       "    <tr style=\"text-align: right;\">\n",
       "      <th></th>\n",
       "      <th>application_type</th>\n",
       "      <th>loan_amnt</th>\n",
       "      <th>purpose</th>\n",
       "      <th>annual_inc</th>\n",
       "      <th>fico_range_low</th>\n",
       "      <th>term</th>\n",
       "      <th>dti</th>\n",
       "      <th>revol_bal</th>\n",
       "      <th>revol_util</th>\n",
       "      <th>inq_last_6mths</th>\n",
       "      <th>delinq_2yrs</th>\n",
       "      <th>pub_rec</th>\n",
       "      <th>total_bal_il</th>\n",
       "      <th>total_rev_hi_lim</th>\n",
       "      <th>avg_cur_bal</th>\n",
       "      <th>tot_hi_cred_lim</th>\n",
       "      <th>grade</th>\n",
       "    </tr>\n",
       "  </thead>\n",
       "  <tbody>\n",
       "    <tr>\n",
       "      <th>0</th>\n",
       "      <td>Individual</td>\n",
       "      <td>24700.0</td>\n",
       "      <td>small_business</td>\n",
       "      <td>65000.0</td>\n",
       "      <td>715.0</td>\n",
       "      <td>36 months</td>\n",
       "      <td>16.06</td>\n",
       "      <td>21470.0</td>\n",
       "      <td>19.2</td>\n",
       "      <td>4.0</td>\n",
       "      <td>1.0</td>\n",
       "      <td>0.0</td>\n",
       "      <td>18005.0</td>\n",
       "      <td>111800.0</td>\n",
       "      <td>9733.0</td>\n",
       "      <td>314017.0</td>\n",
       "      <td>C</td>\n",
       "    </tr>\n",
       "    <tr>\n",
       "      <th>1</th>\n",
       "      <td>Individual</td>\n",
       "      <td>10400.0</td>\n",
       "      <td>major_purchase</td>\n",
       "      <td>104433.0</td>\n",
       "      <td>695.0</td>\n",
       "      <td>60 months</td>\n",
       "      <td>25.37</td>\n",
       "      <td>21929.0</td>\n",
       "      <td>64.5</td>\n",
       "      <td>3.0</td>\n",
       "      <td>1.0</td>\n",
       "      <td>0.0</td>\n",
       "      <td>73839.0</td>\n",
       "      <td>34000.0</td>\n",
       "      <td>27644.0</td>\n",
       "      <td>439570.0</td>\n",
       "      <td>F</td>\n",
       "    </tr>\n",
       "    <tr>\n",
       "      <th>2</th>\n",
       "      <td>Individual</td>\n",
       "      <td>7200.0</td>\n",
       "      <td>debt_consolidation</td>\n",
       "      <td>55000.0</td>\n",
       "      <td>680.0</td>\n",
       "      <td>36 months</td>\n",
       "      <td>17.35</td>\n",
       "      <td>5938.0</td>\n",
       "      <td>69.0</td>\n",
       "      <td>0.0</td>\n",
       "      <td>0.0</td>\n",
       "      <td>1.0</td>\n",
       "      <td>269893.0</td>\n",
       "      <td>8600.0</td>\n",
       "      <td>11493.0</td>\n",
       "      <td>255047.0</td>\n",
       "      <td>D</td>\n",
       "    </tr>\n",
       "    <tr>\n",
       "      <th>3</th>\n",
       "      <td>Individual</td>\n",
       "      <td>23100.0</td>\n",
       "      <td>car</td>\n",
       "      <td>110000.0</td>\n",
       "      <td>660.0</td>\n",
       "      <td>60 months</td>\n",
       "      <td>20.43</td>\n",
       "      <td>20594.0</td>\n",
       "      <td>94.9</td>\n",
       "      <td>0.0</td>\n",
       "      <td>0.0</td>\n",
       "      <td>0.0</td>\n",
       "      <td>34454.0</td>\n",
       "      <td>21700.0</td>\n",
       "      <td>5505.0</td>\n",
       "      <td>102524.0</td>\n",
       "      <td>E</td>\n",
       "    </tr>\n",
       "    <tr>\n",
       "      <th>4</th>\n",
       "      <td>Individual</td>\n",
       "      <td>12000.0</td>\n",
       "      <td>debt_consolidation</td>\n",
       "      <td>53750.0</td>\n",
       "      <td>700.0</td>\n",
       "      <td>36 months</td>\n",
       "      <td>15.30</td>\n",
       "      <td>3172.0</td>\n",
       "      <td>17.2</td>\n",
       "      <td>0.0</td>\n",
       "      <td>1.0</td>\n",
       "      <td>0.0</td>\n",
       "      <td>6468.0</td>\n",
       "      <td>18400.0</td>\n",
       "      <td>17827.0</td>\n",
       "      <td>183062.0</td>\n",
       "      <td>A</td>\n",
       "    </tr>\n",
       "    <tr>\n",
       "      <th>...</th>\n",
       "      <td>...</td>\n",
       "      <td>...</td>\n",
       "      <td>...</td>\n",
       "      <td>...</td>\n",
       "      <td>...</td>\n",
       "      <td>...</td>\n",
       "      <td>...</td>\n",
       "      <td>...</td>\n",
       "      <td>...</td>\n",
       "      <td>...</td>\n",
       "      <td>...</td>\n",
       "      <td>...</td>\n",
       "      <td>...</td>\n",
       "      <td>...</td>\n",
       "      <td>...</td>\n",
       "      <td>...</td>\n",
       "      <td>...</td>\n",
       "    </tr>\n",
       "    <tr>\n",
       "      <th>28030</th>\n",
       "      <td>Individual</td>\n",
       "      <td>6000.0</td>\n",
       "      <td>credit_card</td>\n",
       "      <td>50000.0</td>\n",
       "      <td>670.0</td>\n",
       "      <td>36 months</td>\n",
       "      <td>21.56</td>\n",
       "      <td>6718.0</td>\n",
       "      <td>62.8</td>\n",
       "      <td>0.0</td>\n",
       "      <td>0.0</td>\n",
       "      <td>0.0</td>\n",
       "      <td>38159.0</td>\n",
       "      <td>10700.0</td>\n",
       "      <td>7480.0</td>\n",
       "      <td>85097.0</td>\n",
       "      <td>B</td>\n",
       "    </tr>\n",
       "    <tr>\n",
       "      <th>28031</th>\n",
       "      <td>Individual</td>\n",
       "      <td>12000.0</td>\n",
       "      <td>debt_consolidation</td>\n",
       "      <td>130000.0</td>\n",
       "      <td>675.0</td>\n",
       "      <td>36 months</td>\n",
       "      <td>17.21</td>\n",
       "      <td>24870.0</td>\n",
       "      <td>46.2</td>\n",
       "      <td>0.0</td>\n",
       "      <td>1.0</td>\n",
       "      <td>0.0</td>\n",
       "      <td>53203.0</td>\n",
       "      <td>53800.0</td>\n",
       "      <td>10405.0</td>\n",
       "      <td>275139.0</td>\n",
       "      <td>B</td>\n",
       "    </tr>\n",
       "    <tr>\n",
       "      <th>28032</th>\n",
       "      <td>Individual</td>\n",
       "      <td>12600.0</td>\n",
       "      <td>credit_card</td>\n",
       "      <td>30000.0</td>\n",
       "      <td>685.0</td>\n",
       "      <td>36 months</td>\n",
       "      <td>26.89</td>\n",
       "      <td>8181.0</td>\n",
       "      <td>62.5</td>\n",
       "      <td>1.0</td>\n",
       "      <td>0.0</td>\n",
       "      <td>0.0</td>\n",
       "      <td>14288.0</td>\n",
       "      <td>13100.0</td>\n",
       "      <td>1728.0</td>\n",
       "      <td>32866.0</td>\n",
       "      <td>C</td>\n",
       "    </tr>\n",
       "    <tr>\n",
       "      <th>28033</th>\n",
       "      <td>Individual</td>\n",
       "      <td>30000.0</td>\n",
       "      <td>home_improvement</td>\n",
       "      <td>275000.0</td>\n",
       "      <td>665.0</td>\n",
       "      <td>60 months</td>\n",
       "      <td>10.99</td>\n",
       "      <td>14000.0</td>\n",
       "      <td>49.1</td>\n",
       "      <td>2.0</td>\n",
       "      <td>0.0</td>\n",
       "      <td>1.0</td>\n",
       "      <td>134130.0</td>\n",
       "      <td>28500.0</td>\n",
       "      <td>47480.0</td>\n",
       "      <td>603362.0</td>\n",
       "      <td>C</td>\n",
       "    </tr>\n",
       "    <tr>\n",
       "      <th>28034</th>\n",
       "      <td>Individual</td>\n",
       "      <td>15000.0</td>\n",
       "      <td>debt_consolidation</td>\n",
       "      <td>71000.0</td>\n",
       "      <td>665.0</td>\n",
       "      <td>60 months</td>\n",
       "      <td>21.19</td>\n",
       "      <td>29269.0</td>\n",
       "      <td>84.6</td>\n",
       "      <td>1.0</td>\n",
       "      <td>0.0</td>\n",
       "      <td>0.0</td>\n",
       "      <td>36970.0</td>\n",
       "      <td>34600.0</td>\n",
       "      <td>11185.0</td>\n",
       "      <td>167676.0</td>\n",
       "      <td>G</td>\n",
       "    </tr>\n",
       "  </tbody>\n",
       "</table>\n",
       "<p>28035 rows × 17 columns</p>\n",
       "</div>"
      ],
      "text/plain": [
       "      application_type  loan_amnt             purpose  annual_inc  \\\n",
       "0           Individual    24700.0      small_business     65000.0   \n",
       "1           Individual    10400.0      major_purchase    104433.0   \n",
       "2           Individual     7200.0  debt_consolidation     55000.0   \n",
       "3           Individual    23100.0                 car    110000.0   \n",
       "4           Individual    12000.0  debt_consolidation     53750.0   \n",
       "...                ...        ...                 ...         ...   \n",
       "28030       Individual     6000.0         credit_card     50000.0   \n",
       "28031       Individual    12000.0  debt_consolidation    130000.0   \n",
       "28032       Individual    12600.0         credit_card     30000.0   \n",
       "28033       Individual    30000.0    home_improvement    275000.0   \n",
       "28034       Individual    15000.0  debt_consolidation     71000.0   \n",
       "\n",
       "       fico_range_low        term    dti  revol_bal  revol_util  \\\n",
       "0               715.0   36 months  16.06    21470.0        19.2   \n",
       "1               695.0   60 months  25.37    21929.0        64.5   \n",
       "2               680.0   36 months  17.35     5938.0        69.0   \n",
       "3               660.0   60 months  20.43    20594.0        94.9   \n",
       "4               700.0   36 months  15.30     3172.0        17.2   \n",
       "...               ...         ...    ...        ...         ...   \n",
       "28030           670.0   36 months  21.56     6718.0        62.8   \n",
       "28031           675.0   36 months  17.21    24870.0        46.2   \n",
       "28032           685.0   36 months  26.89     8181.0        62.5   \n",
       "28033           665.0   60 months  10.99    14000.0        49.1   \n",
       "28034           665.0   60 months  21.19    29269.0        84.6   \n",
       "\n",
       "       inq_last_6mths  delinq_2yrs  pub_rec  total_bal_il  total_rev_hi_lim  \\\n",
       "0                 4.0          1.0      0.0       18005.0          111800.0   \n",
       "1                 3.0          1.0      0.0       73839.0           34000.0   \n",
       "2                 0.0          0.0      1.0      269893.0            8600.0   \n",
       "3                 0.0          0.0      0.0       34454.0           21700.0   \n",
       "4                 0.0          1.0      0.0        6468.0           18400.0   \n",
       "...               ...          ...      ...           ...               ...   \n",
       "28030             0.0          0.0      0.0       38159.0           10700.0   \n",
       "28031             0.0          1.0      0.0       53203.0           53800.0   \n",
       "28032             1.0          0.0      0.0       14288.0           13100.0   \n",
       "28033             2.0          0.0      1.0      134130.0           28500.0   \n",
       "28034             1.0          0.0      0.0       36970.0           34600.0   \n",
       "\n",
       "       avg_cur_bal  tot_hi_cred_lim grade  \n",
       "0           9733.0         314017.0     C  \n",
       "1          27644.0         439570.0     F  \n",
       "2          11493.0         255047.0     D  \n",
       "3           5505.0         102524.0     E  \n",
       "4          17827.0         183062.0     A  \n",
       "...            ...              ...   ...  \n",
       "28030       7480.0          85097.0     B  \n",
       "28031      10405.0         275139.0     B  \n",
       "28032       1728.0          32866.0     C  \n",
       "28033      47480.0         603362.0     C  \n",
       "28034      11185.0         167676.0     G  \n",
       "\n",
       "[28035 rows x 17 columns]"
      ]
     },
     "execution_count": 55,
     "metadata": {},
     "output_type": "execute_result"
    }
   ],
   "source": [
    "pd_data"
   ]
  },
  {
   "cell_type": "code",
   "execution_count": null,
   "metadata": {},
   "outputs": [],
   "source": [
    "pd_data['purpose'].value_counts()"
   ]
  },
  {
   "cell_type": "code",
   "execution_count": null,
   "metadata": {},
   "outputs": [],
   "source": [
    "feed_data = pd_data.to_dict(orient='split')"
   ]
  },
  {
   "cell_type": "code",
   "execution_count": null,
   "metadata": {},
   "outputs": [],
   "source": [
    "feed_data[\"fields\"] = feed_data.pop(\"columns\")\n",
    "feed_data[\"values\"] = feed_data.pop(\"data\")\n",
    "feed_data.pop('index', None)"
   ]
  },
  {
   "cell_type": "code",
   "execution_count": null,
   "metadata": {},
   "outputs": [],
   "source": [
    "import json\n",
    "with open('lending_club_feed.json', 'w') as f:\n",
    "    json.dump(feed_data, f)"
   ]
  },
  {
   "cell_type": "code",
   "execution_count": null,
   "metadata": {},
   "outputs": [],
   "source": [
    "## MUST ENABLE DRIFT BEFORE FAIRNESS\n",
    "## define what factor is likely to be jeopardise due to data amt (e.g. purpose), favorable class is grade A, and not favorable is grade G (lowest)\n",
    "\n",
    "subscription.fairness_monitoring.enable(\n",
    "            features=[\n",
    "                Feature(\"purpose\", majority=['debt_consolidation','credit_card'], \n",
    "                        minority=['house', 'medical', 'car'], threshold=0.95)\n",
    "            ],\n",
    "            favourable_classes=['A'],\n",
    "            unfavourable_classes=['G'],\n",
    "            min_records=10,\n",
    "            training_data=pd_data\n",
    "        )\n",
    "\n"
   ]
  },
  {
   "cell_type": "code",
   "execution_count": null,
   "metadata": {},
   "outputs": [],
   "source": [
    "fields = feed_data['fields']\n",
    "values = []\n",
    "for _ in range(1000):\n",
    "    values.append(random.choice(feed_data['values']))\n",
    "payload_scoring = {\"fields\": fields, \"values\": values}\n",
    "\n",
    "scoring_response = wml_client.deployments.score(credit_risk_scoring_endpoint, payload_scoring)\n",
    "print(scoring_response)"
   ]
  },
  {
   "cell_type": "code",
   "execution_count": null,
   "metadata": {
    "scrolled": true
   },
   "outputs": [],
   "source": [
    "subscription.get_details()"
   ]
  },
  {
   "cell_type": "code",
   "execution_count": 80,
   "metadata": {},
   "outputs": [
    {
     "name": "stdout",
     "output_type": "stream",
     "text": [
      "\n",
      "\n",
      "=======================================================================\n",
      "\n",
      " Counting bias for deployment_uid=ea52c01f-ffc0-4dbb-8288-f89dbe01a7fa \n",
      "\n",
      "=======================================================================\n",
      "\n",
      "\n",
      "\n",
      "RUNNING.\n",
      "FINISHED\n",
      "\n",
      "---------------------------\n",
      " Successfully finished run \n",
      "---------------------------\n",
      "\n",
      "\n"
     ]
    },
    {
     "data": {
      "text/html": [
       "<HTML>\n",
       "        <body>\n",
       "            <h3>FairnessMetrics (binding_id=d0fe90a7-a552-436d-b16b-4d02053854cc, subscription_id=376e6afa-26df-44e9-a0ba-c9ef2628e58a)</h3>\n",
       "            <table style='border: 1px solid #dddddd; font-family: Courier'>\n",
       "                <th style='border: 1px solid #dddddd'>ts</th><th style='border: 1px solid #dddddd'>feature</th><th style='border: 1px solid #dddddd'>feature_value</th><th style='border: 1px solid #dddddd'>fairness_biased</th><th style='border: 1px solid #dddddd'>fairness_value</th><th style='border: 1px solid #dddddd'>fairness_fav_class</th><th style='border: 1px solid #dddddd'>binding_id</th><th style='border: 1px solid #dddddd'>subscription_id</th><th style='border: 1px solid #dddddd'>asset_revision</th><th style='border: 1px solid #dddddd'>deployment_id</th><th style='border: 1px solid #dddddd'>process</th>\n",
       "                <tr><td style='border: 1px solid #dddddd'>2020-05-03 14:37:53.079986+00:00</td><td style='border: 1px solid #dddddd'>purpose</td><td style='border: 1px solid #dddddd'>house</td><td style='border: 1px solid #dddddd'>False</td><td style='border: 1px solid #dddddd'>1.0</td><td style='border: 1px solid #dddddd'>28.57142857142857</td><td style='border: 1px solid #dddddd'>d0fe90a7-a552-436d-b16b-4d02053854cc</td><td style='border: 1px solid #dddddd'>376e6afa-26df-44e9-a0ba-c9ef2628e58a</td><td style='border: 1px solid #dddddd'>376e6afa-26df-44e9-a0ba-c9ef2628e58a</td><td style='border: 1px solid #dddddd'>ea52c01f-ffc0-4dbb-8288-f89dbe01a7fa</td><td style='border: 1px solid #dddddd'></td></tr><tr><td style='border: 1px solid #dddddd'>2020-05-03 14:37:53.079986+00:00</td><td style='border: 1px solid #dddddd'>purpose</td><td style='border: 1px solid #dddddd'>medical</td><td style='border: 1px solid #dddddd'>False</td><td style='border: 1px solid #dddddd'>1.0</td><td style='border: 1px solid #dddddd'>28.57142857142857</td><td style='border: 1px solid #dddddd'>d0fe90a7-a552-436d-b16b-4d02053854cc</td><td style='border: 1px solid #dddddd'>376e6afa-26df-44e9-a0ba-c9ef2628e58a</td><td style='border: 1px solid #dddddd'>376e6afa-26df-44e9-a0ba-c9ef2628e58a</td><td style='border: 1px solid #dddddd'>ea52c01f-ffc0-4dbb-8288-f89dbe01a7fa</td><td style='border: 1px solid #dddddd'></td></tr><tr><td style='border: 1px solid #dddddd'>2020-05-03 14:37:53.079986+00:00</td><td style='border: 1px solid #dddddd'>purpose</td><td style='border: 1px solid #dddddd'>car</td><td style='border: 1px solid #dddddd'>False</td><td style='border: 1px solid #dddddd'>1.0</td><td style='border: 1px solid #dddddd'>22.22222222222222</td><td style='border: 1px solid #dddddd'>d0fe90a7-a552-436d-b16b-4d02053854cc</td><td style='border: 1px solid #dddddd'>376e6afa-26df-44e9-a0ba-c9ef2628e58a</td><td style='border: 1px solid #dddddd'>376e6afa-26df-44e9-a0ba-c9ef2628e58a</td><td style='border: 1px solid #dddddd'>ea52c01f-ffc0-4dbb-8288-f89dbe01a7fa</td><td style='border: 1px solid #dddddd'></td></tr>\n",
       "            </table>\n",
       "        </body>\n",
       "        </HTML>"
      ],
      "text/plain": [
       "<IPython.core.display.HTML object>"
      ]
     },
     "metadata": {},
     "output_type": "display_data"
    }
   ],
   "source": [
    "\n",
    "\n",
    "fairness_run_details = subscription.fairness_monitoring.run(background_mode=False)\n",
    "time.sleep(10)\n",
    "\n",
    "subscription.fairness_monitoring.show_table()\n"
   ]
  },
  {
   "cell_type": "code",
   "execution_count": null,
   "metadata": {},
   "outputs": [],
   "source": [
    "# subscription.drift_monitoring.enable(threshold=0.05, min_records=10)\n",
    "# drift_status = None\n",
    "# while drift_status != 'finished':\n",
    "#     drift_details = subscription.drift_monitoring.get_details()\n",
    "#     drift_status = drift_details['parameters']['config_status']['state']\n",
    "#     if drift_status != 'finished':\n",
    "#         print(datetime.utcnow().strftime('%H:%M:%S'), drift_status)\n",
    "#         time.sleep(30)\n",
    "# print(drift_status)\n",
    "\n",
    "\n",
    "# drift_run_details = subscription.drift_monitoring.run(background_mode=False)\n",
    "# subscription.drift_monitoring.get_table_content()\n",
    "# # END DRIFT AND FAIRNESS"
   ]
  },
  {
   "cell_type": "markdown",
   "metadata": {},
   "source": [
    "### EXPLAINABILITY"
   ]
  },
  {
   "cell_type": "code",
   "execution_count": null,
   "metadata": {},
   "outputs": [],
   "source": [
    "subscription.explainability.enable(training_data=pd_data)\n",
    "explainability_details = subscription.explainability.get_details()\n",
    "\n",
    "transaction_id = subscription.payload_logging.get_table_content(limit=1)['scoring_id'].values[0]\n",
    "\n",
    "print(transaction_id)"
   ]
  },
  {
   "cell_type": "code",
   "execution_count": null,
   "metadata": {},
   "outputs": [],
   "source": [
    "explain_run = subscription.explainability.run(transaction_id=transaction_id, background_mode=False, cem=False)"
   ]
  },
  {
   "cell_type": "code",
   "execution_count": null,
   "metadata": {},
   "outputs": [],
   "source": [
    "explainability_details"
   ]
  },
  {
   "cell_type": "markdown",
   "metadata": {},
   "source": [
    "### PERFORMANCE MONITORING (DESPITE OF ACCURACY)"
   ]
  },
  {
   "cell_type": "code",
   "execution_count": null,
   "metadata": {},
   "outputs": [],
   "source": [
    "# Define metrics and grouping(tags) need to be monitored\n",
    "\n",
    "monitor_name = 'LendingClub Performance Monitoring'\n",
    "metrics = [Metric(name='sensitivity', lower_limit_default=0.8), Metric(name='specificity', lower_limit_default=0.75)]\n",
    "tags = [Tag(name='purpose', description='borrower loan purpose')]\n",
    "\n",
    "def get_definition(monitor_name):\n",
    "    monitors_definitions = ai_client.data_mart.monitors.get_details()['monitor_definitions']\n",
    "    \n",
    "    for definition in monitors_definitions:\n",
    "        if monitor_name == definition['entity']['name']:\n",
    "            return definition\n",
    "    \n",
    "    return None\n",
    "\n",
    "existing_definition = get_definition(monitor_name)\n",
    "\n",
    "if existing_definition is None:\n",
    "    my_monitor = ai_client.data_mart.monitors.add(name=monitor_name, metrics=metrics, tags=tags)\n",
    "else:\n",
    "    my_monitor = existing_definition\n",
    "    \n",
    "monitor_uid = my_monitor['metadata']['guid']\n",
    "\n",
    "print(monitor_uid)"
   ]
  },
  {
   "cell_type": "code",
   "execution_count": null,
   "metadata": {},
   "outputs": [],
   "source": [
    "my_monitor = ai_client.data_mart.monitors.get_details(monitor_uid=monitor_uid)\n",
    "print('monitor definition details', my_monitor)"
   ]
  },
  {
   "cell_type": "code",
   "execution_count": null,
   "metadata": {},
   "outputs": [],
   "source": [
    "thresholds = [Threshold(metric_uid='sensitivity', lower_limit=0.9)] # change and enable sensitivity see whether reflected in dashboard?\n",
    "subscription.monitoring.enable(monitor_uid=monitor_uid, thresholds=thresholds)\n",
    "subscription.monitoring.get_details(monitor_uid=monitor_uid)"
   ]
  },
  {
   "cell_type": "code",
   "execution_count": 89,
   "metadata": {},
   "outputs": [
    {
     "data": {
      "text/html": [
       "<HTML>\n",
       "        <body>\n",
       "            <h3>CustomMetrics (binding_id=d0fe90a7-a552-436d-b16b-4d02053854cc, subscription_id=376e6afa-26df-44e9-a0ba-c9ef2628e58a)</h3>\n",
       "            <table style='border: 1px solid #dddddd; font-family: Courier'>\n",
       "                <th style='border: 1px solid #dddddd'>ts</th><th style='border: 1px solid #dddddd'>id</th><th style='border: 1px solid #dddddd'>measurement_id</th><th style='border: 1px solid #dddddd'>value</th><th style='border: 1px solid #dddddd'>lower limit</th><th style='border: 1px solid #dddddd'>upper limit</th><th style='border: 1px solid #dddddd'>tags</th><th style='border: 1px solid #dddddd'>binding_id</th><th style='border: 1px solid #dddddd'>subscription_id</th><th style='border: 1px solid #dddddd'>deployment_id</th>\n",
       "                <tr><td style='border: 1px solid #dddddd'>2020-05-03 14:42:01.391435+00:00</td><td style='border: 1px solid #dddddd'>sensitivity</td><td style='border: 1px solid #dddddd'>93e5fc0c-8e92-4a54-8c33-db2a2cb615d4</td><td style='border: 1px solid #dddddd'>0.67</td><td style='border: 1px solid #dddddd'>0.9</td><td style='border: 1px solid #dddddd'></td><td style='border: 1px solid #dddddd'>purpose: vacation</td><td style='border: 1px solid #dddddd'>d0fe90a7-a552-436d-b16b-4d02053854cc</td><td style='border: 1px solid #dddddd'>376e6afa-26df-44e9-a0ba-c9ef2628e58a</td><td style='border: 1px solid #dddddd'>ea52c01f-ffc0-4dbb-8288-f89dbe01a7fa</td></tr><tr><td style='border: 1px solid #dddddd'>2020-05-03 14:42:01.391435+00:00</td><td style='border: 1px solid #dddddd'>specificity</td><td style='border: 1px solid #dddddd'>93e5fc0c-8e92-4a54-8c33-db2a2cb615d4</td><td style='border: 1px solid #dddddd'>0.78</td><td style='border: 1px solid #dddddd'></td><td style='border: 1px solid #dddddd'></td><td style='border: 1px solid #dddddd'>purpose: vacation</td><td style='border: 1px solid #dddddd'>d0fe90a7-a552-436d-b16b-4d02053854cc</td><td style='border: 1px solid #dddddd'>376e6afa-26df-44e9-a0ba-c9ef2628e58a</td><td style='border: 1px solid #dddddd'>ea52c01f-ffc0-4dbb-8288-f89dbe01a7fa</td></tr>\n",
       "            </table>\n",
       "        </body>\n",
       "        </HTML>"
      ],
      "text/plain": [
       "<IPython.core.display.HTML object>"
      ]
     },
     "metadata": {},
     "output_type": "display_data"
    }
   ],
   "source": [
    "# Inspect the tagged group\n",
    "metrics = {\"specificity\": 0.78, \"sensitivity\": 0.67, \"purpose\": \"vacation\"}\n",
    "\n",
    "subscription.monitoring.store_metrics(monitor_uid=monitor_uid, metrics=metrics)\n",
    "\n",
    "time.sleep(5)\n",
    "\n",
    "subscription.monitoring.show_table(monitor_uid=monitor_uid)"
   ]
  },
  {
   "cell_type": "code",
   "execution_count": null,
   "metadata": {},
   "outputs": [],
   "source": [
    "custom_metrics = subscription.monitoring.get_metrics(monitor_uid=monitor_uid, deployment_uid='credit')\n",
    "custom_metrics"
   ]
  },
  {
   "cell_type": "code",
   "execution_count": 91,
   "metadata": {},
   "outputs": [
    {
     "data": {
      "image/png": "[encoded data removed]",
      "text/plain": [
       "<Figure size 432x288 with 1 Axes>"
      ]
     },
     "metadata": {
      "needs_background": "light"
     },
     "output_type": "display_data"
    }
   ],
   "source": [
    "custom_metrics_pandas = subscription.monitoring.get_table_content(monitor_uid=monitor_uid)\n",
    "custom_metrics_pandas.plot.barh(x='id', y='value');"
   ]
  },
  {
   "cell_type": "markdown",
   "metadata": {},
   "source": [
    "### BUSINESS METRICS"
   ]
  },
  {
   "cell_type": "code",
   "execution_count": null,
   "metadata": {},
   "outputs": [],
   "source": [
    "business_payload_fields = [\n",
    "                {\n",
    "                    \"name\": \"term\",\n",
    "                    \"type\": \"number\",\n",
    "                    \"description\": \"Duration of the loan\"\n",
    "                },\n",
    "                {\n",
    "                    \"name\": \"purpose\",\n",
    "                    \"type\": \"string\",\n",
    "                    \"description\": \"Purpose of the loan\"\n",
    "                },\n",
    "                {\n",
    "                    \"name\": \"loan_amnt\",\n",
    "                    \"type\": \"number\",\n",
    "                    \"description\": \"Amount of the loan\"\n",
    "                },\n",
    "                {\n",
    "                    \"name\": \"int_rate\",\n",
    "                    \"type\": \"number\",\n",
    "                    \"description\": \"Interest rate\"\n",
    "                },\n",
    "                {\n",
    "                    \"name\": \"grade\",\n",
    "                    \"type\": \"string\",\n",
    "                    \"description\": \"Credit grade\"\n",
    "                }\n",
    "    \n",
    "            ]\n",
    "business_metrics = [BusinessMetric(metric_name='Credit Grade', description=\"Daily Credit Grade Count\",\n",
    "                                           field_name='grade', aggregation=AggregationMethods.MAX,# cannot count here\n",
    "                                   time_unit='day', time_count=1, lower_limit=150),\n",
    "                    BusinessMetric(metric_name='Loan Amount Applied', description=\"Daily Total Credit Amount Applied\",\n",
    "                                   field_name='loan_amnt', aggregation=AggregationMethods.SUM,\n",
    "                                   time_unit='day', time_count=1, lower_limit=500000)]\n",
    "application_details = ai_client.data_mart.applications.add(name=\"LendingClub Business Metrics\",\n",
    "                                                           description=\"LendingClub Business Metrics Monitoring\",\n",
    "                                                           subscription_ids=[subscription.uid],\n",
    "                                                           business_metrics=business_metrics,\n",
    "                                                           payload_schema=business_payload_fields)\n",
    "application_id = application_details['metadata']['id']\n",
    "while application_details['entity']['status']['state'] == 'preparing':\n",
    "    print(datetime.utcnow().strftime('%H:%M:%S'), application_details['entity']['status']['state'] )\n",
    "    time.sleep(10)\n",
    "    application_details = ai_client.data_mart.applications.get_details(application_id)\n",
    "print(\"Final application status: {}\".format(application_details['entity']['status']['state']) )\n",
    "run_details = ai_client.data_mart.applications.run(application_id)"
   ]
  }
 ],
 "metadata": {
  "kernelspec": {
   "display_name": "Python 3",
   "language": "python",
   "name": "python3"
  },
  "language_info": {
   "codemirror_mode": {
    "name": "ipython",
    "version": 3
   },
   "file_extension": ".py",
   "mimetype": "text/x-python",
   "name": "python",
   "nbconvert_exporter": "python",
   "pygments_lexer": "ipython3",
   "version": "3.7.3"
  }
 },
 "nbformat": 4,
 "nbformat_minor": 4
}
